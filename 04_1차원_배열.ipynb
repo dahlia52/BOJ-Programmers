{
  "nbformat": 4,
  "nbformat_minor": 0,
  "metadata": {
    "colab": {
      "provenance": [],
      "authorship_tag": "ABX9TyPy/tPNTJvh4XIBCePyrM9e",
      "include_colab_link": true
    },
    "kernelspec": {
      "name": "python3",
      "display_name": "Python 3"
    },
    "language_info": {
      "name": "python"
    }
  },
  "cells": [
    {
      "cell_type": "markdown",
      "metadata": {
        "id": "view-in-github",
        "colab_type": "text"
      },
      "source": [
        "<a href=\"https://colab.research.google.com/github/dahlia52/BAEKJOON/blob/main/04_1%EC%B0%A8%EC%9B%90_%EB%B0%B0%EC%97%B4.ipynb\" target=\"_parent\"><img src=\"https://colab.research.google.com/assets/colab-badge.svg\" alt=\"Open In Colab\"/></a>"
      ]
    },
    {
      "cell_type": "markdown",
      "source": [
        "https://www.acmicpc.net/step/6"
      ],
      "metadata": {
        "id": "z61VxPiBGouK"
      }
    },
    {
      "cell_type": "markdown",
      "source": [
        "- 10807번 개수 세기"
      ],
      "metadata": {
        "id": "QS1o1ejmGwtW"
      }
    },
    {
      "cell_type": "markdown",
      "source": [
        "총 N개의 정수가 주어졌을 때, 정수 v가 몇 개인지 구하는 프로그램을 작성하시오."
      ],
      "metadata": {
        "id": "djW-blmjVFpR"
      }
    },
    {
      "cell_type": "code",
      "source": [
        "n = int(input())\n",
        "count = 0;\n",
        "list1 = map(int, input().split())\n",
        "find = int(input())\n",
        "for i in list1:\n",
        "  if i==find:\n",
        "    count += 1;\n",
        "print(count)"
      ],
      "metadata": {
        "id": "KKNo3Ns8Gv9R",
        "colab": {
          "base_uri": "https://localhost:8080/"
        },
        "outputId": "887cb4be-b22e-40a7-805a-17d309565e6b"
      },
      "execution_count": null,
      "outputs": [
        {
          "output_type": "stream",
          "name": "stdout",
          "text": [
            "11\n",
            "1 4 1 2 4 2 4 2 3 4 4\n",
            "5\n",
            "0\n"
          ]
        }
      ]
    },
    {
      "cell_type": "markdown",
      "source": [
        "- 10871번 X보다 작은 수"
      ],
      "metadata": {
        "id": "AlLyCAg4XyO3"
      }
    },
    {
      "cell_type": "markdown",
      "source": [
        "정수 N개로 이루어진 수열 A와 정수 X가 주어진다. 이때, A에서 X보다 작은 수를 모두 출력하는 프로그램을 작성하시오."
      ],
      "metadata": {
        "id": "rlJFiZmMYw4h"
      }
    },
    {
      "cell_type": "code",
      "source": [
        "import sys\n",
        "n, x = map(int, input().split())\n",
        "small = map(int, input().split())\n",
        "small = list(small)\n",
        "for val in small:\n",
        "  if val < x:\n",
        "    print(val,end=\" \")"
      ],
      "metadata": {
        "colab": {
          "base_uri": "https://localhost:8080/"
        },
        "id": "irhIuW2uYwRO",
        "outputId": "fd0cf628-5263-4b09-ea6f-df4269ba09fa"
      },
      "execution_count": null,
      "outputs": [
        {
          "output_type": "stream",
          "name": "stdout",
          "text": [
            "10 5\n",
            "1 10 4 9 2 3 8 5 7 6\n",
            "1 4 2 3 "
          ]
        }
      ]
    },
    {
      "cell_type": "markdown",
      "source": [
        "- 10818번 최소, 최대"
      ],
      "metadata": {
        "id": "KclJU37HavYd"
      }
    },
    {
      "cell_type": "markdown",
      "source": [
        "첫째 줄에 정수의 개수 N (1 ≤ N ≤ 1,000,000)이 주어진다. 둘째 줄에는 N개의 정수를 공백으로 구분해서 주어진다. 모든 정수는 -1,000,000보다 크거나 같고, 1,000,000보다 작거나 같은 정수이다."
      ],
      "metadata": {
        "id": "zV0YfOC7a3W-"
      }
    },
    {
      "cell_type": "code",
      "source": [
        "n = int(input())\n",
        "list2 = list(map(int, input().split()))\n",
        "min = list2[0]\n",
        "max = list2[0]\n",
        "for i in range(n):\n",
        "  if list2[i] < min:\n",
        "    min = list2[i]\n",
        "  if list2[i] > max:\n",
        "    max = list2[i]\n",
        "print(min, max)"
      ],
      "metadata": {
        "colab": {
          "base_uri": "https://localhost:8080/"
        },
        "id": "3uLcYmM7bS39",
        "outputId": "79d9d2c4-b9b7-4de9-e0fd-529b58fba181"
      },
      "execution_count": null,
      "outputs": [
        {
          "output_type": "stream",
          "name": "stdout",
          "text": [
            "5\n",
            "20 10 35 30 7\n",
            "7 35\n"
          ]
        }
      ]
    },
    {
      "cell_type": "code",
      "source": [
        "n = int(input())\n",
        "list2 = list(map(int, input().split()))\n",
        "print(min(list2), max(list2))"
      ],
      "metadata": {
        "colab": {
          "base_uri": "https://localhost:8080/"
        },
        "id": "UBRrKNzocLLA",
        "outputId": "f3028c51-47d4-43ad-9bda-1a6f34bf5a1f"
      },
      "execution_count": null,
      "outputs": [
        {
          "output_type": "stream",
          "name": "stdout",
          "text": [
            "5\n",
            "20 10 35 30 7\n",
            "7 35\n"
          ]
        }
      ]
    },
    {
      "cell_type": "markdown",
      "source": [
        "- 2562번 최댓값"
      ],
      "metadata": {
        "id": "UvotDbdmj6l2"
      }
    },
    {
      "cell_type": "markdown",
      "source": [
        "9개의 서로 다른 자연수가 주어질 때, 이들 중 최댓값을 찾고 그 최댓값이 몇 번째 수인지를 구하는 프로그램을 작성하시오.\n",
        "\n",
        "예를 들어, 서로 다른 9개의 자연수\n",
        "\n",
        "3, 29, 38, 12, 57, 74, 40, 85, 61\n",
        "\n",
        "이 주어지면, 이들 중 최댓값은 85이고, 이 값은 8번째 수이다."
      ],
      "metadata": {
        "id": "4ouZjnWaj_fY"
      }
    },
    {
      "cell_type": "code",
      "source": [
        "list3 = []\n",
        "for i in range(9):\n",
        "  n = int(input())\n",
        "  list3.append(n)\n",
        "print(max(list3))\n",
        "print(list3.index(max(list3))+1)"
      ],
      "metadata": {
        "colab": {
          "base_uri": "https://localhost:8080/"
        },
        "id": "7hfHxSTQjg1o",
        "outputId": "29345599-77a7-4529-fdf1-e840d27553d9"
      },
      "execution_count": null,
      "outputs": [
        {
          "output_type": "stream",
          "name": "stdout",
          "text": [
            "4\n",
            "2\n",
            "28\n",
            "36\n",
            "50\n",
            "1\n",
            "81\n",
            "85\n",
            "3\n",
            "85\n",
            "8\n"
          ]
        }
      ]
    },
    {
      "cell_type": "markdown",
      "source": [
        "- 5597번 과제 안 내신 분..?"
      ],
      "metadata": {
        "id": "BA_88CZGyZ_4"
      }
    },
    {
      "cell_type": "markdown",
      "source": [
        "X대학 M교수님은 프로그래밍 수업을 맡고 있다. 교실엔 학생이 30명이 있는데, 학생 명부엔 각 학생별로 1번부터 30번까지 출석번호가 붙어 있다.\n",
        "\n",
        "교수님이 내준 특별과제를 28명이 제출했는데, 그 중에서 제출 안 한 학생 2명의 출석번호를 구하는 프로그램을 작성하시오."
      ],
      "metadata": {
        "id": "BRONykZfyduc"
      }
    },
    {
      "cell_type": "code",
      "source": [
        "list4 = []\n",
        "for i in range(28):\n",
        "  n = int(input())\n",
        "  list4.append(n)\n",
        "\n",
        "list5 = []\n",
        "for i in range(30):\n",
        "  if (i+1) not in list4:\n",
        "    list5.append(i+1)\n",
        "list5.sort()\n",
        "print(list5[0])\n",
        "print(list5[1])"
      ],
      "metadata": {
        "colab": {
          "base_uri": "https://localhost:8080/"
        },
        "id": "DppyVU3akx5X",
        "outputId": "a6505bfe-485a-4118-ddc7-bc61a90576d0"
      },
      "execution_count": null,
      "outputs": [
        {
          "output_type": "stream",
          "name": "stdout",
          "text": [
            "3\n",
            "1\n",
            "2\n",
            "5\n",
            "4\n",
            "18\n",
            "6\n",
            "9\n",
            "7\n",
            "21\n",
            "22\n",
            "30\n",
            "29\n",
            "26\n",
            "28\n",
            "27\n",
            "24\n",
            "22\n",
            "23\n",
            "20\n",
            "19\n",
            "24\n",
            "25\n",
            "15\n",
            "13\n",
            "12\n",
            "39\n",
            "28\n",
            "8\n",
            "10\n"
          ]
        }
      ]
    },
    {
      "cell_type": "code",
      "source": [
        "import numpy as np\n",
        "students = np.arange(1,31).tolist()\n",
        "for i in range(28):\n",
        "  n = int(input())\n",
        "  students.remove(n)\n",
        "print(min(students))\n",
        "print(max(students))"
      ],
      "metadata": {
        "colab": {
          "base_uri": "https://localhost:8080/"
        },
        "id": "z1h0zuGo0cRt",
        "outputId": "6e0806f5-be78-4746-d724-4fd0ca4c94d9"
      },
      "execution_count": null,
      "outputs": [
        {
          "output_type": "stream",
          "name": "stdout",
          "text": [
            "1\n",
            "2\n",
            "3\n",
            "4\n",
            "5\n",
            "6\n",
            "7\n",
            "8\n",
            "11\n",
            "12\n",
            "13\n",
            "14\n",
            "15\n",
            "16\n",
            "17\n",
            "18\n",
            "19\n",
            "20\n",
            "21\n",
            "22\n",
            "23\n",
            "24\n",
            "25\n",
            "26\n",
            "27\n",
            "28\n",
            "29\n",
            "30\n",
            "9\n",
            "10\n"
          ]
        }
      ]
    },
    {
      "cell_type": "markdown",
      "source": [
        "- 3052번 나머지"
      ],
      "metadata": {
        "id": "DUoCBg2i0Tv5"
      }
    },
    {
      "cell_type": "markdown",
      "source": [
        "두 자연수 A와 B가 있을 때, A%B는 A를 B로 나눈 나머지 이다. 예를 들어, 7, 14, 27, 38을 3으로 나눈 나머지는 1, 2, 0, 2이다. \n",
        "\n",
        "수 10개를 입력받은 뒤, 이를 42로 나눈 나머지를 구한다. 그 다음 서로 다른 값이 몇 개 있는지 출력하는 프로그램을 작성하시오."
      ],
      "metadata": {
        "id": "x-UEvilP2L-1"
      }
    },
    {
      "cell_type": "code",
      "source": [
        "set1 = set()\n",
        "for i in range(10):\n",
        "  n = int(input())\n",
        "  set1.add(n%42)\n",
        "print(len(set1))"
      ],
      "metadata": {
        "colab": {
          "base_uri": "https://localhost:8080/"
        },
        "id": "CNcCxkoC2Lb5",
        "outputId": "8cd6ff21-5c91-42ef-82c1-5871dd9a35d2"
      },
      "execution_count": null,
      "outputs": [
        {
          "output_type": "stream",
          "name": "stdout",
          "text": [
            "39\n",
            "40\n",
            "41\n",
            "42\n",
            "43\n",
            "44\n",
            "82\n",
            "83\n",
            "84\n",
            "85\n",
            "6\n"
          ]
        }
      ]
    },
    {
      "cell_type": "markdown",
      "source": [
        "- 1546번 평균"
      ],
      "metadata": {
        "id": "FFBKLxCB9ybl"
      }
    },
    {
      "cell_type": "markdown",
      "source": [
        "세준이는 기말고사를 망쳤다. 세준이는 점수를 조작해서 집에 가져가기로 했다. 일단 세준이는 자기 점수 중에 최댓값을 골랐다. 이 값을 M이라고 한다. 그리고 나서 모든 점수를 점수/M*100으로 고쳤다.\n",
        "\n",
        "예를 들어, 세준이의 최고점이 70이고, 수학점수가 50이었으면 수학점수는 50/70*100이 되어 71.43점이 된다.\n",
        "\n",
        "세준이의 성적을 위의 방법대로 새로 계산했을 때, 새로운 평균을 구하는 프로그램을 작성하시오.\n",
        "\n",
        "입력\n",
        "첫째 줄에 시험 본 과목의 개수 N이 주어진다. 이 값은 1000보다 작거나 같다. 둘째 줄에 세준이의 현재 성적이 주어진다. 이 값은 100보다 작거나 같은 음이 아닌 정수이고, 적어도 하나의 값은 0보다 크다."
      ],
      "metadata": {
        "id": "L4Z2jUXp915a"
      }
    },
    {
      "cell_type": "code",
      "source": [
        "n = int(input())\n",
        "scores = list(map(int, input().split()))\n",
        "print(sum(scores)/n * 100/max(scores))"
      ],
      "metadata": {
        "colab": {
          "base_uri": "https://localhost:8080/"
        },
        "id": "sK6V9D826Xq9",
        "outputId": "44d7e613-103c-4bce-cd90-627ced6541c9"
      },
      "execution_count": null,
      "outputs": [
        {
          "output_type": "stream",
          "name": "stdout",
          "text": [
            "3\n",
            "40 80 60\n",
            "75.0\n"
          ]
        }
      ]
    },
    {
      "cell_type": "markdown",
      "source": [
        "- 8958번 OX퀴즈"
      ],
      "metadata": {
        "id": "haTMImP2Ap56"
      }
    },
    {
      "cell_type": "markdown",
      "source": [
        "\"OOXXOXXOOO\"와 같은 OX퀴즈의 결과가 있다. O는 문제를 맞은 것이고, X는 문제를 틀린 것이다. 문제를 맞은 경우 그 문제의 점수는 그 문제까지 연속된 O의 개수가 된다. 예를 들어, 10번 문제의 점수는 3이 된다.\n",
        "\n",
        "\"OOXXOXXOOO\"의 점수는 1+2+0+0+1+0+0+1+2+3 = 10점이다.\n",
        "\n",
        "OX퀴즈의 결과가 주어졌을 때, 점수를 구하는 프로그램을 작성하시오."
      ],
      "metadata": {
        "id": "XhJiX3ZBDaTC"
      }
    },
    {
      "cell_type": "code",
      "source": [
        "n = int(input())\n",
        "for i in range(n):\n",
        "  scores = []\n",
        "  quiz = input()\n",
        "  for i in range(len(quiz)):\n",
        "    if quiz[i] == 'X':\n",
        "      scores.append(0)\n",
        "    elif i==0 or quiz[i-1] != 'O':\n",
        "      scores.append(1)\n",
        "    else:\n",
        "      scores.append(scores[-1]+1)\n",
        "  print(sum(scores))"
      ],
      "metadata": {
        "colab": {
          "base_uri": "https://localhost:8080/"
        },
        "id": "iMCn3K5B-nxm",
        "outputId": "0717e6da-da81-4118-94a6-97cb6924fbec"
      },
      "execution_count": null,
      "outputs": [
        {
          "output_type": "stream",
          "name": "stdout",
          "text": [
            "5\n",
            "OOXXOXXOOO\n",
            "10\n",
            "OOXXOOXXOO\n",
            "9\n",
            "OXOXOXOXOXOXOX\n",
            "7\n",
            "OOOOOOOOOO\n",
            "55\n",
            "OOOOXOOOOXOOOOX\n",
            "30\n"
          ]
        }
      ]
    },
    {
      "cell_type": "code",
      "source": [
        "n = int(input())\n",
        "for i in range(n):\n",
        "  score = 0\n",
        "  tot_scores = 0\n",
        "  quiz = input()\n",
        "  for i in range(len(quiz)):\n",
        "    if quiz[i] == 'X':\n",
        "      score = 0\n",
        "    else:\n",
        "      score += 1\n",
        "      tot_scores += score\n",
        "  print(tot_scores)"
      ],
      "metadata": {
        "colab": {
          "base_uri": "https://localhost:8080/"
        },
        "id": "8WVLA8HzPELH",
        "outputId": "c50ff030-4bdf-4a13-aed5-57566a859cbd"
      },
      "execution_count": null,
      "outputs": [
        {
          "output_type": "stream",
          "name": "stdout",
          "text": [
            "5\n",
            "OOXXOXXOOO\n",
            "10\n",
            "OOXXOOXXOO\n",
            "9\n",
            "OXOXOXOXOXOXOX\n",
            "7\n",
            "OOOOOOOOOO\n",
            "55\n",
            "OOOOXOOOOXOOOOX\n",
            "30\n"
          ]
        }
      ]
    },
    {
      "cell_type": "markdown",
      "source": [
        "- 4344번 평균은 넘겠지"
      ],
      "metadata": {
        "id": "FMB_lVcpODwU"
      }
    },
    {
      "cell_type": "markdown",
      "source": [
        "대학생 새내기들의 90%는 자신이 반에서 평균은 넘는다고 생각한다. 당신은 그들에게 슬픈 진실을 알려줘야 한다.\n",
        "\n"
      ],
      "metadata": {
        "id": "gGiqzJvjOGA7"
      }
    },
    {
      "cell_type": "markdown",
      "source": [
        "- round(,3) 이용 시, 40.0% 로 표시\n",
        "  -> '%.3f'로 형식지정자를 이용해야 40.000%로 표시됨.\n",
        "\n",
        "- 리스트에서 조건에 맞는 값만 추출하기\n",
        "\n",
        "\n",
        "```\n",
        "list(filter(lambda x: 조건, 리스트))\n",
        "```\n",
        "\n"
      ],
      "metadata": {
        "id": "SChxH5ISVOQ7"
      }
    },
    {
      "cell_type": "code",
      "source": [
        "n = int(input())\n",
        "for i in range(n):\n",
        "    scores = list(map(int, input().split()))\n",
        "    stu_num = scores[0]\n",
        "    avg = (sum(scores) - stu_num)/stu_num\n",
        "    up = 0.0\n",
        "    for i in range(1, stu_num+1):\n",
        "      if scores[i] > avg:\n",
        "        up+=1\n",
        "    print('%.3f%%' %(up/stu_num * 100))"
      ],
      "metadata": {
        "colab": {
          "base_uri": "https://localhost:8080/"
        },
        "id": "4HbWgZnvMYG2",
        "outputId": "094ca819-2ec9-4863-d981-aec519658b33"
      },
      "execution_count": null,
      "outputs": [
        {
          "output_type": "stream",
          "name": "stdout",
          "text": [
            "3\n",
            "5 50 50 70 80 100\n",
            "40.000%\n",
            "7 100 95 90 80 70 60 50\n",
            "57.143%\n",
            "3 70 90 80\n",
            "33.333%\n"
          ]
        }
      ]
    },
    {
      "cell_type": "code",
      "source": [
        "n = int(input())\n",
        "for i in range(n):\n",
        "    scores = list(map(int, input().split()))\n",
        "    stu_num = scores[0]\n",
        "    del scores[0]\n",
        "    avg = sum(scores)/stu_num\n",
        "    up = len(list(filter(lambda x: x>avg, scores)))\n",
        "    print('%.3f%%' %(up/stu_num * 100))"
      ],
      "metadata": {
        "colab": {
          "base_uri": "https://localhost:8080/"
        },
        "id": "cP-7jZzISdNj",
        "outputId": "4a04e4f4-4070-47f6-aa34-de0cd6e1c761"
      },
      "execution_count": null,
      "outputs": [
        {
          "output_type": "stream",
          "name": "stdout",
          "text": [
            "3\n",
            "5 50 50 70 80 100\n",
            "40.000%\n",
            "7 100 95 90 80 70 60 50\n",
            "57.143%\n",
            "3 70 90 80\n",
            "33.333%\n"
          ]
        }
      ]
    }
  ]
}