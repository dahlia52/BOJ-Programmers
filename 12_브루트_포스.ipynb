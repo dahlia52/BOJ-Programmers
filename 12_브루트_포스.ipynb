{
  "nbformat": 4,
  "nbformat_minor": 0,
  "metadata": {
    "colab": {
      "provenance": [],
      "authorship_tag": "ABX9TyM4H6No1Bc8Ta3REb1DZZ9l",
      "include_colab_link": true
    },
    "kernelspec": {
      "name": "python3",
      "display_name": "Python 3"
    },
    "language_info": {
      "name": "python"
    }
  },
  "cells": [
    {
      "cell_type": "markdown",
      "metadata": {
        "id": "view-in-github",
        "colab_type": "text"
      },
      "source": [
        "<a href=\"https://colab.research.google.com/github/dahlia52/BAEKJOON/blob/main/12_%EB%B8%8C%EB%A3%A8%ED%8A%B8_%ED%8F%AC%EC%8A%A4.ipynb\" target=\"_parent\"><img src=\"https://colab.research.google.com/assets/colab-badge.svg\" alt=\"Open In Colab\"/></a>"
      ]
    },
    {
      "cell_type": "markdown",
      "source": [
        "https://www.acmicpc.net/step/22"
      ],
      "metadata": {
        "id": "HP7L4DksJ8D_"
      }
    },
    {
      "cell_type": "markdown",
      "source": [
        "## 브루트 포스"
      ],
      "metadata": {
        "id": "8pX-U0FSOdAH"
      }
    },
    {
      "cell_type": "markdown",
      "source": [
        "브루트 포스(brute force, 무식한 힘)\n",
        "\n",
        "참고: https://hcr3066.tistory.com/26\n",
        "\n",
        "- **완전탐색 알고리즘**: 가능한 모든 경우의 수를 모두 탐색하면서 요구조건에 충족되는 결과만을 가져옴.\n",
        "\n",
        "- 예외 없이 100%의 확률로 정답만을 출력함.\n",
        "\n",
        "- 일반적 방법으로 문제를 해결하기 위해서는 모든 자료를 탐색해야 하기 때문에 특정한 구조를 전체적으로 탐색할 수 있는 방법을 필요로 함. \n",
        "알고리즘 설계의 가장 기본적인 접근 방법은 해가 존재할 것으로 예상되는 모든 영역을 전체 탐색하는 방법이다.\n",
        "선형 구조를 전체적으로 탐색하는 순차 탐색, 비선형 구조를 전체적으로 탐색하는 깊이 우선 탐색(**DFS**, Depth First Search)과 너비 우선 탐색(**BFS**, breadth first search)이 가장 기본적인 도구이다.\n",
        "\n",
        "\n",
        "- 문제해결 방법\n",
        "\n",
        " ① 주어진 문제를 선형 구조로 구조화한다.\n",
        "\n",
        " ② 구조화된 문제공간을 적절한 방법으로 해를 구성할 때까지 탐색한다.\n",
        "\n",
        " ③ 구성된 해를 정리한다."
      ],
      "metadata": {
        "id": "3Fh4lk-BOoKg"
      }
    },
    {
      "cell_type": "markdown",
      "source": [
        "## 2798번 블랙잭"
      ],
      "metadata": {
        "id": "mcDB7DAmJ5Au"
      }
    },
    {
      "cell_type": "markdown",
      "source": [
        "카지노에서 제일 인기 있는 게임 블랙잭의 규칙은 상당히 쉽다. 카드의 합이 21을 넘지 않는 한도 내에서, 카드의 합을 최대한 크게 만드는 게임이다. 블랙잭은 카지노마다 다양한 규정이 있다.\n",
        "\n",
        "한국 최고의 블랙잭 고수 김정인은 새로운 블랙잭 규칙을 만들어 상근, 창영이와 게임하려고 한다.\n",
        "\n",
        "김정인 버전의 블랙잭에서 각 카드에는 양의 정수가 쓰여 있다. 그 다음, 딜러는 N장의 카드를 모두 숫자가 보이도록 바닥에 놓는다. 그런 후에 딜러는 숫자 M을 크게 외친다.\n",
        "\n",
        "이제 플레이어는 제한된 시간 안에 N장의 카드 중에서 3장의 카드를 골라야 한다. 블랙잭 변형 게임이기 때문에, 플레이어가 고른 카드의 합은 M을 넘지 않으면서 M과 최대한 가깝게 만들어야 한다.\n",
        "\n",
        "N장의 카드에 써져 있는 숫자가 주어졌을 때, M을 넘지 않으면서 M에 최대한 가까운 카드 3장의 합을 구해 출력하시오."
      ],
      "metadata": {
        "id": "FQFzYW5cKNnf"
      }
    },
    {
      "cell_type": "code",
      "execution_count": null,
      "metadata": {
        "colab": {
          "base_uri": "https://localhost:8080/"
        },
        "id": "X5vOgowrJ4ax",
        "outputId": "56b80226-b793-48b5-d793-4c9c7684e0e2"
      },
      "outputs": [
        {
          "output_type": "stream",
          "name": "stdout",
          "text": [
            "4 100\n",
            "50 2 5 800\n",
            "57\n"
          ]
        }
      ],
      "source": [
        "n, m = map(int, input().split())\n",
        "card = list(map(int, input().split()))\n",
        "card.insert(0,0)\n",
        "card.sort()\n",
        "sum1 = -1000000\n",
        "if n == 3:\n",
        "  sum1 = sum(card)\n",
        "else:\n",
        "  for i in range(1,n-1):\n",
        "    for j in range(i+1,n):\n",
        "      for w in range(j+1,n+1):\n",
        "        temp = card[i] + card[j] + card[w]\n",
        "        if temp <= m:\n",
        "          if m - temp < m - sum1:\n",
        "            sum1 = temp\n",
        "print(sum1)"
      ]
    },
    {
      "cell_type": "markdown",
      "source": [
        "- 순열과 조합 이용헌 풀이\n",
        "\n",
        "참고: https://velog.io/@jeongdopark/Algorithm-python-%EB%B0%B1%EC%A4%80-2798%EB%B2%88"
      ],
      "metadata": {
        "id": "ig_nrCNL3oPd"
      }
    },
    {
      "cell_type": "code",
      "source": [
        "from itertools import permutations\n",
        "n, m = map(int, input().split())\n",
        "card = list(map(int, input().split()))\n",
        "permutationArray = permutations(card,3)\n",
        "sum1 = 0\n",
        "for i in permutationArray:\n",
        "  if (sum(i)<=m):\n",
        "    sum1 = max(sum1, sum(i))\n",
        "print(sum1)"
      ],
      "metadata": {
        "colab": {
          "base_uri": "https://localhost:8080/"
        },
        "id": "RrJrJa-J3tLA",
        "outputId": "e34bf2be-4e86-4db5-8bfc-14015a3d3bb1"
      },
      "execution_count": null,
      "outputs": [
        {
          "output_type": "stream",
          "name": "stdout",
          "text": [
            "4 100\n",
            "50 2 5 800\n",
            "57\n"
          ]
        }
      ]
    },
    {
      "cell_type": "code",
      "source": [
        "for i in permutationArray:\n",
        "  print(i)"
      ],
      "metadata": {
        "colab": {
          "base_uri": "https://localhost:8080/"
        },
        "id": "bGlNBxT44VHR",
        "outputId": "850db46d-4f84-4d88-af3b-c9344734c04d"
      },
      "execution_count": null,
      "outputs": [
        {
          "output_type": "stream",
          "name": "stdout",
          "text": [
            "(50, 2, 5)\n",
            "(50, 2, 800)\n",
            "(50, 5, 2)\n",
            "(50, 5, 800)\n",
            "(50, 800, 2)\n",
            "(50, 800, 5)\n",
            "(2, 50, 5)\n",
            "(2, 50, 800)\n",
            "(2, 5, 50)\n",
            "(2, 5, 800)\n",
            "(2, 800, 50)\n",
            "(2, 800, 5)\n",
            "(5, 50, 2)\n",
            "(5, 50, 800)\n",
            "(5, 2, 50)\n",
            "(5, 2, 800)\n",
            "(5, 800, 50)\n",
            "(5, 800, 2)\n",
            "(800, 50, 2)\n",
            "(800, 50, 5)\n",
            "(800, 2, 50)\n",
            "(800, 2, 5)\n",
            "(800, 5, 50)\n",
            "(800, 5, 2)\n"
          ]
        }
      ]
    },
    {
      "cell_type": "markdown",
      "source": [
        "- 2231번 분해합"
      ],
      "metadata": {
        "id": "xIJMEEPJKBnh"
      }
    },
    {
      "cell_type": "markdown",
      "source": [
        "어떤 자연수 N이 있을 때, 그 자연수 N의 분해합은 N과 N을 이루는 각 자리수의 합을 의미한다. 어떤 자연수 M의 분해합이 N인 경우, M을 N의 생성자라 한다. 예를 들어, 245의 분해합은 256(=245+2+4+5)이 된다. 따라서 245는 256의 생성자가 된다. 물론, 어떤 자연수의 경우에는 생성자가 없을 수도 있다. 반대로, 생성자가 여러 개인 자연수도 있을 수 있다.\n",
        "\n",
        "자연수 N이 주어졌을 때, N의 가장 작은 생성자를 구해내는 프로그램을 작성하시오."
      ],
      "metadata": {
        "id": "2e3cVQs6zUOh"
      }
    },
    {
      "cell_type": "markdown",
      "source": [
        "- n은 1이상 1000000 이하이므로 생성자는 최대 6자리이므로 각 자리수의 합은 최대 54\n",
        "\n",
        "-> 입력받은 값보다 54작은 수부터 확인하면 됨."
      ],
      "metadata": {
        "id": "VxHgPnDJz-7R"
      }
    },
    {
      "cell_type": "code",
      "source": [
        "n = int(input())\n",
        "def saengsungja(n):\n",
        "  for i in range(1, n+1):\n",
        "    if (i+ sum([int(str(i)[j]) for j in range(len(str(i)))])) == n:\n",
        "      return i\n",
        "  return 0\n",
        "print(saengsungja(n))"
      ],
      "metadata": {
        "colab": {
          "base_uri": "https://localhost:8080/"
        },
        "id": "jGXOdjIIVV9p",
        "outputId": "915b3877-0ae3-4dbb-e3cd-580cb469b136"
      },
      "execution_count": null,
      "outputs": [
        {
          "output_type": "stream",
          "name": "stdout",
          "text": [
            "216\n",
            "198\n"
          ]
        }
      ]
    },
    {
      "cell_type": "code",
      "source": [
        "n = int(input())\n",
        "for i in range(1, n+1):\n",
        "    num = sum((map(int, str(i))))  # 각 자릿수의 합 \n",
        "    if i + num == n:\n",
        "        print(i)\n",
        "        break\n",
        "    if i == n:  # 생성자가 없으면\n",
        "        print(0)"
      ],
      "metadata": {
        "id": "oA0XoCv6KC0p",
        "colab": {
          "base_uri": "https://localhost:8080/"
        },
        "outputId": "048852ad-242b-4f9b-ac07-6fa6ab0cd5b3"
      },
      "execution_count": null,
      "outputs": [
        {
          "output_type": "stream",
          "name": "stdout",
          "text": [
            "1000000\n",
            "0\n"
          ]
        }
      ]
    },
    {
      "cell_type": "markdown",
      "source": [
        "- 7568번 덩치"
      ],
      "metadata": {
        "id": "_KHc0_xbKEKH"
      }
    },
    {
      "cell_type": "markdown",
      "source": [
        "우리는 사람의 덩치를 키와 몸무게, 이 두 개의 값으로 표현하여 그 등수를 매겨보려고 한다. 어떤 사람의 몸무게가 x kg이고 키가 y cm라면 이 사람의 덩치는 (x, y)로 표시된다. 두 사람 A 와 B의 덩치가 각각 (x, y), (p, q)라고 할 때 x > p 그리고 y > q 이라면 우리는 A의 덩치가 B의 덩치보다 \"더 크다\"고 말한다. 예를 들어 어떤 A, B 두 사람의 덩치가 각각 (56, 177), (45, 165) 라고 한다면 A의 덩치가 B보다 큰 셈이 된다. 그런데 서로 다른 덩치끼리 크기를 정할 수 없는 경우도 있다. 예를 들어 두 사람 C와 D의 덩치가 각각 (45, 181), (55, 173)이라면 몸무게는 D가 C보다 더 무겁고, 키는 C가 더 크므로, \"덩치\"로만 볼 때 C와 D는 누구도 상대방보다 더 크다고 말할 수 없다.\n",
        "\n",
        "N명의 집단에서 각 사람의 덩치 등수는 자신보다 더 \"큰 덩치\"의 사람의 수로 정해진다. 만일 자신보다 더 큰 덩치의 사람이 k명이라면 그 사람의 덩치 등수는 k+1이 된다. 이렇게 등수를 결정하면 같은 덩치 등수를 가진 사람은 여러 명도 가능하다. 아래는 5명으로 이루어진 집단에서 각 사람의 덩치와 그 등수가 표시된 표이다."
      ],
      "metadata": {
        "id": "ADjnqziebtvp"
      }
    },
    {
      "cell_type": "code",
      "source": [
        "n = int(input())\n",
        "ranking = []\n",
        "for i in range(n):\n",
        "  ranking.append(list(map(int, input().split())) + list([i]))\n",
        "ranking_sort = ranking.copy()\n",
        "ranking_sort.sort()\n",
        "for i in range(n):\n",
        "  cnt = 1\n",
        "  for j in range(i+1,n):\n",
        "    if ranking_sort[i][0] < ranking_sort[j][0] and ranking_sort[i][1] < ranking_sort[j][1]:\n",
        "      cnt +=1\n",
        "  ranking_sort[i].append(cnt)\n",
        "ranking_sort.sort(key=lambda x: x[2])\n",
        "for i in range(n):\n",
        "  print(ranking_sort[i][3], end=\" \")"
      ],
      "metadata": {
        "colab": {
          "base_uri": "https://localhost:8080/"
        },
        "id": "vixiefaDbtRJ",
        "outputId": "8bbf6f36-275c-4445-ea08-4a5c7ae134c6"
      },
      "execution_count": null,
      "outputs": [
        {
          "output_type": "stream",
          "name": "stdout",
          "text": [
            "5\n",
            "55 185\n",
            "58 183\n",
            "88 186\n",
            "60 175\n",
            "46 155\n",
            "2 2 1 2 5 "
          ]
        }
      ]
    },
    {
      "cell_type": "code",
      "source": [
        "import sys\n",
        "n = int(input())\n",
        "ranking = []\n",
        "for i in range(n):\n",
        "  ranking.append(list(map(int, sys.stdin.readline().split())) + list([i]))\n",
        "ranking_sort = ranking.copy()\n",
        "ranking_sort.sort()\n",
        "for i in range(n):\n",
        "  cnt = 1\n",
        "  for j in range(i+1,n):\n",
        "    if ranking_sort[i][0] < ranking_sort[j][0] and ranking_sort[i][1] < ranking_sort[j][1]:\n",
        "      cnt +=1\n",
        "  ranking_sort[i].append(cnt)\n",
        "ranking_sort.sort(key=lambda x: x[2])\n",
        "for i in range(n):\n",
        "  print(ranking_sort[i][3], end=\" \")"
      ],
      "metadata": {
        "id": "nrX-_9aFjcuG"
      },
      "execution_count": null,
      "outputs": []
    },
    {
      "cell_type": "markdown",
      "source": [
        "- 1018번 체스판 다시 칠하기"
      ],
      "metadata": {
        "id": "ijA5ncuCKGXO"
      }
    },
    {
      "cell_type": "markdown",
      "source": [
        "지민이는 자신의 저택에서 MN개의 단위 정사각형으로 나누어져 있는 M×N 크기의 보드를 찾았다. 어떤 정사각형은 검은색으로 칠해져 있고, 나머지는 흰색으로 칠해져 있다. 지민이는 이 보드를 잘라서 8×8 크기의 체스판으로 만들려고 한다.\n",
        "\n",
        "체스판은 검은색과 흰색이 번갈아서 칠해져 있어야 한다. 구체적으로, 각 칸이 검은색과 흰색 중 하나로 색칠되어 있고, 변을 공유하는 두 개의 사각형은 다른 색으로 칠해져 있어야 한다. 따라서 이 정의를 따르면 체스판을 색칠하는 경우는 두 가지뿐이다. 하나는 맨 왼쪽 위 칸이 흰색인 경우, 하나는 검은색인 경우이다.\n",
        "\n",
        "보드가 체스판처럼 칠해져 있다는 보장이 없어서, 지민이는 8×8 크기의 체스판으로 잘라낸 후에 몇 개의 정사각형을 다시 칠해야겠다고 생각했다. 당연히 8*8 크기는 아무데서나 골라도 된다. 지민이가 다시 칠해야 하는 정사각형의 최소 개수를 구하는 프로그램을 작성하시오."
      ],
      "metadata": {
        "id": "uQzNvWIMyygi"
      }
    },
    {
      "cell_type": "code",
      "source": [
        "n, m = map(int, input().split())\n",
        "chess = []\n",
        "min_cnt = []\n",
        "for i in range(n):\n",
        "  k = []\n",
        "  s = list(input())\n",
        "  for j in range(m):\n",
        "    k.append(s[j])\n",
        "  chess.append(k) # nxm 체스판 완성\n",
        "for i in range(n-7):\n",
        "  chess_s = chess[i:8+i] # 8xm 체스판 추출\n",
        "  for h in range(m-7):\n",
        "    ch = []\n",
        "    for m in range(8):\n",
        "      ch += chess_s[m][h:8+h] # 8x8 체스판 일렬로 붙이기\n",
        "    fix = 0\n",
        "    for k in range(64):\n",
        "      if k% 16 <8:\n",
        "        if k%2 ==0 and ch[k] == 'W':\n",
        "          continue\n",
        "        elif k%2 ==1 and ch[k] == 'B':\n",
        "          continue\n",
        "        else:\n",
        "          fix +=1\n",
        "      else:\n",
        "        if k%2 ==0 and ch[k] == 'B':\n",
        "          continue\n",
        "        elif k%2 == 1 and ch[k] == 'W':\n",
        "          continue\n",
        "        else:\n",
        "          fix +=1\n",
        "    min_cnt.append(min(fix,64-fix))\n",
        "print(min(min_cnt))"
      ],
      "metadata": {
        "colab": {
          "base_uri": "https://localhost:8080/"
        },
        "id": "XjkhEcqAB6y1",
        "outputId": "041a9d54-5cf7-4fce-b4ae-b3317becc26e"
      },
      "execution_count": null,
      "outputs": [
        {
          "output_type": "stream",
          "name": "stdout",
          "text": [
            "10 10\n",
            "BBBBBBBBBB\n",
            "BBWBWBWBWB\n",
            "BWBWBWBWBB\n",
            "BBWBWBWBWB\n",
            "BWBWBWBWBB\n",
            "BBWBWBWBWB\n",
            "BWBWBWBWBB\n",
            "BBWBWBWBWB\n",
            "BWBWBWBWBB\n",
            "BBBBBBBBBB\n",
            "4\n"
          ]
        }
      ]
    },
    {
      "cell_type": "code",
      "source": [
        "n, m = map(int, input().split())\n",
        "chess = []\n",
        "min_cnt = []\n",
        "for i in range(n):\n",
        "  k = []\n",
        "  s = list(input())\n",
        "  for j in range(m):\n",
        "    k.append(s[j])\n",
        "  chess.append(k) # nxm 체스판 완성\n",
        "for i in range(n-7):\n",
        "  chess_s = chess[i:8+i] # 8xm 체스판 추출\n",
        "  for h in range(m-7):\n",
        "    ch = []\n",
        "    for m in range(8):\n",
        "      ch += chess_s[m][h:8+h] # 8x8 체스판 일렬로 붙이기\n",
        "    fix = 0\n",
        "    for k in range(64):\n",
        "      if k% 16 <8:\n",
        "        if k%2 ==0 and ch[k] == 'W':\n",
        "          fix +=1\n",
        "        elif k%2 ==1 and ch[k] == 'B':\n",
        "          fix +=1\n",
        "      else:\n",
        "        if k%2 ==0 and ch[k] == 'B':\n",
        "          fix +=1\n",
        "        elif k%2 == 1 and ch[k] == 'W':\n",
        "          fix +=1          \n",
        "    min_cnt.append(fix)\n",
        "    fix = 0\n",
        "    for k in range(64):\n",
        "      if k% 16 <8:\n",
        "        if k%2 ==0 and ch[k] == 'B':\n",
        "          fix +=1\n",
        "        elif k%2 ==1 and ch[k] == 'W':\n",
        "          fix +=1\n",
        "      else:\n",
        "        if k%2 ==0 and ch[k] == 'W':\n",
        "          fix +=1\n",
        "        elif k%2 == 1 and ch[k] == 'B':\n",
        "          fix +=1\n",
        "    min_cnt.append(fix)\n",
        "print(min(min_cnt))"
      ],
      "metadata": {
        "colab": {
          "base_uri": "https://localhost:8080/"
        },
        "id": "RsWOxcBF8XEy",
        "outputId": "6ca7b1b5-e5fd-4bfd-a76e-08663dc0f4d1"
      },
      "execution_count": null,
      "outputs": [
        {
          "output_type": "stream",
          "name": "stdout",
          "text": [
            "9 23\n",
            "BBBBBBBBBBBBBBBBBBBBBBB\n",
            "BBBBBBBBBBBBBBBBBBBBBBB\n",
            "BBBBBBBBBBBBBBBBBBBBBBB\n",
            "BBBBBBBBBBBBBBBBBBBBBBB\n",
            "BBBBBBBBBBBBBBBBBBBBBBB\n",
            "BBBBBBBBBBBBBBBBBBBBBBB\n",
            "BBBBBBBBBBBBBBBBBBBBBBB\n",
            "BBBBBBBBBBBBBBBBBBBBBBB\n",
            "BBBBBBBBBBBBBBBBBBBBBBW\n",
            "32\n"
          ]
        }
      ]
    },
    {
      "cell_type": "code",
      "source": [],
      "metadata": {
        "id": "NUHONLRIgKcw"
      },
      "execution_count": null,
      "outputs": []
    },
    {
      "cell_type": "code",
      "source": [
        "n, m = map(int, input().split())\n",
        "chess = []\n",
        "min_cnt = []\n",
        "for i in range(n):\n",
        "  k = []\n",
        "  s = list(input())\n",
        "  for j in range(m):\n",
        "    k.append(s[j])\n",
        "  chess.append(k) # nxm 체스판 완성\n",
        "for i in range(n-7):\n",
        "  for h in range(m-7):\n",
        "    ch = []\n",
        "    for m in range(8):\n",
        "      ch += chess[i:8+i][m][h:8+h] # 8x8 체스판 일렬로 붙이기\n",
        "    fix = 0\n",
        "    for k in range(64):\n",
        "      if k% 16 <8:\n",
        "        if k%2 ==0 and ch[k] == 'W': # 홀수번째 줄이 BWBWBWBW 꼴일때\n",
        "          fix +=1\n",
        "        elif k%2 ==1 and ch[k] == 'B':\n",
        "          fix +=1\n",
        "      else:\n",
        "        if k%2 ==0 and ch[k] == 'B':# 짝수번째 줄은 WBWBWBWB 꼴\n",
        "          fix +=1\n",
        "        elif k%2 == 1 and ch[k] == 'W':\n",
        "          fix +=1          \n",
        "    min_cnt.append(fix)\n",
        "    fix = 0\n",
        "    for k in range(64):\n",
        "      if k% 16 <8:\n",
        "        if k%2 ==0 and ch[k] == 'B': # 홀수번째 줄이 WBWBWBWB 꼴일 때\n",
        "          fix +=1\n",
        "        elif k%2 ==1 and ch[k] == 'W':\n",
        "          fix +=1\n",
        "      else:\n",
        "        if k%2 ==0 and ch[k] == 'W': # 짝수번째 줄은 BWBWBWBW 꼴\n",
        "          fix +=1\n",
        "        elif k%2 == 1 and ch[k] == 'B':\n",
        "          fix +=1\n",
        "    min_cnt.append(fix)\n",
        "print(min(min_cnt))"
      ],
      "metadata": {
        "colab": {
          "base_uri": "https://localhost:8080/"
        },
        "id": "hJ9dVSnpaPQ2",
        "outputId": "66773276-b730-4f5c-b1a5-8b9582a66375"
      },
      "execution_count": null,
      "outputs": [
        {
          "output_type": "stream",
          "name": "stdout",
          "text": [
            "9 23\n",
            "BBBBBBBBBBBBBBBBBBBBBBB\n",
            "BBBBBBBBBBBBBBBBBBBBBBB\n",
            "BBBBBBBBBBBBBBBBBBBBBBB\n",
            "BBBBBBBBBBBBBBBBBBBBBBB\n",
            "BBBBBBBBBBBBBBBBBBBBBBB\n",
            "BBBBBBBBBBBBBBBBBBBBBBB\n",
            "BBBBBBBBBBBBBBBBBBBBBBB\n",
            "BBBBBBBBBBBBBBBBBBBBBBB\n",
            "BBBBBBBBBBBBBBBBBBBBBBW\n",
            "32\n"
          ]
        }
      ]
    },
    {
      "cell_type": "code",
      "source": [
        "min_cnt"
      ],
      "metadata": {
        "colab": {
          "base_uri": "https://localhost:8080/"
        },
        "id": "ruahg3Mz-BHq",
        "outputId": "3cf5e2dd-aa24-4d94-96b0-934b9fc37a44"
      },
      "execution_count": null,
      "outputs": [
        {
          "output_type": "execute_result",
          "data": {
            "text/plain": [
              "[32,\n",
              " 32,\n",
              " 32,\n",
              " 32,\n",
              " 32,\n",
              " 32,\n",
              " 32,\n",
              " 32,\n",
              " 32,\n",
              " 32,\n",
              " 32,\n",
              " 32,\n",
              " 32,\n",
              " 32,\n",
              " 32,\n",
              " 32,\n",
              " 32,\n",
              " 32,\n",
              " 32,\n",
              " 32,\n",
              " 32,\n",
              " 32,\n",
              " 32,\n",
              " 32,\n",
              " 32,\n",
              " 32,\n",
              " 32,\n",
              " 32,\n",
              " 32,\n",
              " 32,\n",
              " 32,\n",
              " 32]"
            ]
          },
          "metadata": {},
          "execution_count": 96
        }
      ]
    },
    {
      "cell_type": "code",
      "source": [
        "n, m = map(int, input().split())\n",
        "chess = []\n",
        "min_cnt = []\n",
        "for _ in range(n):\n",
        "  chess.append(input())\n",
        "for i in range(n-7):\n",
        "  for j in range(m-7):\n",
        "    fix1 = 0\n",
        "    fix2 = 0\n",
        "    for a in range(i,i+8):\n",
        "      for b in range(j, j+8):\n",
        "        if (a+b) % 2 == 0:\n",
        "          if chess[a][b] == 'B':\n",
        "            fix1 +=1 \n",
        "          if chess[a][b] == 'W':\n",
        "            fix2 +=1 \n",
        "        else:\n",
        "          if chess[a][b] == 'W':\n",
        "            fix1 +=1\n",
        "          if chess[a][b] == 'B':\n",
        "            fix2 +=1\n",
        "    min_cnt.append(fix1)\n",
        "    min_cnt.append(fix2)\n",
        "print(min(min_cnt))"
      ],
      "metadata": {
        "colab": {
          "base_uri": "https://localhost:8080/"
        },
        "id": "RVaMaYuLxo_V",
        "outputId": "aa8b0015-fb27-43d4-fd61-5560e2941f04"
      },
      "execution_count": null,
      "outputs": [
        {
          "output_type": "stream",
          "name": "stdout",
          "text": [
            "9 23\n",
            "BBBBBBBBBBBBBBBBBBBBBBB\n",
            "BBBBBBBBBBBBBBBBBBBBBBB\n",
            "BBBBBBBBBBBBBBBBBBBBBBB\n",
            "BBBBBBBBBBBBBBBBBBBBBBB\n",
            "BBBBBBBBBBBBBBBBBBBBBBB\n",
            "BBBBBBBBBBBBBBBBBBBBBBB\n",
            "BBBBBBBBBBBBBBBBBBBBBBB\n",
            "BBBBBBBBBBBBBBBBBBBBBBB\n",
            "BBBBBBBBBBBBBBBBBBBBBBW\n",
            "31\n"
          ]
        }
      ]
    },
    {
      "cell_type": "code",
      "source": [
        "len(min_cnt)"
      ],
      "metadata": {
        "colab": {
          "base_uri": "https://localhost:8080/"
        },
        "id": "pGyhMLkx-P1G",
        "outputId": "a1588a9f-5fa0-4aae-a56e-9388d9e613ca"
      },
      "execution_count": null,
      "outputs": [
        {
          "output_type": "execute_result",
          "data": {
            "text/plain": [
              "64"
            ]
          },
          "metadata": {},
          "execution_count": 99
        }
      ]
    },
    {
      "cell_type": "code",
      "source": [
        "chess[1:9][7][15:23]"
      ],
      "metadata": {
        "colab": {
          "base_uri": "https://localhost:8080/"
        },
        "id": "s_sDEyU7fiY-",
        "outputId": "726f4470-0f0f-442b-e08b-9512181773de"
      },
      "execution_count": null,
      "outputs": [
        {
          "output_type": "execute_result",
          "data": {
            "text/plain": [
              "['B', 'B', 'B', 'B', 'B', 'B', 'B', 'W']"
            ]
          },
          "metadata": {},
          "execution_count": 49
        }
      ]
    },
    {
      "cell_type": "code",
      "source": [
        "for i in range(8):\n",
        "  print(ch[8*i:8*i+8])"
      ],
      "metadata": {
        "colab": {
          "base_uri": "https://localhost:8080/"
        },
        "id": "4T-jaO8ngmvX",
        "outputId": "a0dc936e-63e2-4b88-fad8-24d8c309491d"
      },
      "execution_count": null,
      "outputs": [
        {
          "output_type": "stream",
          "name": "stdout",
          "text": [
            "['B', 'B', 'B', 'B', 'B', 'B', 'B', 'B']\n",
            "['B', 'B', 'B', 'B', 'B', 'B', 'B', 'B']\n",
            "['B', 'B', 'B', 'B', 'B', 'B', 'B', 'B']\n",
            "['B', 'B', 'B', 'B', 'B', 'B', 'B', 'B']\n",
            "['B', 'B', 'B', 'B', 'B', 'B', 'B', 'B']\n",
            "['B', 'B', 'B', 'B', 'B', 'B', 'B', 'B']\n",
            "['B', 'B', 'B', 'B', 'B', 'B', 'B', 'B']\n",
            "['B', 'B', 'B', 'B', 'B', 'B', 'B', 'B']\n"
          ]
        }
      ]
    },
    {
      "cell_type": "code",
      "source": [
        "for i in range(n-7):\n",
        "  for h in range(m-7):\n",
        "    ch = []\n",
        "    for m in range(8):\n",
        "      ch += chess[i:8+i][m][h:8+h] # 8x8 체스판 일렬로 붙이기\n",
        "      print(ch,\"\\n\")"
      ],
      "metadata": {
        "id": "efi0xKyVqSCg"
      },
      "execution_count": null,
      "outputs": []
    },
    {
      "cell_type": "markdown",
      "source": [
        "- 1436번 영화감독 숌"
      ],
      "metadata": {
        "id": "yG_VE7uNKJT3"
      }
    },
    {
      "cell_type": "markdown",
      "source": [
        "666은 종말을 나타내는 숫자라고 한다. 따라서, 많은 블록버스터 영화에서는 666이 들어간 제목을 많이 사용한다. 영화감독 숌은 세상의 종말 이라는 시리즈 영화의 감독이다. 조지 루카스는 스타워즈를 만들 때, 스타워즈 1, 스타워즈 2, 스타워즈 3, 스타워즈 4, 스타워즈 5, 스타워즈 6과 같이 이름을 지었고, 피터 잭슨은 반지의 제왕을 만들 때, 반지의 제왕 1, 반지의 제왕 2, 반지의 제왕 3과 같이 영화 제목을 지었다.\n",
        "\n",
        "하지만 숌은 자신이 조지 루카스와 피터 잭슨을 뛰어넘는다는 것을 보여주기 위해서 영화 제목을 좀 다르게 만들기로 했다.\n",
        "\n",
        "종말의 숫자란 어떤 수에 6이 적어도 3개이상 연속으로 들어가는 수를 말한다. 제일 작은 종말의 숫자는 666이고, 그 다음으로 큰 수는 1666, 2666, 3666, .... 과 같다.\n",
        "\n",
        "따라서, 숌은 첫 번째 영화의 제목은 세상의 종말 666, 두 번째 영화의 제목은 세상의 종말 1666 이렇게 이름을 지을 것이다. 일반화해서 생각하면, N번째 영화의 제목은 세상의 종말 (N번째로 작은 종말의 숫자) 와 같다.\n",
        "\n",
        "숌이 만든 N번째 영화의 제목에 들어간 숫자를 출력하는 프로그램을 작성하시오. 숌은 이 시리즈를 항상 차례대로 만들고, 다른 영화는 만들지 않는다."
      ],
      "metadata": {
        "id": "RDqgL8rBXz5a"
      }
    },
    {
      "cell_type": "markdown",
      "source": [
        "3자리) ___: 10^0 *1 = 1\n",
        "\n",
        "4자리) ____ : 10^1 * 2 - 10^0 * 2C2 = 18 \n",
        "\n",
        "5자리) _____: 10^2 * 3 - 10^1 * 3C2 + 10^0 * 3C3 = 271\n",
        "\n",
        "6자리) 10^3 * 4 - 10^2 * 6 + 10*4 - 1 = 3439\n",
        "\n",
        "n자리) 10^(n-3) * (n-2)C1 - 10^(n-4) * (n-2)C2 + 10^(n-5)*(n-2)C3 - ... \n",
        "\n",
        "\n",
        "=> N은 10000 이하의 자연수이므로 최대 7자리\n",
        "\n",
        "-----------------------------------------------------\n",
        "\n",
        "0666, 1666, 2666, ..., 5666,\n",
        "\n",
        "6660, 6661, ..., 6669,\n",
        "\n",
        "7666, 8666, 9666 \n",
        "\n",
        "------------------------------------------------------\n",
        "\n",
        "10666, 11666, ..., 15666 \n",
        "\n",
        "16660, 16661, ..., 16669, \n",
        "\n",
        "17666, ..., 19666 \n",
        "\n",
        "-------------------------------------------------------\n",
        "\n",
        "20666, ...25666 \n",
        "\n",
        "....\n",
        "\n",
        "60666, 616666, 65666 \n",
        "\n",
        "66600, ..., 66699 \n",
        "\n",
        "\n"
      ],
      "metadata": {
        "id": "kym4rtA7b9pt"
      }
    },
    {
      "cell_type": "code",
      "source": [
        "n = int(input())\n",
        "list_movie = [] # 7자리까지 가능한 모든 경우 리스트에 넣기\n",
        "for i in range(10):\n",
        "  for j in range(10):\n",
        "    for k in range(10):\n",
        "      for h in range(10):\n",
        "        list_movie.append(str(i)+str(j)+str(k)+str(h)+'666')\n",
        "        list_movie.append(str(i)+str(j)+str(k)+'666'+str(h))\n",
        "        list_movie.append(str(i)+str(j)+'666'+str(k)+str(h))\n",
        "        list_movie.append(str(i)+'666'+str(j)+str(k)+str(h))\n",
        "        list_movie.append('666'+str(i)+str(j)+str(k)+str(h))\n",
        "list_movie = list(set(list_movie)) \n",
        "list_movie.sort()\n",
        "ans = list_movie[n-1]\n",
        "for i in range(7):\n",
        "  if ans[i] != 0:\n",
        "    print(int(ans[i:]))\n",
        "    break"
      ],
      "metadata": {
        "id": "8KLKJx6hXxsx",
        "colab": {
          "base_uri": "https://localhost:8080/"
        },
        "outputId": "91dea6a5-fd5d-49d8-ed37-bc578288b50b"
      },
      "execution_count": null,
      "outputs": [
        {
          "output_type": "stream",
          "name": "stdout",
          "text": [
            "500\n",
            "166699\n"
          ]
        }
      ]
    },
    {
      "cell_type": "markdown",
      "source": [
        "- 숫자를 계속 키워나가며 666이 들어가는 횟수 세보는 풀이\n",
        "\n",
        "참고: https://pacific-ocean.tistory.com/137"
      ],
      "metadata": {
        "id": "LNd42LIgN29W"
      }
    },
    {
      "cell_type": "code",
      "source": [
        "n = int(input())\n",
        "cnt = 0\n",
        "six_n = 666\n",
        "while True:\n",
        "  if '666' in str(six_n):\n",
        "    cnt += 1\n",
        "  if cnt == n:\n",
        "    print(six_n)\n",
        "    break\n",
        "  six_n +=1"
      ],
      "metadata": {
        "colab": {
          "base_uri": "https://localhost:8080/"
        },
        "id": "pJUtr7h-EfMM",
        "outputId": "48598793-14b6-4603-f8d2-5289de6acb1a"
      },
      "execution_count": null,
      "outputs": [
        {
          "output_type": "stream",
          "name": "stdout",
          "text": [
            "500\n",
            "166699\n"
          ]
        }
      ]
    }
  ]
}