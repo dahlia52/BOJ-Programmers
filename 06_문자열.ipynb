{
  "nbformat": 4,
  "nbformat_minor": 0,
  "metadata": {
    "colab": {
      "provenance": [],
      "authorship_tag": "ABX9TyMuRAlZcfnEBBcIOeq91koz",
      "include_colab_link": true
    },
    "kernelspec": {
      "name": "python3",
      "display_name": "Python 3"
    },
    "language_info": {
      "name": "python"
    }
  },
  "cells": [
    {
      "cell_type": "markdown",
      "metadata": {
        "id": "view-in-github",
        "colab_type": "text"
      },
      "source": [
        "<a href=\"https://colab.research.google.com/github/dahlia52/BAEKJOON/blob/main/06_%EB%AC%B8%EC%9E%90%EC%97%B4.ipynb\" target=\"_parent\"><img src=\"https://colab.research.google.com/assets/colab-badge.svg\" alt=\"Open In Colab\"/></a>"
      ]
    },
    {
      "cell_type": "markdown",
      "source": [
        "https://www.acmicpc.net/step/7"
      ],
      "metadata": {
        "id": "TGWxLQB78RH1"
      }
    },
    {
      "cell_type": "markdown",
      "source": [
        "- 11654번 아스키코드"
      ],
      "metadata": {
        "id": "XPlSJ7Uo8S84"
      }
    },
    {
      "cell_type": "markdown",
      "source": [
        "알파벳 소문자, 대문자, 숫자 0-9중 하나가 주어졌을 때, 주어진 글자의 아스키 코드값을 출력하는 프로그램을 작성하시오."
      ],
      "metadata": {
        "id": "NG0vNg5g8vtW"
      }
    },
    {
      "cell_type": "markdown",
      "source": [
        "```\n",
        "ord() : 문자의 아스키 코드를 리턴하는 함수\n",
        "chr(): 아스키 코드를 입력받아 문자로 변환하는 함수\n",
        "```"
      ],
      "metadata": {
        "id": "g3EhqS2p9QSQ"
      }
    },
    {
      "cell_type": "code",
      "execution_count": null,
      "metadata": {
        "colab": {
          "base_uri": "https://localhost:8080/"
        },
        "id": "Eyi4bBXg8NMq",
        "outputId": "993009c7-e844-43d6-c80e-f9201fe44808"
      },
      "outputs": [
        {
          "output_type": "stream",
          "name": "stdout",
          "text": [
            "A\n",
            "65\n"
          ]
        }
      ],
      "source": [
        "n = input()\n",
        "print(ord(n))"
      ]
    },
    {
      "cell_type": "markdown",
      "source": [
        "- 11720\t숫자의 합"
      ],
      "metadata": {
        "id": "IOolJl5C8V3r"
      }
    },
    {
      "cell_type": "markdown",
      "source": [
        "첫째 줄에 숫자의 개수 N (1 ≤ N ≤ 100)이 주어진다. 둘째 줄에 숫자 N개가 공백없이 주어진다."
      ],
      "metadata": {
        "id": "JgPNMq4N-D57"
      }
    },
    {
      "cell_type": "code",
      "source": [
        "n = int(input())\n",
        "nums = input()\n",
        "sum1 = 0\n",
        "for i in range(n):\n",
        "  sum1 += int(nums[i])\n",
        "print(sum1)"
      ],
      "metadata": {
        "colab": {
          "base_uri": "https://localhost:8080/"
        },
        "id": "cJo9dtLf8XGz",
        "outputId": "00162437-39f9-41d0-a479-3f3e44e71a54"
      },
      "execution_count": null,
      "outputs": [
        {
          "output_type": "stream",
          "name": "stdout",
          "text": [
            "5\n",
            "54321\n",
            "15\n"
          ]
        }
      ]
    },
    {
      "cell_type": "markdown",
      "source": [
        "-  10809번 알파벳 찾기"
      ],
      "metadata": {
        "id": "9QIPVhOq8YPh"
      }
    },
    {
      "cell_type": "markdown",
      "source": [
        "알파벳 소문자로만 이루어진 단어 S가 주어진다. 각각의 알파벳에 대해서, 단어에 포함되어 있는 경우에는 처음 등장하는 위치를, 포함되어 있지 않은 경우에는 -1을 출력하는 프로그램을 작성하시오."
      ],
      "metadata": {
        "id": "4oNu3OXi_Xf2"
      }
    },
    {
      "cell_type": "markdown",
      "source": [
        "\n",
        "\n",
        "```\n",
        "리스트의 문자열 합치기: 구분자.join(리스트)\n",
        "```"
      ],
      "metadata": {
        "id": "kIMrSOpnGXMI"
      }
    },
    {
      "cell_type": "code",
      "source": [
        "ord('z') # a의 아스키코드"
      ],
      "metadata": {
        "colab": {
          "base_uri": "https://localhost:8080/"
        },
        "id": "npQcE_M3FYxm",
        "outputId": "291670b3-3459-40c2-9fdf-945c858ae98c"
      },
      "execution_count": null,
      "outputs": [
        {
          "output_type": "execute_result",
          "data": {
            "text/plain": [
              "122"
            ]
          },
          "metadata": {},
          "execution_count": 22
        }
      ]
    },
    {
      "cell_type": "code",
      "source": [
        "s = input()\n",
        "alpha_exist = [-1 for i in range(26)]\n",
        "for i in range(len(s)):\n",
        "  if alpha_exist[ord(s[i])-97] == -1:\n",
        "    alpha_exist[ord(s[i])-97] = i\n",
        "alpha_exist = list(map(str, alpha_exist))\n",
        "alpha_exist = \" \".join(alpha_exist)\n",
        "print(alpha_exist)"
      ],
      "metadata": {
        "colab": {
          "base_uri": "https://localhost:8080/"
        },
        "id": "xCud98QD8ae3",
        "outputId": "ef878699-02a8-45fd-d7c6-26fdcee881c0"
      },
      "execution_count": null,
      "outputs": [
        {
          "output_type": "stream",
          "name": "stdout",
          "text": [
            "baekjoon\n",
            "1 0 -1 -1 2 -1 -1 -1 -1 4 3 -1 -1 7 5 -1 -1 -1 -1 -1 -1 -1 -1 -1 -1 -1\n"
          ]
        }
      ]
    },
    {
      "cell_type": "markdown",
      "source": [
        "\n",
        "\n",
        "```\n",
        "문자열.find(찾을 문자) : 찾는 문자가 존재하면 index를 반환하고, 존재하지 않으면 -1 반환\n",
        "```\n"
      ],
      "metadata": {
        "id": "PZm5SfL4HWtm"
      }
    },
    {
      "cell_type": "code",
      "source": [
        "s = input()\n",
        "alpha = list(range(ord('a'),ord('z')+1))  # a-z 아스키코드 범위\n",
        "alpha_exist = []\n",
        "for x in alpha : \n",
        "  alpha_exist.append(s.find(chr(x)))\n",
        "alpha_exist = list(map(str, alpha_exist))\n",
        "alpha_exist = \" \".join(alpha_exist)\n",
        "print(alpha_exist)"
      ],
      "metadata": {
        "colab": {
          "base_uri": "https://localhost:8080/"
        },
        "id": "34DZU-zjHCzQ",
        "outputId": "b531b8a3-7c55-4ce7-8599-f3270b987df1"
      },
      "execution_count": null,
      "outputs": [
        {
          "output_type": "stream",
          "name": "stdout",
          "text": [
            "baekjoon\n",
            "1 0 -1 -1 2 -1 -1 -1 -1 4 3 -1 -1 7 5 -1 -1 -1 -1 -1 -1 -1 -1 -1 -1 -1\n"
          ]
        }
      ]
    },
    {
      "cell_type": "markdown",
      "source": [
        "- 2675번 문자열 반복"
      ],
      "metadata": {
        "id": "mfIiIlp_8aoP"
      }
    },
    {
      "cell_type": "markdown",
      "source": [
        "문자열 S를 입력받은 후에, 각 문자를 R번 반복해 새 문자열 P를 만든 후 출력하는 프로그램을 작성하시오. 즉, 첫 번째 문자를 R번 반복하고, 두 번째 문자를 R번 반복하는 식으로 P를 만들면 된다. S에는 QR Code \"alphanumeric\" 문자만 들어있다.\n",
        "\n",
        "QR Code \"alphanumeric\" 문자는 0123456789ABCDEFGHIJKLMNOPQRSTUVWXYZ\\$%*+-./: 이다."
      ],
      "metadata": {
        "id": "zL_lV0UrJ5yC"
      }
    },
    {
      "cell_type": "code",
      "source": [
        "n = int(input())\n",
        "for i in range(n):\n",
        "  str_rep, s = input().split()\n",
        "  for k in range(len(s)):\n",
        "    print(s[k]*int(str_rep), end=\"\")\n",
        "  print(\"\")"
      ],
      "metadata": {
        "id": "FDDsUVNs8eGi",
        "colab": {
          "base_uri": "https://localhost:8080/"
        },
        "outputId": "92af795a-e984-4781-8b1c-016b0d12a882"
      },
      "execution_count": null,
      "outputs": [
        {
          "output_type": "stream",
          "name": "stdout",
          "text": [
            "2\n",
            "3 ABC\n",
            "AAABBBCCC\n",
            "5 /HTP\n",
            "/////HHHHHTTTTTPPPPP\n"
          ]
        }
      ]
    },
    {
      "cell_type": "code",
      "source": [
        "n = int(input())\n",
        "for i in range(n):\n",
        "  text = \"\"\n",
        "  str_rep, s = input().split()\n",
        "  for k in range(len(s)):\n",
        "    text += s[k]*int(str_rep)\n",
        "  print(text)"
      ],
      "metadata": {
        "colab": {
          "base_uri": "https://localhost:8080/"
        },
        "id": "KSB8jaWGhiYR",
        "outputId": "57a1e2d0-7437-472d-e28b-82c84301d001"
      },
      "execution_count": null,
      "outputs": [
        {
          "output_type": "stream",
          "name": "stdout",
          "text": [
            "2\n",
            "3 ABC\n",
            "AAABBBCCC\n",
            "5 /HTP\n",
            "/////HHHHHTTTTTPPPPP\n"
          ]
        }
      ]
    },
    {
      "cell_type": "markdown",
      "source": [
        "- 1157번 단어 공부"
      ],
      "metadata": {
        "id": "bkewZQGe8fcA"
      }
    },
    {
      "cell_type": "markdown",
      "source": [
        "알파벳 대소문자로 된 단어가 주어지면, 이 단어에서 가장 많이 사용된 알파벳이 무엇인지 알아내는 프로그램을 작성하시오. 단, 대문자와 소문자를 구분하지 않는다."
      ],
      "metadata": {
        "id": "_NAxxj5HiFGl"
      }
    },
    {
      "cell_type": "code",
      "source": [
        "s = input().upper()\n",
        "set1 = list(set(list(s))) # 입력받은 문자열에 있는 문자 종류\n",
        "count = 1\n",
        "most_used = []\n",
        "for i in set1:\n",
        "  if s.count(i) > count:\n",
        "    most_used.clear()\n",
        "    count = s.count(i)\n",
        "    most_used.append(i)\n",
        "  elif s.count(i) == count:\n",
        "    most_used.append(i)\n",
        "  else:\n",
        "    continue\n",
        "if len(most_used)> 1:\n",
        "  print(\"?\")\n",
        "else:\n",
        "  print(most_used[0])"
      ],
      "metadata": {
        "id": "_ZKXV2uF8gup",
        "colab": {
          "base_uri": "https://localhost:8080/"
        },
        "outputId": "fa86b79b-2f95-4f64-fe66-75b85d7f20f7"
      },
      "execution_count": null,
      "outputs": [
        {
          "output_type": "stream",
          "name": "stdout",
          "text": [
            "baaa\n",
            "A\n"
          ]
        }
      ]
    },
    {
      "cell_type": "markdown",
      "source": [
        "- 1152번 단어의 개수"
      ],
      "metadata": {
        "id": "dK0VgOb28htm"
      }
    },
    {
      "cell_type": "markdown",
      "source": [
        "영어 대소문자와 공백으로 이루어진 문자열이 주어진다. 이 문자열에는 몇 개의 단어가 있을까? 이를 구하는 프로그램을 작성하시오. 단, 한 단어가 여러 번 등장하면 등장한 횟수만큼 모두 세어야 한다."
      ],
      "metadata": {
        "id": "laLoYF0HtQgu"
      }
    },
    {
      "cell_type": "code",
      "source": [
        "s = input().split()\n",
        "print(len(s))"
      ],
      "metadata": {
        "colab": {
          "base_uri": "https://localhost:8080/"
        },
        "id": "HPnoBvvFkb_D",
        "outputId": "21a73468-af6d-464b-9ffc-8023e87b0f9d"
      },
      "execution_count": null,
      "outputs": [
        {
          "output_type": "stream",
          "name": "stdout",
          "text": [
            "The Curious Case of Benjamin Button\n",
            "6\n"
          ]
        }
      ]
    },
    {
      "cell_type": "markdown",
      "source": [
        "- 2908번 상수"
      ],
      "metadata": {
        "id": "z6gm7q8d8km4"
      }
    },
    {
      "cell_type": "markdown",
      "source": [
        "상근이의 동생 상수는 수학을 정말 못한다. 상수는 숫자를 읽는데 문제가 있다. 이렇게 수학을 못하는 상수를 위해서 상근이는 수의 크기를 비교하는 문제를 내주었다. 상근이는 세 자리 수 두 개를 칠판에 써주었다. 그 다음에 크기가 큰 수를 말해보라고 했다.\n",
        "\n",
        "상수는 수를 다른 사람과 다르게 거꾸로 읽는다. 예를 들어, 734와 893을 칠판에 적었다면, 상수는 이 수를 437과 398로 읽는다. 따라서, 상수는 두 수중 큰 수인 437을 큰 수라고 말할 것이다.\n",
        "\n",
        "두 수가 주어졌을 때, 상수의 대답을 출력하는 프로그램을 작성하시오."
      ],
      "metadata": {
        "id": "wEb0nbg3thiM"
      }
    },
    {
      "cell_type": "code",
      "source": [
        "A, B = input().split()\n",
        "A = int(A[2] + A[1] + A[0])\n",
        "B = int(B[2] + B[1] + B[0])\n",
        "print(max(A,B))"
      ],
      "metadata": {
        "id": "6EK7OW668lnQ",
        "colab": {
          "base_uri": "https://localhost:8080/"
        },
        "outputId": "b4637598-3a44-4d8b-d800-ef1c7efcfa8b"
      },
      "execution_count": null,
      "outputs": [
        {
          "output_type": "stream",
          "name": "stdout",
          "text": [
            "221 231\n",
            "132\n"
          ]
        }
      ]
    },
    {
      "cell_type": "markdown",
      "source": [
        "- 5622번 다이얼"
      ],
      "metadata": {
        "id": "2o-YTgnM8mtm"
      }
    },
    {
      "cell_type": "markdown",
      "source": [
        "상근이의 할머니는 아래 그림과 같이 오래된 다이얼 전화기를 사용한다.\n",
        "\n",
        "\n",
        "\n",
        "전화를 걸고 싶은 번호가 있다면, 숫자를 하나를 누른 다음에 금속 핀이 있는 곳 까지 시계방향으로 돌려야 한다. 숫자를 하나 누르면 다이얼이 처음 위치로 돌아가고, 다음 숫자를 누르려면 다이얼을 처음 위치에서 다시 돌려야 한다.\n",
        "\n",
        "숫자 1을 걸려면 총 2초가 필요하다. 1보다 큰 수를 거는데 걸리는 시간은 이보다 더 걸리며, 한 칸 옆에 있는 숫자를 걸기 위해선 1초씩 더 걸린다.\n",
        "\n",
        "상근이의 할머니는 전화 번호를 각 숫자에 해당하는 문자로 외운다. 즉, 어떤 단어를 걸 때, 각 알파벳에 해당하는 숫자를 걸면 된다. 예를 들어, UNUCIC는 868242와 같다.\n",
        "\n",
        "할머니가 외운 단어가 주어졌을 때, 이 전화를 걸기 위해서 필요한 최소 시간을 구하는 프로그램을 작성하시오"
      ],
      "metadata": {
        "id": "2T6x9BhUuRDY"
      }
    },
    {
      "cell_type": "code",
      "source": [
        "ord('A')"
      ],
      "metadata": {
        "id": "u9d6ZwLC8oYS",
        "colab": {
          "base_uri": "https://localhost:8080/"
        },
        "outputId": "2e1dbb4f-4fcb-472c-bc92-0a84d143360f"
      },
      "execution_count": null,
      "outputs": [
        {
          "output_type": "execute_result",
          "data": {
            "text/plain": [
              "65"
            ]
          },
          "metadata": {},
          "execution_count": 31
        }
      ]
    },
    {
      "cell_type": "code",
      "source": [
        "print(ord('A')//3)\n",
        "print(ord('B')//3)\n",
        "print(ord('C')//3)"
      ],
      "metadata": {
        "colab": {
          "base_uri": "https://localhost:8080/"
        },
        "id": "bMR6ikm_usm6",
        "outputId": "ffa60452-a2f4-4842-eeab-6d5dfaf06ab9"
      },
      "execution_count": null,
      "outputs": [
        {
          "output_type": "stream",
          "name": "stdout",
          "text": [
            "21\n",
            "22\n",
            "22\n"
          ]
        }
      ]
    },
    {
      "cell_type": "code",
      "source": [
        "print(ord('A')%3)\n",
        "print(ord('B')%3)\n",
        "print(ord('C')%3)"
      ],
      "metadata": {
        "colab": {
          "base_uri": "https://localhost:8080/"
        },
        "id": "Jrq1y__twNhD",
        "outputId": "7c1dde30-5b80-4ea4-ea60-0f23235e1601"
      },
      "execution_count": null,
      "outputs": [
        {
          "output_type": "stream",
          "name": "stdout",
          "text": [
            "2\n",
            "0\n",
            "1\n"
          ]
        }
      ]
    },
    {
      "cell_type": "code",
      "source": [
        "print(ord('S')//3)\n",
        "print(ord('T')//3)\n",
        "print(ord('W')//3)"
      ],
      "metadata": {
        "colab": {
          "base_uri": "https://localhost:8080/"
        },
        "id": "46qjkO1pyRH-",
        "outputId": "8be8f814-890c-46b9-e534-ee89b48f3eeb"
      },
      "execution_count": null,
      "outputs": [
        {
          "output_type": "stream",
          "name": "stdout",
          "text": [
            "27\n",
            "28\n",
            "29\n"
          ]
        }
      ]
    },
    {
      "cell_type": "code",
      "source": [
        "s = input()\n",
        "num = []\n",
        "for word in s:\n",
        "  q = ord(word)//3\n",
        "  r = ord(word)%3\n",
        "  if ('A'<=word and word<='R'):\n",
        "    if r == 2:\n",
        "      num.append(q-19)\n",
        "    else:\n",
        "      num.append(q-20)\n",
        "  elif word == 'S':\n",
        "    num.append(7)\n",
        "  elif q == 28:\n",
        "    num.append(8)\n",
        "  elif q==29 or word=='Z':\n",
        "    num.append(9)\n",
        "  else:\n",
        "    num.append(0)\n",
        "if 0 in num:\n",
        "  time = sum(num) + len(num) + 10\n",
        "else:\n",
        "  time = sum(num) + len(num)\n",
        "print(time)"
      ],
      "metadata": {
        "colab": {
          "base_uri": "https://localhost:8080/"
        },
        "id": "o4rp1hY0vz55",
        "outputId": "e0c1cc60-f252-449b-b84c-003b1a425d8c"
      },
      "execution_count": null,
      "outputs": [
        {
          "output_type": "stream",
          "name": "stdout",
          "text": [
            "UNUCIC\n",
            "36\n"
          ]
        }
      ]
    },
    {
      "cell_type": "code",
      "source": [
        "s = input()\n",
        "num = []\n",
        "for word in s:\n",
        "  q = ord(word)//3\n",
        "  r = ord(word)%3\n",
        "  if ('A'<=word and word<='R'):\n",
        "    if r == 2:\n",
        "      num.append(q-19)\n",
        "    else:\n",
        "      num.append(q-20)\n",
        "  elif word == 'S':\n",
        "    num.append(7)\n",
        "  elif q == 28:\n",
        "    num.append(8)\n",
        "  else:\n",
        "    num.append(9)\n",
        "\n",
        "time = sum(num) + len(num)\n",
        "print(time)"
      ],
      "metadata": {
        "colab": {
          "base_uri": "https://localhost:8080/"
        },
        "id": "rOoOxZO1BMzx",
        "outputId": "4b0b6ea7-9ee9-40bc-d0c2-f5d2ff7bbd8a"
      },
      "execution_count": null,
      "outputs": [
        {
          "output_type": "stream",
          "name": "stdout",
          "text": [
            "UNUCIC\n",
            "36\n"
          ]
        }
      ]
    },
    {
      "cell_type": "code",
      "source": [
        "s = input()\n",
        "s_list = list(set(s))\n",
        "time = 0\n",
        "num_list = ['ABC','DEF','GHI','JKL','MNO','PQRS','TUV','WXYZ']\n",
        "for word in s_list:\n",
        "  for num in num_list:\n",
        "    if word in num:\n",
        "      time += (num_list.index(num)+3)*s.count(word)\n",
        "print(time)"
      ],
      "metadata": {
        "colab": {
          "base_uri": "https://localhost:8080/"
        },
        "id": "I3yea2k300Y0",
        "outputId": "dc9a7617-79ec-4e81-a029-d53d9e8182ea"
      },
      "execution_count": null,
      "outputs": [
        {
          "output_type": "stream",
          "name": "stdout",
          "text": [
            "UNUCIC\n",
            "36\n"
          ]
        }
      ]
    },
    {
      "cell_type": "code",
      "source": [
        "s = input()\n",
        "time = 0\n",
        "num_list = [ord('A'), ord('D'), ord('G'), ord('J'), ord('M'), ord('P'), ord('T'), ord('W')]\n",
        "for word in s:\n",
        "  for i in num_list:\n",
        "    if ord(word) < i:\n",
        "      time += num_list.index(i)+2\n",
        "      break\n",
        "    elif ord(word) >= num_list[-1]:\n",
        "      time += 10\n",
        "      break\n",
        "      \n",
        "print(time)"
      ],
      "metadata": {
        "colab": {
          "base_uri": "https://localhost:8080/"
        },
        "id": "vq_bOuKW2mS_",
        "outputId": "346f64bd-aebd-4cee-ff9a-a10aa93377cc"
      },
      "execution_count": null,
      "outputs": [
        {
          "output_type": "stream",
          "name": "stdout",
          "text": [
            "UNUCIC\n",
            "36\n"
          ]
        }
      ]
    },
    {
      "cell_type": "markdown",
      "source": [
        "- 2941번 크로아티아 알파벳"
      ],
      "metadata": {
        "id": "olcAZvEo8m0e"
      }
    },
    {
      "cell_type": "markdown",
      "source": [
        "예전에는 운영체제에서 크로아티아 알파벳을 입력할 수가 없었다. 따라서, 다음과 같이 크로아티아 알파벳을 변경해서 입력했다."
      ],
      "metadata": {
        "id": "okC49RPgCQKv"
      }
    },
    {
      "cell_type": "code",
      "source": [
        "word_list = [\"c=\", \"c-\", \"dz=\", \"d-\", \"lj\", \"nj\", \"s=\", \"z=\"]\n",
        "s = input()\n",
        "n = len(s)\n",
        "count = 0\n",
        "act_count = 0\n",
        "for word in word_list:\n",
        "  if word in s:\n",
        "    count += s.count(word)\n",
        "    act_count += (len(word))*(s.count(word))\n",
        "    s = s.replace(word, \" \") # 횟수를 이미 더한 문자는 공백으로 대체\n",
        "fin_count = n - act_count + count\n",
        "print(fin_count)"
      ],
      "metadata": {
        "id": "RWgBjov98q_g",
        "colab": {
          "base_uri": "https://localhost:8080/"
        },
        "outputId": "8fb90c8e-a0ca-4916-91a6-e6ef4d872899"
      },
      "execution_count": null,
      "outputs": [
        {
          "output_type": "stream",
          "name": "stdout",
          "text": [
            "dz=ak\n",
            "3\n"
          ]
        }
      ]
    },
    {
      "cell_type": "code",
      "source": [
        "# 더 간단한 코드 \n",
        "word_list = [\"c=\", \"c-\", \"dz=\", \"d-\", \"lj\", \"nj\", \"s=\", \"z=\"]\n",
        "s = input()\n",
        "for word in word_list:\n",
        "  s = s.replace(word, \"*\")\n",
        "print(len(s))"
      ],
      "metadata": {
        "colab": {
          "base_uri": "https://localhost:8080/"
        },
        "id": "iPHCD4gOMpsO",
        "outputId": "36ee202a-63cf-462a-c7eb-052630f57468"
      },
      "execution_count": null,
      "outputs": [
        {
          "output_type": "stream",
          "name": "stdout",
          "text": [
            "dz=ak\n",
            "3\n"
          ]
        }
      ]
    },
    {
      "cell_type": "markdown",
      "source": [
        "- 1316번 그룹 단어 체커"
      ],
      "metadata": {
        "id": "mU2GRGM38r_m"
      }
    },
    {
      "cell_type": "markdown",
      "source": [
        "그룹 단어란 단어에 존재하는 모든 문자에 대해서, 각 문자가 연속해서 나타나는 경우만을 말한다. 예를 들면, ccazzzzbb는 c, a, z, b가 모두 연속해서 나타나고, kin도 k, i, n이 연속해서 나타나기 때문에 그룹 단어이지만, aabbbccb는 b가 떨어져서 나타나기 때문에 그룹 단어가 아니다.\n",
        "\n",
        "단어 N개를 입력으로 받아 그룹 단어의 개수를 출력하는 프로그램을 작성하시오."
      ],
      "metadata": {
        "id": "yT-mj_ySM_4N"
      }
    },
    {
      "cell_type": "code",
      "source": [
        "\"abc\".find('b')"
      ],
      "metadata": {
        "colab": {
          "base_uri": "https://localhost:8080/"
        },
        "id": "50zCEOCIP2Kp",
        "outputId": "113a6d13-b8af-4c87-b596-96c64fed6d03"
      },
      "execution_count": null,
      "outputs": [
        {
          "output_type": "execute_result",
          "data": {
            "text/plain": [
              "1"
            ]
          },
          "metadata": {},
          "execution_count": 150
        }
      ]
    },
    {
      "cell_type": "code",
      "source": [
        "def group_word(s):\n",
        "  word = list(set(s))\n",
        "  for w in word:\n",
        "    if s.count(w) != 1:\n",
        "      idx = s.find(w)\n",
        "      for i in range(s.count(w)):\n",
        "        if s[idx+i] != w:\n",
        "          return 0\n",
        "  return 1\n",
        "\n",
        "n = int(input())\n",
        "sum = 0\n",
        "for i in range(n):\n",
        "  s = input()\n",
        "  sum += group_word(s)\n",
        "print(sum)"
      ],
      "metadata": {
        "id": "YpHKO8Wa8tH7",
        "colab": {
          "base_uri": "https://localhost:8080/"
        },
        "outputId": "2926a1cd-c40b-429f-d765-2573b8e03891"
      },
      "execution_count": null,
      "outputs": [
        {
          "output_type": "stream",
          "name": "stdout",
          "text": [
            "1\n",
            "z\n",
            "1\n"
          ]
        }
      ]
    }
  ]
}