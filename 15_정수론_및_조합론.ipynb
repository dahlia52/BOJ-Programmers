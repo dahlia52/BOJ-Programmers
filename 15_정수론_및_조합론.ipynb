{
  "nbformat": 4,
  "nbformat_minor": 0,
  "metadata": {
    "colab": {
      "provenance": [],
      "authorship_tag": "ABX9TyMtg5istdPOdTe6pRb2rxlg",
      "include_colab_link": true
    },
    "kernelspec": {
      "name": "python3",
      "display_name": "Python 3"
    },
    "language_info": {
      "name": "python"
    }
  },
  "cells": [
    {
      "cell_type": "markdown",
      "metadata": {
        "id": "view-in-github",
        "colab_type": "text"
      },
      "source": [
        "<a href=\"https://colab.research.google.com/github/dahlia52/BAEKJOON/blob/main/15_%EC%A0%95%EC%88%98%EB%A1%A0_%EB%B0%8F_%EC%A1%B0%ED%95%A9%EB%A1%A0.ipynb\" target=\"_parent\"><img src=\"https://colab.research.google.com/assets/colab-badge.svg\" alt=\"Open In Colab\"/></a>"
      ]
    },
    {
      "cell_type": "markdown",
      "source": [
        "https://www.acmicpc.net/step/18"
      ],
      "metadata": {
        "id": "Pfd4nWhTtLFv"
      }
    },
    {
      "cell_type": "markdown",
      "source": [
        "### 5086\t 배수와 약수"
      ],
      "metadata": {
        "id": "HwNgXs6pszhR"
      }
    },
    {
      "cell_type": "markdown",
      "source": [
        "4 × 3 = 12이다.\n",
        "\n",
        "이 식을 통해 다음과 같은 사실을 알 수 있다.\n",
        "\n",
        "3은 12의 약수이고, 12는 3의 배수이다.\n",
        "\n",
        "4도 12의 약수이고, 12는 4의 배수이다.\n",
        "\n",
        "두 수가 주어졌을 때, 다음 3가지 중 어떤 관계인지 구하는 프로그램을 작성하시오.\n",
        "\n",
        "첫 번째 숫자가 두 번째 숫자의 약수이다.\n",
        "첫 번째 숫자가 두 번째 숫자의 배수이다.\n",
        "첫 번째 숫자가 두 번째 숫자의 약수와 배수 모두 아니다."
      ],
      "metadata": {
        "id": "61T1VtwrMvB2"
      }
    },
    {
      "cell_type": "code",
      "execution_count": 1,
      "metadata": {
        "id": "V0ZnAKjxscD_",
        "colab": {
          "base_uri": "https://localhost:8080/"
        },
        "outputId": "532eb582-ea2d-4b5a-cd13-048d619d76e0"
      },
      "outputs": [
        {
          "name": "stdout",
          "output_type": "stream",
          "text": [
            "8 16\n",
            "factor\n",
            "32 4\n",
            "multiple\n",
            "17 5\n",
            "neither\n",
            "0 0\n"
          ]
        }
      ],
      "source": [
        "while 1:\n",
        "  a,b = map(int, input().split())\n",
        "  if a == 0 and b == 0:\n",
        "    break\n",
        "  if a % b == 0:\n",
        "    print(\"multiple\")\n",
        "  elif b % a == 0:\n",
        "    print(\"factor\")\n",
        "  else:\n",
        "    print(\"neither\")"
      ]
    },
    {
      "cell_type": "markdown",
      "source": [
        "### 1037\t 약수"
      ],
      "metadata": {
        "id": "4pMZPAiks1za"
      }
    },
    {
      "cell_type": "markdown",
      "source": [
        "양수 A가 N의 진짜 약수가 되려면, N이 A의 배수이고, A가 1과 N이 아니어야 한다. 어떤 수 N의 진짜 약수가 모두 주어질 때, N을 구하는 프로그램을 작성하시오."
      ],
      "metadata": {
        "id": "Wx4fontXNQSV"
      }
    },
    {
      "cell_type": "code",
      "source": [
        "n = int(input())\n",
        "list1 = list(map(int, input().split()))\n",
        "list1.sort()\n",
        "print(list1[0]*list1[-1])"
      ],
      "metadata": {
        "id": "DyT-uYmBs2aA",
        "colab": {
          "base_uri": "https://localhost:8080/"
        },
        "outputId": "9c25f560-9f17-4cc3-d451-4d51e66c68c6"
      },
      "execution_count": 6,
      "outputs": [
        {
          "output_type": "stream",
          "name": "stdout",
          "text": [
            "14\n",
            "14 26456 2 28 13228 3307 7 23149 8 6614 46298 56 4 92596\n",
            "185192\n"
          ]
        }
      ]
    },
    {
      "cell_type": "code",
      "source": [
        "n = int(input())\n",
        "list1 = list(map(int, input().split()))\n",
        "print(min(list1)*max(list1))"
      ],
      "metadata": {
        "colab": {
          "base_uri": "https://localhost:8080/"
        },
        "id": "WXYmOH2eOIHD",
        "outputId": "cc0a6a2a-76bd-48fe-db6e-81cfbfe27587"
      },
      "execution_count": 7,
      "outputs": [
        {
          "output_type": "stream",
          "name": "stdout",
          "text": [
            "1\n",
            "2\n",
            "4\n"
          ]
        }
      ]
    },
    {
      "cell_type": "markdown",
      "source": [
        "### 2609\t 최대공약수와 최소공배수"
      ],
      "metadata": {
        "id": "v7XxgjhEs3zD"
      }
    },
    {
      "cell_type": "markdown",
      "source": [
        "두 개의 자연수를 입력받아 최대 공약수와 최소 공배수를 출력하는 프로그램을 작성하시오."
      ],
      "metadata": {
        "id": "NvMSSdvWORBd"
      }
    },
    {
      "cell_type": "code",
      "source": [
        "a,b = map(int, input().split())\n",
        "gcd = 1\n",
        "for i in range(2,min(a,b)+1):\n",
        "  if a % i == 0 and b % i == 0:\n",
        "    gcd = i\n",
        "print(gcd)\n",
        "print(a*b//gcd)"
      ],
      "metadata": {
        "id": "fD2rJ4jls4WJ",
        "colab": {
          "base_uri": "https://localhost:8080/"
        },
        "outputId": "8fc0fac5-226f-4462-d43d-95f3fd306400"
      },
      "execution_count": 15,
      "outputs": [
        {
          "output_type": "stream",
          "name": "stdout",
          "text": [
            "24 18\n",
            "6\n",
            "72\n"
          ]
        }
      ]
    },
    {
      "cell_type": "markdown",
      "source": [
        "- 파이썬 math 함수 이용) **math.gcd**(a,b) / **math.lcm**(a,b)\n",
        "\n",
        "\n",
        "\n",
        "참고: https://velog.io/@junyp1/%EB%B0%B1%EC%A4%80-2609-Python-%EC%B5%9C%EB%8C%80%EA%B3%B5%EC%95%BD%EC%88%98%EC%99%80-%EC%B5%9C%EC%86%8C%EA%B3%B5%EB%B0%B0%EC%88%98"
      ],
      "metadata": {
        "id": "xBOsNotMPI85"
      }
    },
    {
      "cell_type": "code",
      "source": [
        "import math\n",
        "a,b = map(int, input().split())\n",
        "print(math.gcd(a,b))\n",
        "print(math.lcm(a,b)) # lcm 함수는 파이썬 3.9버전 이상부터 사용 가능"
      ],
      "metadata": {
        "colab": {
          "base_uri": "https://localhost:8080/",
          "height": 248
        },
        "id": "jDwqhMk5PIdC",
        "outputId": "9a88df2d-6a2c-467c-865c-cc370bbb2c62"
      },
      "execution_count": 11,
      "outputs": [
        {
          "output_type": "stream",
          "name": "stdout",
          "text": [
            "24 18\n",
            "6\n"
          ]
        },
        {
          "output_type": "error",
          "ename": "AttributeError",
          "evalue": "ignored",
          "traceback": [
            "\u001b[0;31m---------------------------------------------------------------------------\u001b[0m",
            "\u001b[0;31mAttributeError\u001b[0m                            Traceback (most recent call last)",
            "\u001b[0;32m<ipython-input-11-d8dd447134a7>\u001b[0m in \u001b[0;36m<module>\u001b[0;34m\u001b[0m\n\u001b[1;32m      2\u001b[0m \u001b[0ma\u001b[0m\u001b[0;34m,\u001b[0m\u001b[0mb\u001b[0m \u001b[0;34m=\u001b[0m \u001b[0mmap\u001b[0m\u001b[0;34m(\u001b[0m\u001b[0mint\u001b[0m\u001b[0;34m,\u001b[0m \u001b[0minput\u001b[0m\u001b[0;34m(\u001b[0m\u001b[0;34m)\u001b[0m\u001b[0;34m.\u001b[0m\u001b[0msplit\u001b[0m\u001b[0;34m(\u001b[0m\u001b[0;34m)\u001b[0m\u001b[0;34m)\u001b[0m\u001b[0;34m\u001b[0m\u001b[0;34m\u001b[0m\u001b[0m\n\u001b[1;32m      3\u001b[0m \u001b[0mprint\u001b[0m\u001b[0;34m(\u001b[0m\u001b[0mmath\u001b[0m\u001b[0;34m.\u001b[0m\u001b[0mgcd\u001b[0m\u001b[0;34m(\u001b[0m\u001b[0ma\u001b[0m\u001b[0;34m,\u001b[0m\u001b[0mb\u001b[0m\u001b[0;34m)\u001b[0m\u001b[0;34m)\u001b[0m\u001b[0;34m\u001b[0m\u001b[0;34m\u001b[0m\u001b[0m\n\u001b[0;32m----> 4\u001b[0;31m \u001b[0mprint\u001b[0m\u001b[0;34m(\u001b[0m\u001b[0mmath\u001b[0m\u001b[0;34m.\u001b[0m\u001b[0mlcm\u001b[0m\u001b[0;34m(\u001b[0m\u001b[0ma\u001b[0m\u001b[0;34m,\u001b[0m\u001b[0mb\u001b[0m\u001b[0;34m)\u001b[0m\u001b[0;34m)\u001b[0m\u001b[0;34m\u001b[0m\u001b[0;34m\u001b[0m\u001b[0m\n\u001b[0m",
            "\u001b[0;31mAttributeError\u001b[0m: module 'math' has no attribute 'lcm'"
          ]
        }
      ]
    },
    {
      "cell_type": "code",
      "source": [
        "import sys\n",
        "print(sys.version)"
      ],
      "metadata": {
        "colab": {
          "base_uri": "https://localhost:8080/"
        },
        "id": "hFqvCaPHPrtl",
        "outputId": "487f9ea5-2fdb-4ce6-e384-aee79b594f4c"
      },
      "execution_count": 13,
      "outputs": [
        {
          "output_type": "stream",
          "name": "stdout",
          "text": [
            "3.8.10 (default, Nov 14 2022, 12:59:47) \n",
            "[GCC 9.4.0]\n"
          ]
        }
      ]
    },
    {
      "cell_type": "markdown",
      "source": [
        "- 유클리드 호제법 이용\n",
        "\n",
        "  ex. gcd(24, 18) = gcd(18, 6) = gcd(6, 0)"
      ],
      "metadata": {
        "id": "cjz05-otQHCP"
      }
    },
    {
      "cell_type": "code",
      "source": [
        "a,b = map(int, input().split())\n",
        "def gcd(a,b):\n",
        "  while b>0:\n",
        "    a,b = b,a%b\n",
        "  return a\n",
        "\n",
        "def lcm(a,b):\n",
        "  return a*b // gcd(a,b)\n",
        "print(gcd(a,b))\n",
        "print(lcm(a,b))"
      ],
      "metadata": {
        "colab": {
          "base_uri": "https://localhost:8080/"
        },
        "id": "vHPT162mQJVk",
        "outputId": "eda8d2ac-55f3-4eac-836d-a5f51d7c23dc"
      },
      "execution_count": 14,
      "outputs": [
        {
          "output_type": "stream",
          "name": "stdout",
          "text": [
            "24 18\n",
            "6\n",
            "72\n"
          ]
        }
      ]
    },
    {
      "cell_type": "markdown",
      "source": [
        "### 1934\t 최소공배수"
      ],
      "metadata": {
        "id": "So88ucL-s5T7"
      }
    },
    {
      "cell_type": "markdown",
      "source": [
        "두 자연수 A와 B에 대해서, A의 배수이면서 B의 배수인 자연수를 A와 B의 공배수라고 한다. 이런 공배수 중에서 가장 작은 수를 최소공배수라고 한다. 예를 들어, 6과 15의 공배수는 30, 60, 90등이 있으며, 최소 공배수는 30이다.\n",
        "\n",
        "두 자연수 A와 B가 주어졌을 때, A와 B의 최소공배수를 구하는 프로그램을 작성하시오."
      ],
      "metadata": {
        "id": "gZTAzAgERAhT"
      }
    },
    {
      "cell_type": "code",
      "source": [
        "import math\n",
        "n = int(input())\n",
        "for _ in range(n):\n",
        "  a,b = map(int, input().split())\n",
        "  print(a*b//math.gcd(a,b))"
      ],
      "metadata": {
        "id": "CYpxs9bgs5zp",
        "colab": {
          "base_uri": "https://localhost:8080/"
        },
        "outputId": "44024003-8538-4721-d292-107f4ab324bd"
      },
      "execution_count": 16,
      "outputs": [
        {
          "output_type": "stream",
          "name": "stdout",
          "text": [
            "3\n",
            "1 45000\n",
            "45000\n",
            "6 10\n",
            "30\n",
            "13 17\n",
            "221\n"
          ]
        }
      ]
    },
    {
      "cell_type": "code",
      "source": [
        "n = int(input())\n",
        "for _ in range(n):\n",
        "  a,b = map(int, input().split())\n",
        "  c,d = a,b\n",
        "  while d>0:\n",
        "    c,d = d, c%d\n",
        "  print(a*b//c)"
      ],
      "metadata": {
        "colab": {
          "base_uri": "https://localhost:8080/"
        },
        "id": "--CLRpuMRn62",
        "outputId": "3ed054dd-996b-4f6d-fd25-06a93f33d9a3"
      },
      "execution_count": 25,
      "outputs": [
        {
          "output_type": "stream",
          "name": "stdout",
          "text": [
            "3\n",
            "1 45000\n",
            "45000\n",
            "6 10\n",
            "30\n",
            "13 17\n",
            "221\n"
          ]
        }
      ]
    },
    {
      "cell_type": "markdown",
      "source": [
        "### 2981\t 검문"
      ],
      "metadata": {
        "id": "dWNQlS3zs6nw"
      }
    },
    {
      "cell_type": "markdown",
      "source": [
        "트럭을 타고 이동하던 상근이는 경찰의 검문을 받게 되었다. 경찰은 상근이가 운반하던 화물을 하나하나 모두 확인할 것이기 때문에, 검문하는데 엄청나게 오랜 시간이 걸린다.\n",
        "\n",
        "상근이는 시간을 때우기 위해서 수학 게임을 하기로 했다.\n",
        "\n",
        "먼저 근처에 보이는 숫자 N개를 종이에 적는다. 그 다음, 종이에 적은 수를 M으로 나누었을 때, 나머지가 모두 같게 되는 M을 모두 찾으려고 한다. M은 1보다 커야 한다.\n",
        "\n",
        "N개의 수가 주어졌을 때, 가능한 M을 모두 찾는 프로그램을 작성하시오."
      ],
      "metadata": {
        "id": "tEhNJ57NUUv6"
      }
    },
    {
      "cell_type": "markdown",
      "source": [
        "나머지가 모두 동일한 수들\n",
        "\n",
        "a = m*a` + k\n",
        "\n",
        "b = m*b` + k\n",
        "\n",
        "c = m*c` + k\n",
        "\n",
        "=> a,b,c의 차는 모두 m의 배수"
      ],
      "metadata": {
        "id": "O1UAWWZsUpFA"
      }
    },
    {
      "cell_type": "code",
      "source": [
        "# 오류\n",
        "n = int(input())\n",
        "list1 = []\n",
        "for _ in range(n):\n",
        "  list1.append(int(input()))\n",
        "list1.sort()\n",
        "diff = list1[-1]\n",
        "for i in range(n-1):\n",
        "  if list1[i+1]-list1[i] < diff:\n",
        "    diff = list1[i+1]-list1[i]\n",
        "for i in range(2,diff+1):\n",
        "  if diff % i == 0:\n",
        "    print(i, end=\" \")"
      ],
      "metadata": {
        "id": "CYI7lbf8s7KY",
        "colab": {
          "base_uri": "https://localhost:8080/"
        },
        "outputId": "97aa7307-f8d9-4341-a3d8-ae965e47522f"
      },
      "execution_count": 29,
      "outputs": [
        {
          "output_type": "stream",
          "name": "stdout",
          "text": [
            "3\n",
            "21\n",
            "33\n",
            "45\n",
            "2 3 4 6 12 "
          ]
        }
      ]
    },
    {
      "cell_type": "markdown",
      "source": [
        "### 3036\t 링"
      ],
      "metadata": {
        "id": "8KnGhvgOs8WI"
      }
    },
    {
      "cell_type": "code",
      "source": [],
      "metadata": {
        "id": "Je_8gPvms83h"
      },
      "execution_count": null,
      "outputs": []
    },
    {
      "cell_type": "markdown",
      "source": [
        "### 11050\t 이항 계수 1"
      ],
      "metadata": {
        "id": "-A0D15O6s907"
      }
    },
    {
      "cell_type": "code",
      "source": [],
      "metadata": {
        "id": "sci3qcZOs-Wp"
      },
      "execution_count": null,
      "outputs": []
    },
    {
      "cell_type": "markdown",
      "source": [
        "### \t11051\t 이항 계수 2"
      ],
      "metadata": {
        "id": "gBmuK3J2s_kZ"
      }
    },
    {
      "cell_type": "code",
      "source": [],
      "metadata": {
        "id": "mHetRAI2tALq"
      },
      "execution_count": null,
      "outputs": []
    },
    {
      "cell_type": "markdown",
      "source": [
        "### 1010\t 다리 놓기"
      ],
      "metadata": {
        "id": "ExYaiASTtCMQ"
      }
    },
    {
      "cell_type": "code",
      "source": [],
      "metadata": {
        "id": "EWoftr8mtCvJ"
      },
      "execution_count": null,
      "outputs": []
    },
    {
      "cell_type": "markdown",
      "source": [
        "### \t9375\t 패션왕 신해빈"
      ],
      "metadata": {
        "id": "cRZQMMt4tDvt"
      }
    },
    {
      "cell_type": "code",
      "source": [],
      "metadata": {
        "id": "psXJNPYMtEOK"
      },
      "execution_count": null,
      "outputs": []
    },
    {
      "cell_type": "markdown",
      "source": [
        "### \t1676\t 팩토리얼 0의 개수"
      ],
      "metadata": {
        "id": "FQCgKd4vtFQY"
      }
    },
    {
      "cell_type": "code",
      "source": [],
      "metadata": {
        "id": "gbNKEqKWtGDH"
      },
      "execution_count": null,
      "outputs": []
    },
    {
      "cell_type": "markdown",
      "source": [
        "### 2004\t 조합 0의 개수"
      ],
      "metadata": {
        "id": "H-cBrhJytHSr"
      }
    },
    {
      "cell_type": "code",
      "source": [],
      "metadata": {
        "id": "_R6exb_6tH3V"
      },
      "execution_count": null,
      "outputs": []
    }
  ]
}