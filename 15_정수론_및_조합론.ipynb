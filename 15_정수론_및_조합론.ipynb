{
  "nbformat": 4,
  "nbformat_minor": 0,
  "metadata": {
    "colab": {
      "provenance": [],
      "authorship_tag": "ABX9TyM/9I9G6vTrLLINrfVy1bup",
      "include_colab_link": true
    },
    "kernelspec": {
      "name": "python3",
      "display_name": "Python 3"
    },
    "language_info": {
      "name": "python"
    }
  },
  "cells": [
    {
      "cell_type": "markdown",
      "metadata": {
        "id": "view-in-github",
        "colab_type": "text"
      },
      "source": [
        "<a href=\"https://colab.research.google.com/github/dahlia52/BAEKJOON/blob/main/15_%EC%A0%95%EC%88%98%EB%A1%A0_%EB%B0%8F_%EC%A1%B0%ED%95%A9%EB%A1%A0.ipynb\" target=\"_parent\"><img src=\"https://colab.research.google.com/assets/colab-badge.svg\" alt=\"Open In Colab\"/></a>"
      ]
    },
    {
      "cell_type": "markdown",
      "source": [
        "https://www.acmicpc.net/step/18"
      ],
      "metadata": {
        "id": "Pfd4nWhTtLFv"
      }
    },
    {
      "cell_type": "markdown",
      "source": [
        "### 5086\t 배수와 약수"
      ],
      "metadata": {
        "id": "HwNgXs6pszhR"
      }
    },
    {
      "cell_type": "markdown",
      "source": [
        "4 × 3 = 12이다.\n",
        "\n",
        "이 식을 통해 다음과 같은 사실을 알 수 있다.\n",
        "\n",
        "3은 12의 약수이고, 12는 3의 배수이다.\n",
        "\n",
        "4도 12의 약수이고, 12는 4의 배수이다.\n",
        "\n",
        "두 수가 주어졌을 때, 다음 3가지 중 어떤 관계인지 구하는 프로그램을 작성하시오.\n",
        "\n",
        "첫 번째 숫자가 두 번째 숫자의 약수이다.\n",
        "첫 번째 숫자가 두 번째 숫자의 배수이다.\n",
        "첫 번째 숫자가 두 번째 숫자의 약수와 배수 모두 아니다."
      ],
      "metadata": {
        "id": "61T1VtwrMvB2"
      }
    },
    {
      "cell_type": "code",
      "execution_count": null,
      "metadata": {
        "id": "V0ZnAKjxscD_",
        "colab": {
          "base_uri": "https://localhost:8080/"
        },
        "outputId": "532eb582-ea2d-4b5a-cd13-048d619d76e0"
      },
      "outputs": [
        {
          "name": "stdout",
          "output_type": "stream",
          "text": [
            "8 16\n",
            "factor\n",
            "32 4\n",
            "multiple\n",
            "17 5\n",
            "neither\n",
            "0 0\n"
          ]
        }
      ],
      "source": [
        "while 1:\n",
        "  a,b = map(int, input().split())\n",
        "  if a == 0 and b == 0:\n",
        "    break\n",
        "  if a % b == 0:\n",
        "    print(\"multiple\")\n",
        "  elif b % a == 0:\n",
        "    print(\"factor\")\n",
        "  else:\n",
        "    print(\"neither\")"
      ]
    },
    {
      "cell_type": "markdown",
      "source": [
        "### 1037\t 약수"
      ],
      "metadata": {
        "id": "4pMZPAiks1za"
      }
    },
    {
      "cell_type": "markdown",
      "source": [
        "양수 A가 N의 진짜 약수가 되려면, N이 A의 배수이고, A가 1과 N이 아니어야 한다. 어떤 수 N의 진짜 약수가 모두 주어질 때, N을 구하는 프로그램을 작성하시오."
      ],
      "metadata": {
        "id": "Wx4fontXNQSV"
      }
    },
    {
      "cell_type": "code",
      "source": [
        "n = int(input())\n",
        "list1 = list(map(int, input().split()))\n",
        "list1.sort()\n",
        "print(list1[0]*list1[-1])"
      ],
      "metadata": {
        "id": "DyT-uYmBs2aA",
        "colab": {
          "base_uri": "https://localhost:8080/"
        },
        "outputId": "9c25f560-9f17-4cc3-d451-4d51e66c68c6"
      },
      "execution_count": null,
      "outputs": [
        {
          "output_type": "stream",
          "name": "stdout",
          "text": [
            "14\n",
            "14 26456 2 28 13228 3307 7 23149 8 6614 46298 56 4 92596\n",
            "185192\n"
          ]
        }
      ]
    },
    {
      "cell_type": "code",
      "source": [
        "n = int(input())\n",
        "list1 = list(map(int, input().split()))\n",
        "print(min(list1)*max(list1))"
      ],
      "metadata": {
        "colab": {
          "base_uri": "https://localhost:8080/"
        },
        "id": "WXYmOH2eOIHD",
        "outputId": "cc0a6a2a-76bd-48fe-db6e-81cfbfe27587"
      },
      "execution_count": null,
      "outputs": [
        {
          "output_type": "stream",
          "name": "stdout",
          "text": [
            "1\n",
            "2\n",
            "4\n"
          ]
        }
      ]
    },
    {
      "cell_type": "markdown",
      "source": [
        "### 2609\t 최대공약수와 최소공배수"
      ],
      "metadata": {
        "id": "v7XxgjhEs3zD"
      }
    },
    {
      "cell_type": "markdown",
      "source": [
        "두 개의 자연수를 입력받아 최대 공약수와 최소 공배수를 출력하는 프로그램을 작성하시오."
      ],
      "metadata": {
        "id": "NvMSSdvWORBd"
      }
    },
    {
      "cell_type": "code",
      "source": [
        "a,b = map(int, input().split())\n",
        "gcd = 1\n",
        "for i in range(2,min(a,b)+1):\n",
        "  if a % i == 0 and b % i == 0:\n",
        "    gcd = i\n",
        "print(gcd)\n",
        "print(a*b//gcd)"
      ],
      "metadata": {
        "id": "fD2rJ4jls4WJ",
        "colab": {
          "base_uri": "https://localhost:8080/"
        },
        "outputId": "8fc0fac5-226f-4462-d43d-95f3fd306400"
      },
      "execution_count": null,
      "outputs": [
        {
          "output_type": "stream",
          "name": "stdout",
          "text": [
            "24 18\n",
            "6\n",
            "72\n"
          ]
        }
      ]
    },
    {
      "cell_type": "markdown",
      "source": [
        "- 파이썬 math 함수 이용) **math.gcd**(a,b) / **math.lcm**(a,b)\n",
        "\n",
        "\n",
        "\n",
        "참고: https://velog.io/@junyp1/%EB%B0%B1%EC%A4%80-2609-Python-%EC%B5%9C%EB%8C%80%EA%B3%B5%EC%95%BD%EC%88%98%EC%99%80-%EC%B5%9C%EC%86%8C%EA%B3%B5%EB%B0%B0%EC%88%98"
      ],
      "metadata": {
        "id": "xBOsNotMPI85"
      }
    },
    {
      "cell_type": "code",
      "source": [
        "import math\n",
        "a,b = map(int, input().split())\n",
        "print(math.gcd(a,b))\n",
        "print(math.lcm(a,b)) # lcm 함수는 파이썬 3.9버전 이상부터 사용 가능"
      ],
      "metadata": {
        "colab": {
          "base_uri": "https://localhost:8080/",
          "height": 248
        },
        "id": "jDwqhMk5PIdC",
        "outputId": "9a88df2d-6a2c-467c-865c-cc370bbb2c62"
      },
      "execution_count": null,
      "outputs": [
        {
          "output_type": "stream",
          "name": "stdout",
          "text": [
            "24 18\n",
            "6\n"
          ]
        },
        {
          "output_type": "error",
          "ename": "AttributeError",
          "evalue": "ignored",
          "traceback": [
            "\u001b[0;31m---------------------------------------------------------------------------\u001b[0m",
            "\u001b[0;31mAttributeError\u001b[0m                            Traceback (most recent call last)",
            "\u001b[0;32m<ipython-input-11-d8dd447134a7>\u001b[0m in \u001b[0;36m<module>\u001b[0;34m\u001b[0m\n\u001b[1;32m      2\u001b[0m \u001b[0ma\u001b[0m\u001b[0;34m,\u001b[0m\u001b[0mb\u001b[0m \u001b[0;34m=\u001b[0m \u001b[0mmap\u001b[0m\u001b[0;34m(\u001b[0m\u001b[0mint\u001b[0m\u001b[0;34m,\u001b[0m \u001b[0minput\u001b[0m\u001b[0;34m(\u001b[0m\u001b[0;34m)\u001b[0m\u001b[0;34m.\u001b[0m\u001b[0msplit\u001b[0m\u001b[0;34m(\u001b[0m\u001b[0;34m)\u001b[0m\u001b[0;34m)\u001b[0m\u001b[0;34m\u001b[0m\u001b[0;34m\u001b[0m\u001b[0m\n\u001b[1;32m      3\u001b[0m \u001b[0mprint\u001b[0m\u001b[0;34m(\u001b[0m\u001b[0mmath\u001b[0m\u001b[0;34m.\u001b[0m\u001b[0mgcd\u001b[0m\u001b[0;34m(\u001b[0m\u001b[0ma\u001b[0m\u001b[0;34m,\u001b[0m\u001b[0mb\u001b[0m\u001b[0;34m)\u001b[0m\u001b[0;34m)\u001b[0m\u001b[0;34m\u001b[0m\u001b[0;34m\u001b[0m\u001b[0m\n\u001b[0;32m----> 4\u001b[0;31m \u001b[0mprint\u001b[0m\u001b[0;34m(\u001b[0m\u001b[0mmath\u001b[0m\u001b[0;34m.\u001b[0m\u001b[0mlcm\u001b[0m\u001b[0;34m(\u001b[0m\u001b[0ma\u001b[0m\u001b[0;34m,\u001b[0m\u001b[0mb\u001b[0m\u001b[0;34m)\u001b[0m\u001b[0;34m)\u001b[0m\u001b[0;34m\u001b[0m\u001b[0;34m\u001b[0m\u001b[0m\n\u001b[0m",
            "\u001b[0;31mAttributeError\u001b[0m: module 'math' has no attribute 'lcm'"
          ]
        }
      ]
    },
    {
      "cell_type": "code",
      "source": [
        "import sys\n",
        "print(sys.version)"
      ],
      "metadata": {
        "colab": {
          "base_uri": "https://localhost:8080/"
        },
        "id": "hFqvCaPHPrtl",
        "outputId": "487f9ea5-2fdb-4ce6-e384-aee79b594f4c"
      },
      "execution_count": null,
      "outputs": [
        {
          "output_type": "stream",
          "name": "stdout",
          "text": [
            "3.8.10 (default, Nov 14 2022, 12:59:47) \n",
            "[GCC 9.4.0]\n"
          ]
        }
      ]
    },
    {
      "cell_type": "markdown",
      "source": [
        "- 유클리드 호제법 이용\n",
        "\n",
        "  ex. gcd(24, 18) = gcd(18, 6) = gcd(6, 0)"
      ],
      "metadata": {
        "id": "cjz05-otQHCP"
      }
    },
    {
      "cell_type": "code",
      "source": [
        "a,b = map(int, input().split())\n",
        "def gcd(a,b):\n",
        "  while b>0:\n",
        "    a,b = b,a%b\n",
        "  return a\n",
        "\n",
        "def lcm(a,b):\n",
        "  return a*b // gcd(a,b)\n",
        "print(gcd(a,b))\n",
        "print(lcm(a,b))"
      ],
      "metadata": {
        "colab": {
          "base_uri": "https://localhost:8080/"
        },
        "id": "vHPT162mQJVk",
        "outputId": "eda8d2ac-55f3-4eac-836d-a5f51d7c23dc"
      },
      "execution_count": null,
      "outputs": [
        {
          "output_type": "stream",
          "name": "stdout",
          "text": [
            "24 18\n",
            "6\n",
            "72\n"
          ]
        }
      ]
    },
    {
      "cell_type": "markdown",
      "source": [
        "### 1934\t 최소공배수"
      ],
      "metadata": {
        "id": "So88ucL-s5T7"
      }
    },
    {
      "cell_type": "markdown",
      "source": [
        "두 자연수 A와 B에 대해서, A의 배수이면서 B의 배수인 자연수를 A와 B의 공배수라고 한다. 이런 공배수 중에서 가장 작은 수를 최소공배수라고 한다. 예를 들어, 6과 15의 공배수는 30, 60, 90등이 있으며, 최소 공배수는 30이다.\n",
        "\n",
        "두 자연수 A와 B가 주어졌을 때, A와 B의 최소공배수를 구하는 프로그램을 작성하시오."
      ],
      "metadata": {
        "id": "gZTAzAgERAhT"
      }
    },
    {
      "cell_type": "code",
      "source": [
        "import math\n",
        "n = int(input())\n",
        "for _ in range(n):\n",
        "  a,b = map(int, input().split())\n",
        "  print(a*b//math.gcd(a,b))"
      ],
      "metadata": {
        "id": "CYpxs9bgs5zp",
        "colab": {
          "base_uri": "https://localhost:8080/"
        },
        "outputId": "44024003-8538-4721-d292-107f4ab324bd"
      },
      "execution_count": null,
      "outputs": [
        {
          "output_type": "stream",
          "name": "stdout",
          "text": [
            "3\n",
            "1 45000\n",
            "45000\n",
            "6 10\n",
            "30\n",
            "13 17\n",
            "221\n"
          ]
        }
      ]
    },
    {
      "cell_type": "code",
      "source": [
        "n = int(input())\n",
        "for _ in range(n):\n",
        "  a,b = map(int, input().split())\n",
        "  c,d = a,b\n",
        "  while d>0:\n",
        "    c,d = d, c%d\n",
        "  print(a*b//c)"
      ],
      "metadata": {
        "colab": {
          "base_uri": "https://localhost:8080/"
        },
        "id": "--CLRpuMRn62",
        "outputId": "3ed054dd-996b-4f6d-fd25-06a93f33d9a3"
      },
      "execution_count": null,
      "outputs": [
        {
          "output_type": "stream",
          "name": "stdout",
          "text": [
            "3\n",
            "1 45000\n",
            "45000\n",
            "6 10\n",
            "30\n",
            "13 17\n",
            "221\n"
          ]
        }
      ]
    },
    {
      "cell_type": "markdown",
      "source": [
        "### 2981\t 검문"
      ],
      "metadata": {
        "id": "dWNQlS3zs6nw"
      }
    },
    {
      "cell_type": "markdown",
      "source": [
        "트럭을 타고 이동하던 상근이는 경찰의 검문을 받게 되었다. 경찰은 상근이가 운반하던 화물을 하나하나 모두 확인할 것이기 때문에, 검문하는데 엄청나게 오랜 시간이 걸린다.\n",
        "\n",
        "상근이는 시간을 때우기 위해서 수학 게임을 하기로 했다.\n",
        "\n",
        "먼저 근처에 보이는 숫자 N개를 종이에 적는다. 그 다음, 종이에 적은 수를 M으로 나누었을 때, 나머지가 모두 같게 되는 M을 모두 찾으려고 한다. M은 1보다 커야 한다.\n",
        "\n",
        "N개의 수가 주어졌을 때, 가능한 M을 모두 찾는 프로그램을 작성하시오."
      ],
      "metadata": {
        "id": "tEhNJ57NUUv6"
      }
    },
    {
      "cell_type": "markdown",
      "source": [
        "나머지가 모두 동일한 수들\n",
        "\n",
        "a = m*a` + k\n",
        "\n",
        "b = m*b` + k\n",
        "\n",
        "c = m*c` + k\n",
        "\n",
        "=> a,b,c의 차는 모두 m의 배수"
      ],
      "metadata": {
        "id": "O1UAWWZsUpFA"
      }
    },
    {
      "cell_type": "code",
      "source": [
        "# 시간초과\n",
        "n = int(input())\n",
        "list1 = []\n",
        "for _ in range(n):\n",
        "  list1.append(int(input()))\n",
        "list1.sort()\n",
        "diff = set()\n",
        "for i in range(n-1):\n",
        "  diff.add(list1[i+1]-list1[i])\n",
        "mini = min(diff)\n",
        "for i in range(2,mini+1):\n",
        "  q = []\n",
        "  for val in list1: \n",
        "    q.append(val % i)\n",
        "  if len(set(q)) == 1:\n",
        "    print(i, end=\" \")"
      ],
      "metadata": {
        "colab": {
          "base_uri": "https://localhost:8080/"
        },
        "id": "8STa-2S_hAUS",
        "outputId": "1a1ae631-ab73-48d2-fe03-932288e8d256"
      },
      "execution_count": null,
      "outputs": [
        {
          "output_type": "stream",
          "name": "stdout",
          "text": [
            "5\n",
            "5\n",
            "17\n",
            "23\n",
            "14\n",
            "83\n",
            "3 "
          ]
        }
      ]
    },
    {
      "cell_type": "code",
      "source": [
        "# 각 숫자들의 차의 최대공약수를 찾아 최대공약수의 약수를 구함\n",
        "import math\n",
        "n = int(input())\n",
        "list1 = []\n",
        "for _ in range(n):\n",
        "  list1.append(int(input()))\n",
        "list1.sort()\n",
        "diff = list1[1]-list1[0]\n",
        "for i in range(1,n-1):\n",
        "  diff = math.gcd(diff,list1[i+1]-list1[i]) # 각 숫자들의 차의 최대공약수\n",
        "for i in range(2,diff+1):\n",
        "  if diff % i == 0:\n",
        "    print(i, end=\" \")"
      ],
      "metadata": {
        "colab": {
          "base_uri": "https://localhost:8080/"
        },
        "id": "4Hkbx_UyYup1",
        "outputId": "2404f234-29fb-4e06-bbd5-59111160c195"
      },
      "execution_count": 2,
      "outputs": [
        {
          "output_type": "stream",
          "name": "stdout",
          "text": [
            "3\n",
            "6\n",
            "34\n",
            "38\n",
            "2 4 "
          ]
        }
      ]
    },
    {
      "cell_type": "markdown",
      "source": [
        "### 3036\t 링"
      ],
      "metadata": {
        "id": "8KnGhvgOs8WI"
      }
    },
    {
      "cell_type": "markdown",
      "source": [
        "상근이는 창고에서 링 N개를 발견했다. 상근이는 각각의 링이 앞에 있는 링과 뒤에 있는 링과 접하도록 바닥에 내려놓았다. \n",
        "\n",
        "\n",
        "\n",
        "상근이는 첫 번째 링을 돌리기 시작했고, 나머지 링도 같이 돌아간다는 사실을 발견했다. 나머지 링은 첫 번째 링 보다 빠르게 돌아가기도 했고, 느리게 돌아가기도 했다. 이렇게 링을 돌리다 보니 첫 번째 링을 한 바퀴 돌리면, 나머지 링은 몇 바퀴 도는지 궁금해졌다.\n",
        "\n",
        "링의 반지름이 주어진다. 이때, 첫 번째 링을 한 바퀴 돌리면, 나머지 링은 몇 바퀴 돌아가는지 구하는 프로그램을 작성하시오."
      ],
      "metadata": {
        "id": "ATETfpa22YEa"
      }
    },
    {
      "cell_type": "markdown",
      "source": [
        "- 기약분수: Fraction(a,b)"
      ],
      "metadata": {
        "id": "LmIXV7_j4M_K"
      }
    },
    {
      "cell_type": "code",
      "source": [
        "from fractions import Fraction\n",
        "n = int(input())\n",
        "rings = list(map(int, input().split()))\n",
        "for i in range(1,n):\n",
        "  a = Fraction(rings[0],rings[i])\n",
        "  if a == int(a):\n",
        "    print(str(a)+\"/\"+'1')\n",
        "  else:\n",
        "    print(a)"
      ],
      "metadata": {
        "id": "Je_8gPvms83h",
        "colab": {
          "base_uri": "https://localhost:8080/"
        },
        "outputId": "284536c2-6425-4a97-e8ed-a64c0955be30"
      },
      "execution_count": null,
      "outputs": [
        {
          "output_type": "stream",
          "name": "stdout",
          "text": [
            "4\n",
            "12 3 8 4\n",
            "4/1\n",
            "3/2\n",
            "3/1\n"
          ]
        }
      ]
    },
    {
      "cell_type": "markdown",
      "source": [
        "- 기약분수는 분자와 분모에 분자, 분모의 최대공약수로 나누면 만들어짐\n",
        "\n",
        "참고: https://jinho-study.tistory.com/128"
      ],
      "metadata": {
        "id": "Is8-ccCk4SN5"
      }
    },
    {
      "cell_type": "code",
      "source": [
        "def gcd(a,b):\n",
        "  while (b!=0):\n",
        "    a,b = b, a%b\n",
        "    return a\n",
        "n = int(input())\n",
        "rings = list(map(int, input().split()))\n",
        "for i in range(1,n):\n",
        "  g = gcd(rings[0], rings[i])\n",
        "  print(\"{0}/{1}\".format(rings[0]//g, rings[i]//g))"
      ],
      "metadata": {
        "colab": {
          "base_uri": "https://localhost:8080/"
        },
        "id": "AVVWplEs4RLp",
        "outputId": "bb35520d-0871-4d75-aa34-7db3a7b4074d"
      },
      "execution_count": null,
      "outputs": [
        {
          "output_type": "stream",
          "name": "stdout",
          "text": [
            "4\n",
            "12 3 8 4\n",
            "4/1\n",
            "1/1\n",
            "3/1\n"
          ]
        }
      ]
    },
    {
      "cell_type": "markdown",
      "source": [
        "### 11050\t 이항 계수 1"
      ],
      "metadata": {
        "id": "-A0D15O6s907"
      }
    },
    {
      "cell_type": "markdown",
      "source": [
        "자연수 \n",
        "$N$과 정수 \n",
        "$K$가 주어졌을 때 이항 계수 \n",
        "$binom{N}{K}$를 구하는 프로그램을 작성하시오."
      ],
      "metadata": {
        "id": "WE-9Y66_6JZa"
      }
    },
    {
      "cell_type": "markdown",
      "source": [
        "nCk = n(n-1)*...*(n-k+1) / k!\n",
        "\n",
        "nCk = nC(n-k)"
      ],
      "metadata": {
        "id": "lrQnlP0x9LQp"
      }
    },
    {
      "cell_type": "code",
      "source": [
        "n,k = map(int, input().split())\n",
        "k = min(k,n-k)\n",
        "c = 1\n",
        "for i in range(k):\n",
        "  c *=(n-i)\n",
        "for j in range(k):\n",
        "  c//=(j+1)\n",
        "print(c)"
      ],
      "metadata": {
        "id": "sci3qcZOs-Wp",
        "colab": {
          "base_uri": "https://localhost:8080/"
        },
        "outputId": "7b01012a-ab42-42bf-d95c-2526b67ef53c"
      },
      "execution_count": null,
      "outputs": [
        {
          "output_type": "stream",
          "name": "stdout",
          "text": [
            "5 2\n",
            "10\n"
          ]
        }
      ]
    },
    {
      "cell_type": "markdown",
      "source": [
        "nCk = n!/k!(n-k)!"
      ],
      "metadata": {
        "id": "yD5jHQQq9ULp"
      }
    },
    {
      "cell_type": "code",
      "source": [
        "def factorial(n):\n",
        "  if n == 1:\n",
        "    return 1\n",
        "  else:\n",
        "    return n*factorial(n-1)\n",
        "n,k = map(int, input().split())\n",
        "print(factorial(n)//(factorial(k)*factorial(n-k)))"
      ],
      "metadata": {
        "colab": {
          "base_uri": "https://localhost:8080/"
        },
        "id": "H9uK5Oh79KMJ",
        "outputId": "f9db87cd-1821-4949-d651-94efa889b74b"
      },
      "execution_count": null,
      "outputs": [
        {
          "output_type": "stream",
          "name": "stdout",
          "text": [
            "5 2\n",
            "10\n"
          ]
        }
      ]
    },
    {
      "cell_type": "markdown",
      "source": [
        "### \t11051\t 이항 계수 2"
      ],
      "metadata": {
        "id": "gBmuK3J2s_kZ"
      }
    },
    {
      "cell_type": "markdown",
      "source": [
        "자연수 \n",
        "\\(N\\)과 정수 \n",
        "\\(K\\)가 주어졌을 때 이항 계수 \n",
        "\\(\\binom{N}{K}\\)를 10,007로 나눈 나머지를 구하는 프로그램을 작성하시오."
      ],
      "metadata": {
        "id": "izNd2Lgp-AtR"
      }
    },
    {
      "cell_type": "code",
      "source": [
        "n,k = map(int, input().split())\n",
        "k = min(k,n-k)\n",
        "c = 1\n",
        "for i in range(k):\n",
        "  c *=(n-i)\n",
        "for j in range(k):\n",
        "  c//=(j+1)\n",
        "print(c%10007)"
      ],
      "metadata": {
        "id": "mHetRAI2tALq",
        "colab": {
          "base_uri": "https://localhost:8080/"
        },
        "outputId": "3419cf3f-8bb9-405d-ca27-3a65d04dc237"
      },
      "execution_count": null,
      "outputs": [
        {
          "output_type": "stream",
          "name": "stdout",
          "text": [
            "5 2\n",
            "10\n"
          ]
        }
      ]
    },
    {
      "cell_type": "markdown",
      "source": [
        "- 파스칼의 삼각형을 이용한 DP 풀이\n",
        "\n",
        "참고: https://pacific-ocean.tistory.com/207"
      ],
      "metadata": {
        "id": "JZsB97xGkctb"
      }
    },
    {
      "cell_type": "markdown",
      "source": [
        "**동적 계획법(Dynamic Programming, DP)**\n",
        "\n",
        "- 하나의 큰 문제를 여러 개의 작은 문제로 나누어서 그 결과를 저장하여 다시 큰 문제를 해결할 때 사용하는 것\n",
        "\n",
        "- 일반적인 재귀는 동일한 작은 문제들이 여러 번 반복 계산되어 비효율적임.\n",
        "\n",
        "- 부분 문제 반복과 최적 부분 구조를 가지고 있는 알고리즘을 효율적으로 품."
      ],
      "metadata": {
        "id": "QoZdCsz7twKV"
      }
    },
    {
      "cell_type": "code",
      "source": [
        "n,k = map(int, input().split())\n",
        "dp = [[0]*1 for _ in range(1001)]\n",
        "dp[1].append(1) # 첫번째 줄에 1\n",
        "for i in range(2,1001):\n",
        "  for j in range(1,i+1): # i번째 줄\n",
        "    if j==1: \n",
        "      dp[i].append(1) # 첫번째 숫자는 1\n",
        "    elif j==i:\n",
        "      dp[i].append(1) # 마지막 숫자는 1\n",
        "    else:\n",
        "      dp[i].append(dp[i-1][j-1] + dp[i-1][j])\n",
        "print(dp[n+1][k+1]%10007)"
      ],
      "metadata": {
        "colab": {
          "base_uri": "https://localhost:8080/"
        },
        "id": "IJZ4_D_kkj88",
        "outputId": "436f49f1-51e1-494d-b8bd-24ff1110a467"
      },
      "execution_count": null,
      "outputs": [
        {
          "output_type": "stream",
          "name": "stdout",
          "text": [
            "5 2\n",
            "10\n"
          ]
        }
      ]
    },
    {
      "cell_type": "markdown",
      "source": [
        "### 1010\t 다리 놓기"
      ],
      "metadata": {
        "id": "ExYaiASTtCMQ"
      }
    },
    {
      "cell_type": "markdown",
      "source": [
        "재원이는 한 도시의 시장이 되었다. 이 도시에는 도시를 동쪽과 서쪽으로 나누는 큰 일직선 모양의 강이 흐르고 있다. 하지만 재원이는 다리가 없어서 시민들이 강을 건너는데 큰 불편을 겪고 있음을 알고 다리를 짓기로 결심하였다. 강 주변에서 다리를 짓기에 적합한 곳을 사이트라고 한다. 재원이는 강 주변을 면밀히 조사해 본 결과 강의 서쪽에는 N개의 사이트가 있고 동쪽에는 M개의 사이트가 있다는 것을 알았다. (N ≤ M)\n",
        "\n",
        "재원이는 서쪽의 사이트와 동쪽의 사이트를 다리로 연결하려고 한다. (이때 한 사이트에는 최대 한 개의 다리만 연결될 수 있다.) 재원이는 다리를 최대한 많이 지으려고 하기 때문에 서쪽의 사이트 개수만큼 (N개) 다리를 지으려고 한다. 다리끼리는 서로 겹쳐질 수 없다고 할 때 다리를 지을 수 있는 경우의 수를 구하는 프로그램을 작성하라."
      ],
      "metadata": {
        "id": "D7OY5foMkbvV"
      }
    },
    {
      "cell_type": "code",
      "source": [
        "t = int(input())\n",
        "for _ in range(t): \n",
        "  n,m = map(int, input().split()) # mCn\n",
        "  n = min(n,m-n)\n",
        "  c = 1\n",
        "  for i in range(n):\n",
        "    c *=(m-i)\n",
        "  for j in range(n):\n",
        "    c//=(j+1)\n",
        "  print(c)"
      ],
      "metadata": {
        "id": "EWoftr8mtCvJ",
        "colab": {
          "base_uri": "https://localhost:8080/"
        },
        "outputId": "3a1e3260-23d3-4a7d-a012-386b5aaf5cb5"
      },
      "execution_count": null,
      "outputs": [
        {
          "output_type": "stream",
          "name": "stdout",
          "text": [
            "3\n",
            "2 2\n",
            "1\n",
            "1 5\n",
            "5\n",
            "13 29\n",
            "67863915\n"
          ]
        }
      ]
    },
    {
      "cell_type": "markdown",
      "source": [
        "### \t9375\t 패션왕 신해빈"
      ],
      "metadata": {
        "id": "cRZQMMt4tDvt"
      }
    },
    {
      "cell_type": "markdown",
      "source": [
        "해빈이는 패션에 매우 민감해서 한번 입었던 옷들의 조합을 절대 다시 입지 않는다. 예를 들어 오늘 해빈이가 안경, 코트, 상의, 신발을 입었다면, 다음날은 바지를 추가로 입거나 안경대신 렌즈를 착용하거나 해야한다. 해빈이가 가진 의상들이 주어졌을때 과연 해빈이는 알몸이 아닌 상태로 며칠동안 밖에 돌아다닐 수 있을까?"
      ],
      "metadata": {
        "id": "gZ0P-dXzs-Pe"
      }
    },
    {
      "cell_type": "code",
      "source": [
        "t = int(input())\n",
        "for _ in range(t):\n",
        "  n = int(input())\n",
        "  clothes = []\n",
        "  for _ in range(n):\n",
        "    clothes.append(input().split()[1])\n",
        "  cloth = set(clothes)\n",
        "  cnt = []\n",
        "  for cl in cloth:\n",
        "    cnt.append(clothes.count(cl))\n",
        "  ans = 1\n",
        "  for i in range(len(cnt)):\n",
        "    ans *= (cnt[i]+1)\n",
        "  print(ans-1)"
      ],
      "metadata": {
        "id": "psXJNPYMtEOK",
        "colab": {
          "base_uri": "https://localhost:8080/"
        },
        "outputId": "bcd7b071-5570-412b-e7bd-f1cfb0f403d0"
      },
      "execution_count": null,
      "outputs": [
        {
          "output_type": "stream",
          "name": "stdout",
          "text": [
            "2\n",
            "3\n",
            "hat headgear\n",
            "sunglasses eyewear\n",
            "turban headgear\n",
            "5\n",
            "3\n",
            "mask face\n",
            "sunglasses face\n",
            "makeup face\n",
            "3\n"
          ]
        }
      ]
    },
    {
      "cell_type": "markdown",
      "source": [
        "- dictionary 이용\n",
        "\n",
        "참고: https://hongcoding.tistory.com/60"
      ],
      "metadata": {
        "id": "LARgPW-z0k5o"
      }
    },
    {
      "cell_type": "code",
      "source": [
        "t = int(input())\n",
        "for _ in range(t):\n",
        "  n = int(input())\n",
        "  clothes = {}\n",
        "  for _ in range(n):\n",
        "    cloth = list(input().split())\n",
        "    if cloth[1] in clothes:\n",
        "      clothes[cloth[1]].append(cloth[0])\n",
        "    else:\n",
        "      clothes[cloth[1]] = [cloth[0]]\n",
        "  cnt = 1\n",
        "  for i in clothes:\n",
        "    cnt *= (len(clothes[i])+1)\n",
        "  print(cnt-1)"
      ],
      "metadata": {
        "colab": {
          "base_uri": "https://localhost:8080/"
        },
        "id": "yTdLJReW0nci",
        "outputId": "4befcf7f-0a35-4d1d-ebee-6937e4451585"
      },
      "execution_count": null,
      "outputs": [
        {
          "output_type": "stream",
          "name": "stdout",
          "text": [
            "2\n",
            "3\n",
            "hat headgear\n",
            "sunglasses eyewear\n",
            "turban headgear\n",
            "5\n",
            "3\n",
            "mask face\n",
            "sunglasses face\n",
            "makeup face\n",
            "3\n"
          ]
        }
      ]
    },
    {
      "cell_type": "markdown",
      "source": [
        "- 파이썬의 Counter 모듈 이용"
      ],
      "metadata": {
        "id": "p2VAnAma2f2C"
      }
    },
    {
      "cell_type": "code",
      "source": [
        "from collections import Counter\n",
        "t = int(input())\n",
        "for _ in range(t):\n",
        "  n = int(input())\n",
        "  clothes = []\n",
        "  for _ in range(n):\n",
        "    clothes.append(input().split()[1])\n",
        "  clothes_counter = Counter(clothes) # dict 형식\n",
        "  cnt = 1\n",
        "  for i in clothes_counter:\n",
        "    cnt*=(clothes_counter[i]+1)\n",
        "  print(cnt-1)"
      ],
      "metadata": {
        "colab": {
          "base_uri": "https://localhost:8080/"
        },
        "id": "7Ef5Fsa40oAg",
        "outputId": "114521fc-b507-4fc6-af22-c6807584c71e"
      },
      "execution_count": null,
      "outputs": [
        {
          "output_type": "stream",
          "name": "stdout",
          "text": [
            "2\n",
            "3\n",
            "hat headgear\n",
            "sunglasses eyewear\n",
            "turban headgear\n",
            "5\n",
            "3\n",
            "mask face\n",
            "sunglasses face\n",
            "makeup face\n",
            "3\n"
          ]
        }
      ]
    },
    {
      "cell_type": "code",
      "source": [
        "clothes_counter"
      ],
      "metadata": {
        "colab": {
          "base_uri": "https://localhost:8080/"
        },
        "id": "P176Qo-33V-1",
        "outputId": "dfd1a777-defd-49cb-8696-abc712839452"
      },
      "execution_count": null,
      "outputs": [
        {
          "output_type": "execute_result",
          "data": {
            "text/plain": [
              "Counter({'face': 3})"
            ]
          },
          "metadata": {},
          "execution_count": 12
        }
      ]
    },
    {
      "cell_type": "markdown",
      "source": [
        "### \t1676\t 팩토리얼 0의 개수"
      ],
      "metadata": {
        "id": "FQCgKd4vtFQY"
      }
    },
    {
      "cell_type": "markdown",
      "source": [
        "N!에서 뒤에서부터 처음 0이 아닌 숫자가 나올 때까지 0의 개수를 구하는 프로그램을 작성하시오."
      ],
      "metadata": {
        "id": "pvKSCwoV3hns"
      }
    },
    {
      "cell_type": "code",
      "source": [
        "n = int(input())\n",
        "num=1\n",
        "for i in range(2,n+1):\n",
        "  num *= i\n",
        "num = str(num)\n",
        "for i in range(len(num)):\n",
        "  if num[len(num)-i-1] != '0':\n",
        "    break\n",
        "print(i)"
      ],
      "metadata": {
        "id": "gbNKEqKWtGDH",
        "colab": {
          "base_uri": "https://localhost:8080/"
        },
        "outputId": "211b5998-b8a1-4c81-d0f6-46e827f91daa"
      },
      "execution_count": null,
      "outputs": [
        {
          "output_type": "stream",
          "name": "stdout",
          "text": [
            "3\n",
            "0\n"
          ]
        }
      ]
    },
    {
      "cell_type": "code",
      "source": [
        "n = int(input())\n",
        "num=1\n",
        "for i in range(2,n+1):\n",
        "  num *= i\n",
        "cnt = 0\n",
        "while 1:\n",
        "  if num % 10 == 0: # 끝자리 0의 개수: 10으로 몇 번 나누어 떨어지는가\n",
        "    cnt +=1\n",
        "    num //= 10\n",
        "  else:\n",
        "    break\n",
        "print(cnt)"
      ],
      "metadata": {
        "colab": {
          "base_uri": "https://localhost:8080/"
        },
        "id": "R_CZ9oskIcV-",
        "outputId": "b17cdbbc-6e73-490b-9b00-ecd84011265b"
      },
      "execution_count": null,
      "outputs": [
        {
          "output_type": "stream",
          "name": "stdout",
          "text": [
            "10\n",
            "2\n"
          ]
        }
      ]
    },
    {
      "cell_type": "markdown",
      "source": [
        "- factorial 함수 불러오기\n",
        "\n",
        "**from math import factorial**\n",
        "\n",
        "참고: https://mococoding.tistory.com/14"
      ],
      "metadata": {
        "id": "q7T2-YV1HF99"
      }
    },
    {
      "cell_type": "code",
      "source": [
        "from math import factorial\n",
        "n = int(input())\n",
        "num = str(factorial(n))\n",
        "cnt = 0\n",
        "for i in num[::-1]:\n",
        "  if i!= '0':\n",
        "    break\n",
        "  cnt += 1\n",
        "print(cnt)"
      ],
      "metadata": {
        "colab": {
          "base_uri": "https://localhost:8080/"
        },
        "id": "UkmnWLHdHJ1Z",
        "outputId": "fb45c7d1-e893-459f-df86-6b943d46191e"
      },
      "execution_count": null,
      "outputs": [
        {
          "output_type": "stream",
          "name": "stdout",
          "text": [
            "3\n",
            "0\n"
          ]
        }
      ]
    },
    {
      "cell_type": "markdown",
      "source": [
        "- 5로 나누어 떨어지는 수의 개수 구하기"
      ],
      "metadata": {
        "id": "hbWuc31CHXbD"
      }
    },
    {
      "cell_type": "markdown",
      "source": [
        "n!에서 10으로 나누어 떨어짐 => n!에서 소인수 2의 개수와 5의 개수 찾기 (but 2의 개수 >>> 5의 개수)\n",
        "\n",
        "n이하의 수에서 소인수 5의 개수 찾기\n",
        "\n",
        "n이하의 수 중 5로 나누어 떨어지는 수 + n이하의 수 중 25로 나누어 떨어지는 수 + ...\n",
        "\n",
        "=> factorial을 계산할 필요가 없어 효율적"
      ],
      "metadata": {
        "id": "sIIzICZxNKca"
      }
    },
    {
      "cell_type": "code",
      "source": [
        "n = int(input())\n",
        "def five_count(n):\n",
        "  cnt = 0\n",
        "  while n != 0:\n",
        "    n //= 5\n",
        "    cnt += n\n",
        "  return cnt\n",
        "print(five_count(n))"
      ],
      "metadata": {
        "colab": {
          "base_uri": "https://localhost:8080/"
        },
        "id": "eHp-1SGZJoIU",
        "outputId": "40c290eb-ca8f-45da-c873-4876b7db637e"
      },
      "execution_count": null,
      "outputs": [
        {
          "output_type": "stream",
          "name": "stdout",
          "text": [
            "10\n",
            "2\n"
          ]
        }
      ]
    },
    {
      "cell_type": "code",
      "source": [
        "n = int(input())\n",
        "print(n//5 + n//25 + n//125)"
      ],
      "metadata": {
        "colab": {
          "base_uri": "https://localhost:8080/"
        },
        "id": "qs_OFpoZOHK3",
        "outputId": "1d57705d-6073-4521-fcc9-2006f8a6ad95"
      },
      "execution_count": null,
      "outputs": [
        {
          "output_type": "stream",
          "name": "stdout",
          "text": [
            "10\n",
            "2\n"
          ]
        }
      ]
    },
    {
      "cell_type": "markdown",
      "source": [
        "### 2004\t 조합 0의 개수"
      ],
      "metadata": {
        "id": "H-cBrhJytHSr"
      }
    },
    {
      "cell_type": "markdown",
      "source": [
        " \n",
        "$n \\choose m$의 끝자리 \n",
        "$0$의 개수를 출력하는 프로그램을 작성하시오."
      ],
      "metadata": {
        "id": "1_DG7sfaHim5"
      }
    },
    {
      "cell_type": "code",
      "source": [
        "# 시간초과\n",
        "n,m = map(int, input().split())\n",
        "m = min(m, n-m)\n",
        "val = 1\n",
        "for i in range(m):\n",
        "  val *= (n-i)\n",
        "for j in range(2,m+1):\n",
        "  val //= j\n",
        "for i in range(len(str(val))):\n",
        "  if str(val)[len(str(val))-i-1] != '0':\n",
        "    break\n",
        "print(i)"
      ],
      "metadata": {
        "id": "_R6exb_6tH3V",
        "colab": {
          "base_uri": "https://localhost:8080/"
        },
        "outputId": "f0fbed8c-e54b-4e10-b69f-9487e92273d3"
      },
      "execution_count": null,
      "outputs": [
        {
          "output_type": "stream",
          "name": "stdout",
          "text": [
            "25 12\n",
            "2\n"
          ]
        }
      ]
    },
    {
      "cell_type": "code",
      "source": [
        "# 2, 5의 개수 세기\n",
        "def countnum(n,d):\n",
        "  cnt = 0\n",
        "  while n>0:\n",
        "    cnt += n//d\n",
        "    n//=d\n",
        "  return cnt\n",
        "n,m = map(int, input().split())\n",
        "print(min(countnum(n,5)-countnum(m,5)-countnum(n-m,5), countnum(n,2)-countnum(m,2)-countnum(n-m,2)))"
      ],
      "metadata": {
        "id": "3b9utCFEOlxc",
        "colab": {
          "base_uri": "https://localhost:8080/"
        },
        "outputId": "7102bfcd-d955-4416-beea-6511d57b8760"
      },
      "execution_count": null,
      "outputs": [
        {
          "output_type": "stream",
          "name": "stdout",
          "text": [
            "25 12\n",
            "2\n"
          ]
        }
      ]
    }
  ]
}