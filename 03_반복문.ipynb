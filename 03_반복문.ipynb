{
  "nbformat": 4,
  "nbformat_minor": 0,
  "metadata": {
    "colab": {
      "provenance": [],
      "collapsed_sections": []
    },
    "kernelspec": {
      "name": "python3",
      "display_name": "Python 3"
    },
    "language_info": {
      "name": "python"
    }
  },
  "cells": [
    {
      "cell_type": "markdown",
      "source": [
        "https://www.acmicpc.net/step/3"
      ],
      "metadata": {
        "id": "NgF4wltsn31j"
      }
    },
    {
      "cell_type": "markdown",
      "source": [
        "- 2739번 구구단"
      ],
      "metadata": {
        "id": "vDhZHDOboC1z"
      }
    },
    {
      "cell_type": "code",
      "execution_count": null,
      "metadata": {
        "colab": {
          "base_uri": "https://localhost:8080/"
        },
        "id": "jUpL-Nv8n0R8",
        "outputId": "ccb39aac-2e14-4a8b-db50-11d98b4901cb"
      },
      "outputs": [
        {
          "output_type": "stream",
          "name": "stdout",
          "text": [
            "2\n",
            "2 * 1 = 2\n",
            "2 * 2 = 4\n",
            "2 * 3 = 6\n",
            "2 * 4 = 8\n",
            "2 * 5 = 10\n",
            "2 * 6 = 12\n",
            "2 * 7 = 14\n",
            "2 * 8 = 16\n",
            "2 * 9 = 18\n"
          ]
        }
      ],
      "source": [
        "n = int(input())\n",
        "for i in range(1,10):\n",
        "  print(n, \"*\", i, \"=\", n*i)"
      ]
    },
    {
      "cell_type": "markdown",
      "source": [
        "- 10950번 A+B - 3"
      ],
      "metadata": {
        "id": "C5-xbfTDojvX"
      }
    },
    {
      "cell_type": "code",
      "source": [
        "n = int(input())\n",
        "for i in range(n):\n",
        "  a, b = map(int, input().split())\n",
        "  print(a+b)"
      ],
      "metadata": {
        "colab": {
          "base_uri": "https://localhost:8080/"
        },
        "id": "-OGoLw0JoU5U",
        "outputId": "44cc8748-f76b-4028-af5d-b21741c5c4cd"
      },
      "execution_count": null,
      "outputs": [
        {
          "output_type": "stream",
          "name": "stdout",
          "text": [
            "5\n",
            "1 1\n",
            "2\n",
            "2 3\n",
            "5\n",
            "3 4\n",
            "7\n",
            "9 8\n",
            "17\n",
            "5 2\n",
            "7\n"
          ]
        }
      ]
    },
    {
      "cell_type": "markdown",
      "source": [
        "- 8393번 합"
      ],
      "metadata": {
        "id": "2yAf9lHOpdln"
      }
    },
    {
      "cell_type": "code",
      "source": [
        "n = int(input())\n",
        "sum = 0\n",
        "for i in range(n+1):\n",
        "  sum+=i\n",
        "print(sum)"
      ],
      "metadata": {
        "colab": {
          "base_uri": "https://localhost:8080/"
        },
        "id": "zv3mIt8HpJ06",
        "outputId": "59fdaec5-0f84-41f1-c8cd-2af56b72a881"
      },
      "execution_count": null,
      "outputs": [
        {
          "output_type": "stream",
          "name": "stdout",
          "text": [
            "3\n",
            "6\n"
          ]
        }
      ]
    },
    {
      "cell_type": "markdown",
      "source": [
        "- 25304번 영수증"
      ],
      "metadata": {
        "id": "lbHB6fTZpzig"
      }
    },
    {
      "cell_type": "code",
      "source": [
        "total = int(input())\n",
        "n = int(input())\n",
        "sum = 0\n",
        "for i in range(n):\n",
        "  cost, count = map(int, input().split())\n",
        "  sum+=cost*count\n",
        "print(\"Yes\") if (total==sum) else print(\"No\")"
      ],
      "metadata": {
        "colab": {
          "base_uri": "https://localhost:8080/"
        },
        "id": "9NrQJNjQprlY",
        "outputId": "f594bc9f-5cfb-4851-cd44-d08e532a8cb1"
      },
      "execution_count": null,
      "outputs": [
        {
          "output_type": "stream",
          "name": "stdout",
          "text": [
            "5000\n",
            "2\n",
            "1000 2\n",
            "2000 3\n",
            "No\n"
          ]
        }
      ]
    },
    {
      "cell_type": "markdown",
      "source": [
        "- 15552번 빠른 A+B"
      ],
      "metadata": {
        "id": "gCZ3S4Kdq-nQ"
      }
    },
    {
      "cell_type": "markdown",
      "source": [
        "> sys.stdin.readline()\n",
        "\n",
        "- 반복문으로 여러줄 입력받는 상황에서 input()대신 sys.stdin.readline()을 사용해야 시간초과가 발생하지 않음.\n",
        "\n",
        "- 한 줄 단위로 입력받음. 맨 끝의 개행문자까지 같이 입력받기 때문에 문자열을 저장하고 싶을 경우 .rstrip()을 추가로 해 주는 것이 좋음."
      ],
      "metadata": {
        "id": "wrrR9-j2tJWU"
      }
    },
    {
      "cell_type": "code",
      "source": [
        "import sys\n",
        "n = int(input())\n",
        "for i in range(n):\n",
        "  a,b = map(int,sys.stdin.readline().split())\n",
        "  print(a+b)"
      ],
      "metadata": {
        "id": "aETGnmulqqZk"
      },
      "execution_count": null,
      "outputs": []
    },
    {
      "cell_type": "code",
      "source": [
        "for i in range(5):\n",
        "  a,b = map(int,sys.stdin.readline().split())\n",
        "  print(a+b)"
      ],
      "metadata": {
        "id": "Ek-GKKks0-Ao"
      },
      "execution_count": null,
      "outputs": []
    },
    {
      "cell_type": "markdown",
      "source": [
        "- 11021번 A+B-7"
      ],
      "metadata": {
        "id": "p0SVh3pEwOG1"
      }
    },
    {
      "cell_type": "code",
      "source": [
        "n = int(input())\n",
        "for i in range(n):\n",
        "  a,b = map(int, input().split())\n",
        "  print(\"Case #{}: {}\".format((i+1),(a+b)))"
      ],
      "metadata": {
        "colab": {
          "base_uri": "https://localhost:8080/"
        },
        "id": "DUnUTYS0v-OL",
        "outputId": "fffe2adf-fde3-4b9c-9128-6d5cb8aac4eb"
      },
      "execution_count": null,
      "outputs": [
        {
          "output_type": "stream",
          "name": "stdout",
          "text": [
            "5\n",
            "1 1\n",
            "Case #1: 2\n",
            "2 3\n",
            "Case #2: 5\n",
            "3 4\n",
            "Case #3: 7\n",
            "9 8\n",
            "Case #4: 17\n",
            "5 2\n",
            "Case #5: 7\n"
          ]
        }
      ]
    },
    {
      "cell_type": "markdown",
      "source": [
        "- 11022번 A+B-8"
      ],
      "metadata": {
        "id": "pPsL9YZIymYG"
      }
    },
    {
      "cell_type": "code",
      "source": [
        "n = int(input())\n",
        "for i in range(n):\n",
        "  a,b = map(int, input().split())\n",
        "  print(\"Case #{}: {} + {} = {}\".format((i+1),a,b,a+b))"
      ],
      "metadata": {
        "colab": {
          "base_uri": "https://localhost:8080/"
        },
        "id": "qKVS4LBVwkTo",
        "outputId": "9b71b81d-7f52-45a8-9680-f65bc3b260b3"
      },
      "execution_count": null,
      "outputs": [
        {
          "output_type": "stream",
          "name": "stdout",
          "text": [
            "5\n",
            "1 1\n",
            "Case #1: 1 + 1 = 2\n",
            "2 3\n",
            "Case #2: 2 + 3 = 5\n",
            "3 4\n",
            "Case #3: 3 + 4 = 7\n",
            "9 8\n",
            "Case #4: 9 + 8 = 17\n",
            "5 2\n",
            "Case #5: 5 + 2 = 7\n"
          ]
        }
      ]
    },
    {
      "cell_type": "markdown",
      "source": [
        "- 2438번 별 찍기-1"
      ],
      "metadata": {
        "id": "LFwpwQZ3zLDH"
      }
    },
    {
      "cell_type": "code",
      "source": [
        "n = int(input())\n",
        "for i in range(n):\n",
        "  print(\"*\"*(i+1))"
      ],
      "metadata": {
        "colab": {
          "base_uri": "https://localhost:8080/"
        },
        "id": "rZ0qeRUMzBM5",
        "outputId": "73abd5e5-ea29-425a-fdfb-6f7d01db1b2c"
      },
      "execution_count": null,
      "outputs": [
        {
          "output_type": "stream",
          "name": "stdout",
          "text": [
            "5\n",
            "*\n",
            "**\n",
            "***\n",
            "****\n",
            "*****\n"
          ]
        }
      ]
    },
    {
      "cell_type": "markdown",
      "source": [
        "- 2439번 별 찍기-2"
      ],
      "metadata": {
        "id": "p23cYfZIzZJx"
      }
    },
    {
      "cell_type": "code",
      "source": [
        "n = int(input())\n",
        "for i in range(n):\n",
        "  print(\" \"*(n-i-1)+\"*\"*(i+1))"
      ],
      "metadata": {
        "colab": {
          "base_uri": "https://localhost:8080/"
        },
        "id": "_mUt_2K-zUcB",
        "outputId": "067c9dca-0440-474a-8e1a-dd3ea8b0cc2f"
      },
      "execution_count": null,
      "outputs": [
        {
          "output_type": "stream",
          "name": "stdout",
          "text": [
            "5\n",
            "    *\n",
            "   **\n",
            "  ***\n",
            " ****\n",
            "*****\n"
          ]
        }
      ]
    },
    {
      "cell_type": "markdown",
      "source": [
        "- 10871번 X보다 작은 수"
      ],
      "metadata": {
        "id": "nmQnqYpI0USo"
      }
    },
    {
      "cell_type": "code",
      "source": [
        "import sys\n",
        "n, x = map(int, input().split())\n",
        "small = list(map(int, input().split()))\n",
        "for val in small:\n",
        "  if val < x:\n",
        "    print(val,end=\" \")"
      ],
      "metadata": {
        "colab": {
          "base_uri": "https://localhost:8080/"
        },
        "id": "z5BxIlr6zo4r",
        "outputId": "4a5f115f-64aa-4779-88cc-3d0bf7cdb3ae"
      },
      "execution_count": 4,
      "outputs": [
        {
          "output_type": "stream",
          "name": "stdout",
          "text": [
            "10 5\n",
            "1 10 4 9 2 3 8 5 7 6\n",
            "1423"
          ]
        }
      ]
    },
    {
      "cell_type": "markdown",
      "source": [
        "- 10952번 A+B - 5"
      ],
      "metadata": {
        "id": "9OzW3zqMdbY4"
      }
    },
    {
      "cell_type": "code",
      "source": [
        "while(1):\n",
        "  a,b = map(int, input().split())\n",
        "  if (a==b==0):\n",
        "    break\n",
        "  else:\n",
        "    print(a+b)"
      ],
      "metadata": {
        "id": "eYGUkYqn4Vq9",
        "colab": {
          "base_uri": "https://localhost:8080/"
        },
        "outputId": "02f6d501-923a-47ee-cb08-b68d944a7457"
      },
      "execution_count": 5,
      "outputs": [
        {
          "name": "stdout",
          "output_type": "stream",
          "text": [
            "1 1 \n",
            "2\n",
            "2 3\n",
            "5\n",
            "4 5 \n",
            "9\n",
            "0 0\n"
          ]
        }
      ]
    },
    {
      "cell_type": "markdown",
      "source": [
        "- 10951번 A+B - 4"
      ],
      "metadata": {
        "id": "LLCkyJhCd9Ej"
      }
    },
    {
      "cell_type": "markdown",
      "source": [
        "> try: except:"
      ],
      "metadata": {
        "id": "fmoBBY6Ze2G6"
      }
    },
    {
      "cell_type": "code",
      "source": [
        "while(1):\n",
        "  try:\n",
        "    a,b = map(int, input().split())\n",
        "    print(a+b)\n",
        "  except:\n",
        "    break"
      ],
      "metadata": {
        "colab": {
          "base_uri": "https://localhost:8080/"
        },
        "id": "TZarFPm6d3RR",
        "outputId": "265cd0e6-ea98-4209-8754-0a0ae63153e8"
      },
      "execution_count": 7,
      "outputs": [
        {
          "name": "stdout",
          "output_type": "stream",
          "text": [
            "1 1\n",
            "2\n",
            "2 3\n",
            "5\n",
            "\n"
          ]
        }
      ]
    },
    {
      "cell_type": "markdown",
      "source": [
        "- 1110번 더하기 사이클"
      ],
      "metadata": {
        "id": "2O9m-PUqe6-n"
      }
    },
    {
      "cell_type": "code",
      "source": [
        "init = int(input())\n",
        "n = init\n",
        "count = 0\n",
        "while(1):\n",
        "  n = (n%10)*10 + ((n//10)+(n%10))%10\n",
        "  count+=1\n",
        "  if (n==init):\n",
        "    print(count)\n",
        "    break"
      ],
      "metadata": {
        "colab": {
          "base_uri": "https://localhost:8080/"
        },
        "id": "sWqkTsXLe8N9",
        "outputId": "3952054e-03b3-4c1d-efd2-6ed04a14dc43"
      },
      "execution_count": 20,
      "outputs": [
        {
          "output_type": "stream",
          "name": "stdout",
          "text": [
            "55\n",
            "3\n"
          ]
        }
      ]
    }
  ]
}
