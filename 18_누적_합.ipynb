{
  "nbformat": 4,
  "nbformat_minor": 0,
  "metadata": {
    "colab": {
      "provenance": [],
      "authorship_tag": "ABX9TyO0bdTnRxIUe4fTiiXgHQg8",
      "include_colab_link": true
    },
    "kernelspec": {
      "name": "python3",
      "display_name": "Python 3"
    },
    "language_info": {
      "name": "python"
    }
  },
  "cells": [
    {
      "cell_type": "markdown",
      "metadata": {
        "id": "view-in-github",
        "colab_type": "text"
      },
      "source": [
        "<a href=\"https://colab.research.google.com/github/dahlia52/BAEKJOON/blob/main/18_%EB%88%84%EC%A0%81_%ED%95%A9.ipynb\" target=\"_parent\"><img src=\"https://colab.research.google.com/assets/colab-badge.svg\" alt=\"Open In Colab\"/></a>"
      ]
    },
    {
      "cell_type": "markdown",
      "source": [
        "https://www.acmicpc.net/step/48"
      ],
      "metadata": {
        "id": "zCGSs8fYwrFy"
      }
    },
    {
      "cell_type": "markdown",
      "source": [
        "### 11659\t 구간 합 구하기 4"
      ],
      "metadata": {
        "id": "qUKvhUr4wtTR"
      }
    },
    {
      "cell_type": "markdown",
      "source": [
        "수 N개가 주어졌을 때, i번째 수부터 j번째 수까지 합을 구하는 프로그램을 작성하시오."
      ],
      "metadata": {
        "id": "vx5qh0YLgi3Q"
      }
    },
    {
      "cell_type": "code",
      "execution_count": null,
      "metadata": {
        "id": "9HDtUAvJwm4X",
        "colab": {
          "base_uri": "https://localhost:8080/"
        },
        "outputId": "c7823e84-bedb-4e24-aab2-20b5f65a7f13"
      },
      "outputs": [
        {
          "output_type": "stream",
          "name": "stdout",
          "text": [
            "5 3\n",
            "5 4 3 2 1\n",
            "1 3\n",
            "12\n",
            "2 4\n",
            "9\n",
            "5 5\n",
            "1\n"
          ]
        }
      ],
      "source": [
        "# 시간 초과\n",
        "n,m = map(int, input().split())\n",
        "list1 = list(map(int, input().split()))\n",
        "for _ in range(m):\n",
        "  a,b = map(int, input().split())\n",
        "  print(sum(list1[a-1:b]))"
      ]
    },
    {
      "cell_type": "code",
      "source": [
        "n,m = map(int, input().split())\n",
        "list1 = list(map(int, input().split()))\n",
        "sum1 = [0]\n",
        "for i in list1:\n",
        "  sum1.append(sum1[-1]+i) # 누적합 저장\n",
        "for _ in range(m):\n",
        "  a,b = map(int, input().split())\n",
        "  print(sum1[b]-sum1[a-1])"
      ],
      "metadata": {
        "colab": {
          "base_uri": "https://localhost:8080/"
        },
        "id": "qLbCPfBohq4P",
        "outputId": "df478e40-c986-46c9-aa8f-01210a67daeb"
      },
      "execution_count": null,
      "outputs": [
        {
          "output_type": "stream",
          "name": "stdout",
          "text": [
            "5 3\n",
            "5 4 3 2 1\n",
            "1 3\n",
            "12\n",
            "2 4\n",
            "9\n",
            "5 5\n",
            "1\n"
          ]
        }
      ]
    },
    {
      "cell_type": "code",
      "source": [
        "import sys\n",
        "n,m = map(int, input().split())\n",
        "list1 = list(map(int, sys.stdin.readline().split()))\n",
        "sum1 = [0]\n",
        "for i in list1:\n",
        "  sum1.append(sum1[-1]+i)\n",
        "for _ in range(m):\n",
        "  a,b = map(int, sys.stdin.readline().split())\n",
        "  print(sum1[b]-sum1[a-1])"
      ],
      "metadata": {
        "id": "-twGCfcxkqPJ"
      },
      "execution_count": null,
      "outputs": []
    },
    {
      "cell_type": "markdown",
      "source": [
        "### 2559\t 수열"
      ],
      "metadata": {
        "id": "i2HdjpNPwu8h"
      }
    },
    {
      "cell_type": "markdown",
      "source": [
        "매일 아침 9시에 학교에서 측정한 온도가 어떤 정수의 수열로 주어졌을 때, 연속적인 며칠 동안의 온도의 합이 가장 큰 값을 알아보고자 한다.\n",
        "\n",
        "예를 들어, 아래와 같이 10일 간의 온도가 주어졌을 때, \n",
        "\n",
        "3 -2 -4 -9 0 3 7 13 8 -3\n",
        "\n",
        "모든 연속적인 이틀간의 온도의 합은 아래와 같다.\n",
        "\n",
        "\n",
        "\n",
        "이때, 온도의 합이 가장 큰 값은 21이다. \n",
        "\n",
        "또 다른 예로 위와 같은 온도가 주어졌을 때, 모든 연속적인 5일 간의 온도의 합은 아래와 같으며, \n",
        "\n",
        "\n",
        "\n",
        "이때, 온도의 합이 가장 큰 값은 31이다.\n",
        "\n",
        "매일 측정한 온도가 정수의 수열로 주어졌을 때, 연속적인 며칠 동안의 온도의 합이 가장 큰 값을 계산하는 프로그램을 작성하시오. "
      ],
      "metadata": {
        "id": "uMpV0TS4wLtt"
      }
    },
    {
      "cell_type": "code",
      "source": [
        "n,k = map(int, input().split())\n",
        "temp = list(map(int, input().split()))\n",
        "curtemp = [0] \n",
        "for i in range(n):\n",
        "  curtemp.append(curtemp[-1]+temp[i]) # 누적합 (Sn)\n",
        "maxi = curtemp[k]-curtemp[0] # 초기값\n",
        "for i in range(1,n-k+2): # curtemp 리스트 길이가 n+1\n",
        "  if maxi < curtemp[i+k-1]-curtemp[i-1]:\n",
        "    maxi = curtemp[i+k-1] - curtemp[i-1]\n",
        "print(maxi)"
      ],
      "metadata": {
        "id": "TlHz9IqiwvYQ",
        "colab": {
          "base_uri": "https://localhost:8080/"
        },
        "outputId": "21d79192-db0a-4c4f-ff3d-a78ccca96be9"
      },
      "execution_count": null,
      "outputs": [
        {
          "output_type": "stream",
          "name": "stdout",
          "text": [
            "10 2\n",
            "3 -2 -4 -9 0 3 7 13 8 -3\n",
            "21\n"
          ]
        }
      ]
    },
    {
      "cell_type": "markdown",
      "source": [
        "### 16139\t 인간-컴퓨터 상호작용"
      ],
      "metadata": {
        "id": "T8h7-ujuwwyq"
      }
    },
    {
      "cell_type": "markdown",
      "source": [
        "승재는 인간-컴퓨터 상호작용에서 생체공학 설계를 공부하다가 키보드 자판이 실용적인지 궁금해졌다. 이를 알아보기 위해 승재는 다음과 같은 생각을 했다. \n",
        "\n",
        "'문자열에서 특정 알파벳이 몇 번 나타나는지 알아봐서 자주 나타나는 알파벳이 중지나 검지 위치에 오는 알파벳인지 확인하면 실용적인지 확인할 수 있을 것이다.'\n",
        "\n",
        "승재를 도와 특정 문자열 \n",
        "$S$, 특정 알파벳 \n",
        "$\\alpha$와 문자열의 구간 \n",
        "$[l,r]$이 주어지면 \n",
        "$S$의 \n",
        "$l$번째 문자부터 \n",
        "$r$번째 문자 사이에 \n",
        "$\\alpha$가 몇 번 나타나는지 구하는 프로그램을 작성하여라. 승재는 문자열의 문자는 \n",
        "$0$번째부터 세며, \n",
        "$l$번째와 \n",
        "$r$번째 문자를 포함해서 생각한다. 주의할 점은 승재는 호기심이 많기에 (통계적으로 크게 무의미하지만) 같은 문자열을 두고 질문을 \n",
        "$q$번 할 것이다."
      ],
      "metadata": {
        "id": "gD3VZ2nl1vFS"
      }
    },
    {
      "cell_type": "code",
      "source": [
        "# 50점 (부분성공)\n",
        "s = input()\n",
        "n = int(input())\n",
        "for _ in range(n):\n",
        "  ch, a, b = input().split()\n",
        "  a,b = int(a), int(b)\n",
        "  print(s[a:b+1].count(ch))"
      ],
      "metadata": {
        "id": "4LflMWbZwve5",
        "colab": {
          "base_uri": "https://localhost:8080/"
        },
        "outputId": "1e830e2c-b2b3-41b1-bc25-fcc2b1df676d"
      },
      "execution_count": null,
      "outputs": [
        {
          "output_type": "stream",
          "name": "stdout",
          "text": [
            "seungjaehwang\n",
            "4\n",
            "a 0 5\n",
            "0\n",
            "a 0 6\n",
            "1\n",
            "a 6 10\n",
            "2\n",
            "a 7 10\n",
            "1\n"
          ]
        }
      ]
    },
    {
      "cell_type": "code",
      "source": [
        "# 50점 (부분성공)\n",
        "s = input()\n",
        "n = int(input())\n",
        "cnt = {}\n",
        "for i in set(s):\n",
        "  cnt[i] = list(s[j] == i for j in range(len(s))) # dictionary에 문자별로 포함여부 저장\n",
        "for _ in range(n):\n",
        "  ch, a, b = input().split()\n",
        "  try:\n",
        "    print(sum(cnt[ch][int(a):int(b)+1]))\n",
        "  except:\n",
        "    print(0)"
      ],
      "metadata": {
        "colab": {
          "base_uri": "https://localhost:8080/"
        },
        "id": "oeDlwNaBd-RH",
        "outputId": "44ab592b-8cf3-451a-89d7-8bfc9be3abca"
      },
      "execution_count": null,
      "outputs": [
        {
          "output_type": "stream",
          "name": "stdout",
          "text": [
            "seungjaehwang\n",
            "4\n",
            "a 0 5\n",
            "0\n",
            "a 0 6\n",
            "1\n",
            "a 6 10\n",
            "2\n",
            "a 7 10\n",
            "1\n"
          ]
        }
      ]
    },
    {
      "cell_type": "code",
      "source": [
        "# 50점 (부분성공)\n",
        "s = input()\n",
        "n = int(input())\n",
        "cnt = {}\n",
        "for i in set(s): \n",
        "  cnt[i] = [0]\n",
        "  for j in range(len(s)): # dictionary에 문자별로 누적 합 저장\n",
        "    cnt[i].append((s[j] == i)+cnt[i][-1])\n",
        "for _ in range(n):\n",
        "  ch, a, b = input().split()\n",
        "  try:\n",
        "    print(cnt[ch][int(b)+1] - cnt[ch][int(a)])\n",
        "  except:\n",
        "    print(0)"
      ],
      "metadata": {
        "colab": {
          "base_uri": "https://localhost:8080/"
        },
        "id": "5gEl7royCO2E",
        "outputId": "ebb65910-d179-4aae-ec55-a743aa3281f4"
      },
      "execution_count": null,
      "outputs": [
        {
          "output_type": "stream",
          "name": "stdout",
          "text": [
            "seungjaehwang\n",
            "4\n",
            "a 0 5\n",
            "0\n",
            "a 0 6\n",
            "1\n",
            "a 6 10\n",
            "2\n",
            "a 7 10\n",
            "1\n"
          ]
        }
      ]
    },
    {
      "cell_type": "code",
      "source": [
        "# 위랑 같은 코드인데 sys.stdin.readline으로 돌리니 100점\n",
        "import sys\n",
        "s = input()\n",
        "n = int(input())\n",
        "cnt = {}\n",
        "for i in set(s): \n",
        "  cnt[i] = [0]\n",
        "  for j in range(len(s)): # dictionary에 문자별로 누적 합 저장\n",
        "    cnt[i].append((s[j] == i)+cnt[i][-1])\n",
        "for _ in range(n):\n",
        "  ch, a, b = sys.stdin.readline().split()\n",
        "  try:\n",
        "    print(cnt[ch][int(b)+1] - cnt[ch][int(a)])\n",
        "  except:\n",
        "    print(0)"
      ],
      "metadata": {
        "id": "Hz2ZkXm1GBip"
      },
      "execution_count": null,
      "outputs": []
    },
    {
      "cell_type": "markdown",
      "source": [
        "### 10986\t 나머지 합"
      ],
      "metadata": {
        "id": "JVNFbe5Iwyo_"
      }
    },
    {
      "cell_type": "markdown",
      "source": [
        "수 N개 A1, A2, ..., AN이 주어진다. 이때, 연속된 부분 구간의 합이 M으로 나누어 떨어지는 구간의 개수를 구하는 프로그램을 작성하시오.\n",
        "\n",
        "즉, Ai + ... + Aj (i ≤ j) 의 합이 M으로 나누어 떨어지는 (i, j) 쌍의 개수를 구해야 한다."
      ],
      "metadata": {
        "id": "7M_Qx5NbH84P"
      }
    },
    {
      "cell_type": "code",
      "source": [
        "# 시간 초과\n",
        "n,m = map(int, input().split())\n",
        "an = list(map(int, input().split()))\n",
        "sn = [0]\n",
        "for i in range(n):\n",
        "  sn.append(sn[-1]+an[i]) # 누적합\n",
        "cnt = 0\n",
        "for j in range(1,n+1):\n",
        "  for i in range(1,j+1):\n",
        "    if (sn[j] - sn[i-1]) % m == 0:\n",
        "      cnt += 1\n",
        "print(cnt)"
      ],
      "metadata": {
        "id": "Tx8hCt6VwzOh",
        "colab": {
          "base_uri": "https://localhost:8080/"
        },
        "outputId": "3afdeaea-7b7a-4e00-c4d6-041c5fad98b1"
      },
      "execution_count": null,
      "outputs": [
        {
          "output_type": "stream",
          "name": "stdout",
          "text": [
            "5 3\n",
            "1 2 3 1 2\n",
            "7\n"
          ]
        }
      ]
    },
    {
      "cell_type": "markdown",
      "source": [
        "- 누적합을 m으로 나누었을 때의 나머지 변화로 간주\n",
        "\n",
        "- 누적합 차가 0이면 나누어 떨어짐 -> 누적합이 같은 것들간의 조합"
      ],
      "metadata": {
        "id": "6ETxl-m0LGrd"
      }
    },
    {
      "cell_type": "code",
      "source": [
        "# 시간초과\n",
        "n,m = map(int, input().split())\n",
        "an = list(map(int, input().split()))\n",
        "sn = [0]\n",
        "for i in range(n):\n",
        "  sn.append((sn[-1] + an[i])% m) # 나머지 누적합 \n",
        "cnt = 0\n",
        "for i in set(sn):\n",
        "  comb = sn.count(i)\n",
        "  if comb >= 2:\n",
        "    cnt += comb*(comb-1)//2 # combC2\n",
        "print(cnt)"
      ],
      "metadata": {
        "colab": {
          "base_uri": "https://localhost:8080/"
        },
        "id": "L7naqSxvJxt1",
        "outputId": "72393ff9-953f-41e3-d1c3-19cfe40d5c32"
      },
      "execution_count": 4,
      "outputs": [
        {
          "output_type": "stream",
          "name": "stdout",
          "text": [
            "5 3\n",
            "1 2 3 1 2\n",
            "7\n"
          ]
        }
      ]
    },
    {
      "cell_type": "markdown",
      "source": [
        "- dict형태로 누적합 개수 한번에 세기"
      ],
      "metadata": {
        "id": "rZk3blz5KMx9"
      }
    },
    {
      "cell_type": "code",
      "source": [
        "# 맞음\n",
        "n,m = map(int, input().split())\n",
        "an = list(map(int, input().split()))\n",
        "cursum = 0\n",
        "sum_dict = {0:1} # 맨 처음에는 누적합이 0\n",
        "for i in range(n):\n",
        "  cursum = (cursum + an[i])% m # 나머지 누적합\n",
        "  if cursum not in sum_dict:\n",
        "    sum_dict[cursum] = 1\n",
        "  else:\n",
        "    sum_dict[cursum] += 1\n",
        "cnt = 0\n",
        "for i in sum_dict:\n",
        "  comb = sum_dict[i]\n",
        "  if comb >= 2:\n",
        "    cnt += comb*(comb-1)//2 # combC2\n",
        "print(cnt)"
      ],
      "metadata": {
        "colab": {
          "base_uri": "https://localhost:8080/"
        },
        "id": "Nz-8l1aqI5Wh",
        "outputId": "5e168c52-ac14-46b9-9fa3-14e3e8f43af3"
      },
      "execution_count": 11,
      "outputs": [
        {
          "output_type": "stream",
          "name": "stdout",
          "text": [
            "5 3\n",
            "1 2 3 1 2\n",
            "7\n"
          ]
        }
      ]
    },
    {
      "cell_type": "markdown",
      "source": [
        "- 리스트에서 index 이용\n",
        "\n",
        "참고: https://only-wanna.tistory.com/entry/%ED%8C%8C%EC%9D%B4%EC%8D%AC-%EB%B0%B1%EC%A4%80-10986%EB%B2%88-%EB%82%98%EB%A8%B8%EC%A7%80-%ED%95%A9"
      ],
      "metadata": {
        "id": "LzO6zUBNLvis"
      }
    },
    {
      "cell_type": "code",
      "source": [
        "n,m = map(int, input().split())\n",
        "an = list(map(int, input().split()))\n",
        "cursum = 0\n",
        "sum_list = [0 for _ in range(m)] # 가능한 모든 나머지 리스트\n",
        "sum_list[0] = 1\n",
        "for i in range(n):\n",
        "  cursum += an[i]\n",
        "  sum_list[cursum%m]+=1\n",
        "cnt = 0\n",
        "for i in sum_list:\n",
        "  cnt += i*(i-1)//2\n",
        "print(cnt)"
      ],
      "metadata": {
        "colab": {
          "base_uri": "https://localhost:8080/"
        },
        "id": "zpH3xo-HL0Ue",
        "outputId": "487f767f-7541-4a80-f61d-73120cda0279"
      },
      "execution_count": 17,
      "outputs": [
        {
          "output_type": "stream",
          "name": "stdout",
          "text": [
            "5 3\n",
            "1 2 3 1 2\n",
            "7\n"
          ]
        }
      ]
    },
    {
      "cell_type": "markdown",
      "source": [
        "### 11660\t 구간 합 구하기 5"
      ],
      "metadata": {
        "id": "zzPMDHUKw0ms"
      }
    },
    {
      "cell_type": "markdown",
      "source": [
        "N×N개의 수가 N×N 크기의 표에 채워져 있다. (x1, y1)부터 (x2, y2)까지 합을 구하는 프로그램을 작성하시오. (x, y)는 x행 y열을 의미한다.\n",
        "\n",
        "예를 들어, N = 4이고, 표가 아래와 같이 채워져 있는 경우를 살펴보자.\n",
        "\n",
        "1\t2\t3\t4\n",
        "2\t3\t4\t5\n",
        "3\t4\t5\t6\n",
        "4\t5\t6\t7\n",
        "여기서 (2, 2)부터 (3, 4)까지 합을 구하면 3+4+5+4+5+6 = 27이고, (4, 4)부터 (4, 4)까지 합을 구하면 7이다.\n",
        "\n",
        "표에 채워져 있는 수와 합을 구하는 연산이 주어졌을 때, 이를 처리하는 프로그램을 작성하시오."
      ],
      "metadata": {
        "id": "RacTeh3seLIX"
      }
    },
    {
      "cell_type": "code",
      "source": [],
      "metadata": {
        "id": "jGR-1Jbfw1Bs"
      },
      "execution_count": null,
      "outputs": []
    },
    {
      "cell_type": "markdown",
      "source": [
        "### 25682\t 체스판 다시 칠하기 2"
      ],
      "metadata": {
        "id": "coMocDg6w1_u"
      }
    },
    {
      "cell_type": "code",
      "source": [],
      "metadata": {
        "id": "rD3f3F6jw2io"
      },
      "execution_count": null,
      "outputs": []
    }
  ]
}