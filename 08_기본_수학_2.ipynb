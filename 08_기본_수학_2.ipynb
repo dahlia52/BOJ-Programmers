{
  "nbformat": 4,
  "nbformat_minor": 0,
  "metadata": {
    "colab": {
      "provenance": [],
      "authorship_tag": "ABX9TyMzwTaUMOj8gxeDxmzuufxI",
      "include_colab_link": true
    },
    "kernelspec": {
      "name": "python3",
      "display_name": "Python 3"
    },
    "language_info": {
      "name": "python"
    }
  },
  "cells": [
    {
      "cell_type": "markdown",
      "metadata": {
        "id": "view-in-github",
        "colab_type": "text"
      },
      "source": [
        "<a href=\"https://colab.research.google.com/github/dahlia52/BAEKJOON/blob/main/08_%EA%B8%B0%EB%B3%B8_%EC%88%98%ED%95%99_2.ipynb\" target=\"_parent\"><img src=\"https://colab.research.google.com/assets/colab-badge.svg\" alt=\"Open In Colab\"/></a>"
      ]
    },
    {
      "cell_type": "markdown",
      "source": [
        "https://www.acmicpc.net/step/10"
      ],
      "metadata": {
        "id": "uCckokRnjyKB"
      }
    },
    {
      "cell_type": "markdown",
      "source": [
        "- 1978번 소수 찾기"
      ],
      "metadata": {
        "id": "c1iHHe9UkCa7"
      }
    },
    {
      "cell_type": "markdown",
      "source": [
        "주어진 수 N개 중에서 소수가 몇 개인지 찾아서 출력하는 프로그램을 작성하시오."
      ],
      "metadata": {
        "id": "PjFcj9DskTZf"
      }
    },
    {
      "cell_type": "code",
      "execution_count": null,
      "metadata": {
        "colab": {
          "base_uri": "https://localhost:8080/"
        },
        "id": "QXuW9iRyjs5h",
        "outputId": "f277704b-0946-4eef-a217-412c85f77560"
      },
      "outputs": [
        {
          "output_type": "stream",
          "name": "stdout",
          "text": [
            "5\n",
            "2 11 13 77 19\n",
            "4\n"
          ]
        }
      ],
      "source": [
        "n = int(input())\n",
        "num = list(map(int, input().split()))\n",
        "count = 0\n",
        "for i in num:\n",
        "  j = 2\n",
        "  while j< i:\n",
        "    if i % j == 0:\n",
        "      break\n",
        "    j+=1\n",
        "  if j == i:\n",
        "    count += 1\n",
        "print(count)"
      ]
    },
    {
      "cell_type": "markdown",
      "source": [
        "- 2581번 소수"
      ],
      "metadata": {
        "id": "AQCmROCskFEG"
      }
    },
    {
      "cell_type": "markdown",
      "source": [
        "자연수 M과 N이 주어질 때 M이상 N이하의 자연수 중 소수인 것을 모두 골라 이들 소수의 합과 최솟값을 찾는 프로그램을 작성하시오.\n",
        "\n",
        "예를 들어 M=60, N=100인 경우 60이상 100이하의 자연수 중 소수는 61, 67, 71, 73, 79, 83, 89, 97 총 8개가 있으므로, 이들 소수의 합은 620이고, 최솟값은 61이 된다."
      ],
      "metadata": {
        "id": "zcFfvQzVmT62"
      }
    },
    {
      "cell_type": "code",
      "source": [
        "sosu(2)"
      ],
      "metadata": {
        "colab": {
          "base_uri": "https://localhost:8080/"
        },
        "id": "H1Gowby3oOzV",
        "outputId": "6e8932b9-a391-4106-c715-c0fe9c1ce1d6"
      },
      "execution_count": null,
      "outputs": [
        {
          "output_type": "execute_result",
          "data": {
            "text/plain": [
              "True"
            ]
          },
          "metadata": {},
          "execution_count": 15
        }
      ]
    },
    {
      "cell_type": "code",
      "source": [
        "def sosu(n):\n",
        "  error = 0\n",
        "  if n == 1:\n",
        "    return False\n",
        "  for j in range(2,n):\n",
        "    if n %j == 0:\n",
        "      error = 1\n",
        "      break\n",
        "  if error == 1:\n",
        "    return False\n",
        "  return True\n",
        "sosu_list = []\n",
        "m = int(input())\n",
        "n = int(input())\n",
        "for i in range(m,n+1):\n",
        "  if sosu(i):\n",
        "    sosu_list.append(i)\n",
        "if (len(sosu_list) == 0):\n",
        "  print(-1)\n",
        "else:\n",
        "  print(sum(sosu_list))\n",
        "  print(min(sosu_list))"
      ],
      "metadata": {
        "colab": {
          "base_uri": "https://localhost:8080/"
        },
        "id": "X8DCHDl_kGO6",
        "outputId": "c265cd5f-2d0e-4625-c293-aa176192cb22"
      },
      "execution_count": null,
      "outputs": [
        {
          "output_type": "stream",
          "name": "stdout",
          "text": [
            "60\n",
            "100\n",
            "620\n",
            "61\n"
          ]
        }
      ]
    },
    {
      "cell_type": "markdown",
      "source": [
        "- 11653번 소인수분해"
      ],
      "metadata": {
        "id": "zOB4jCGMkG80"
      }
    },
    {
      "cell_type": "markdown",
      "source": [
        "정수 N이 주어졌을 때, 소인수분해하는 프로그램을 작성하시오."
      ],
      "metadata": {
        "id": "crlpoP6pohOc"
      }
    },
    {
      "cell_type": "code",
      "source": [
        "n = int(input())\n",
        "soinsu_list = []\n",
        "for i in range(2,n+1):\n",
        "  while n % i == 0:\n",
        "    soinsu_list.append(i)\n",
        "    n = n//i\n",
        "    if n == 1:\n",
        "      break\n",
        "soinsu_list.sort()\n",
        "for i in soinsu_list:\n",
        "  print(i)"
      ],
      "metadata": {
        "colab": {
          "base_uri": "https://localhost:8080/"
        },
        "id": "n4Qm42_6kJLV",
        "outputId": "b3ed774b-2265-462b-f573-40f55a28bf1f"
      },
      "execution_count": null,
      "outputs": [
        {
          "name": "stdout",
          "output_type": "stream",
          "text": [
            "1\n"
          ]
        }
      ]
    },
    {
      "cell_type": "markdown",
      "source": [
        "- 1929번 소수 구하기"
      ],
      "metadata": {
        "id": "MxkBb4a6kKE4"
      }
    },
    {
      "cell_type": "markdown",
      "source": [
        "M이상 N이하의 소수를 모두 출력하는 프로그램을 작성하시오."
      ],
      "metadata": {
        "id": "bvzGOqY_pmiN"
      }
    },
    {
      "cell_type": "markdown",
      "source": [
        "- 시간 초과 해결 >> 소수인지 검사할 때, 제곱근까지만 검사하면 됨!!"
      ],
      "metadata": {
        "id": "RFlSOOR4sLgU"
      }
    },
    {
      "cell_type": "code",
      "source": [
        "def sosu(n):\n",
        "  if n == 1:\n",
        "    return False\n",
        "  if n == 2:\n",
        "    return True\n",
        "  j = 2\n",
        "  while j<= (int(i**0.5)+1):\n",
        "    if n % j == 0:\n",
        "      return False\n",
        "    j += 1\n",
        "  if j == int(i**0.5)+2:\n",
        "    return True\n",
        "m, n = map(int,input().split())\n",
        "for i in range(m,n+1):\n",
        "  if sosu(i):\n",
        "    print(i)"
      ],
      "metadata": {
        "colab": {
          "base_uri": "https://localhost:8080/"
        },
        "id": "rb_avkJQvyLR",
        "outputId": "582adf1c-74c1-455c-be53-2ffea27c70c8"
      },
      "execution_count": null,
      "outputs": [
        {
          "output_type": "stream",
          "name": "stdout",
          "text": [
            "1 30\n",
            "2\n",
            "3\n",
            "5\n",
            "7\n",
            "11\n",
            "13\n",
            "17\n",
            "19\n",
            "23\n",
            "29\n"
          ]
        }
      ]
    },
    {
      "cell_type": "code",
      "source": [
        "m, n = map(int,input().split())\n",
        "for i in range(m,n+1):\n",
        "  if i == 1:\n",
        "    continue\n",
        "  for j in range(2, int(i**0.5)+1):\n",
        "    if i %j == 0:\n",
        "      break\n",
        "  else:\n",
        "    print(i)"
      ],
      "metadata": {
        "colab": {
          "base_uri": "https://localhost:8080/"
        },
        "id": "9VSg0QlnzgU3",
        "outputId": "d0a85e49-6723-48bb-bdab-29381ceafcd2"
      },
      "execution_count": null,
      "outputs": [
        {
          "output_type": "stream",
          "name": "stdout",
          "text": [
            "1 16\n",
            "2\n",
            "3\n",
            "5\n",
            "7\n",
            "11\n",
            "13\n"
          ]
        }
      ]
    },
    {
      "cell_type": "markdown",
      "source": [
        "- 4948번 베르트랑 공준"
      ],
      "metadata": {
        "id": "-KswLDh0kMIG"
      }
    },
    {
      "cell_type": "markdown",
      "source": [
        "베르트랑 공준은 임의의 자연수 n에 대하여, n보다 크고, 2n보다 작거나 같은 소수는 적어도 하나 존재한다는 내용을 담고 있다.\n",
        "\n",
        "이 명제는 조제프 베르트랑이 1845년에 추측했고, 파프누티 체비쇼프가 1850년에 증명했다.\n",
        "\n",
        "예를 들어, 10보다 크고, 20보다 작거나 같은 소수는 4개가 있다. (11, 13, 17, 19) 또, 14보다 크고, 28보다 작거나 같은 소수는 3개가 있다. (17,19, 23)\n",
        "\n",
        "자연수 n이 주어졌을 때, n보다 크고, 2n보다 작거나 같은 소수의 개수를 구하는 프로그램을 작성하시오. "
      ],
      "metadata": {
        "id": "oSfh-a6bumrA"
      }
    },
    {
      "cell_type": "code",
      "source": [
        "# 시간 초과\n",
        "while 1:\n",
        "  n = int(input())\n",
        "  count = 0\n",
        "  if n == 0:\n",
        "    break\n",
        "  if n == 1:\n",
        "    print(1)\n",
        "    continue\n",
        "  for i in range(n+1, 2*n+1):\n",
        "    error = 0\n",
        "    for j in range(2,int(i**0.5)+1):\n",
        "      if i % j == 0:\n",
        "        error = 1\n",
        "        break\n",
        "    if error == 0:\n",
        "      count +=1\n",
        "  print(count)"
      ],
      "metadata": {
        "colab": {
          "base_uri": "https://localhost:8080/"
        },
        "id": "fC-cArhqkNsU",
        "outputId": "0a4de0c0-c272-4cab-e133-07266f5637e2"
      },
      "execution_count": null,
      "outputs": [
        {
          "name": "stdout",
          "output_type": "stream",
          "text": [
            "1\n",
            "1\n",
            "10\n",
            "4\n",
            "13\n",
            "3\n",
            "100\n",
            "21\n",
            "1000\n",
            "135\n",
            "10000\n",
            "1033\n",
            "100000\n",
            "8392\n",
            "0\n"
          ]
        }
      ]
    },
    {
      "cell_type": "markdown",
      "source": [
        "- 시간 초과 해결 >> 입력받은 n마다 소수 개수를 파악하지 않고 소수 리스트에 미리 소수인지 아닌지 판별해놓기"
      ],
      "metadata": {
        "id": "4aCZiBJNlghU"
      }
    },
    {
      "cell_type": "code",
      "source": [
        "prime_list = [False, True]\n",
        "for i in range(3,123457*2+1):\n",
        "  error = 0\n",
        "  for j in range(2,int(i**0.5)+1):\n",
        "    if i % j == 0:\n",
        "      error = 1\n",
        "      break\n",
        "  if error == 0:\n",
        "    prime_list.append(True)\n",
        "  else:\n",
        "    prime_list.append(False)\n",
        "while 1:\n",
        "  n = int(input())\n",
        "  count = 0\n",
        "  if n == 0:\n",
        "    break\n",
        "  for i in range(n+1,2*n+1):\n",
        "    if prime_list[i-1]:\n",
        "      count +=1 \n",
        "  print(count)"
      ],
      "metadata": {
        "id": "qp7tNy1KllS_"
      },
      "execution_count": null,
      "outputs": []
    },
    {
      "cell_type": "markdown",
      "source": [
        "- 9020번 골드바흐의 추측"
      ],
      "metadata": {
        "id": "E0kjjbtskO81"
      }
    },
    {
      "cell_type": "markdown",
      "source": [
        "1보다 큰 자연수 중에서  1과 자기 자신을 제외한 약수가 없는 자연수를 소수라고 한다. 예를 들어, 5는 1과 5를 제외한 약수가 없기 때문에 소수이다. 하지만, 6은 6 = 2 × 3 이기 때문에 소수가 아니다.\n",
        "\n",
        "골드바흐의 추측은 유명한 정수론의 미해결 문제로, 2보다 큰 모든 짝수는 두 소수의 합으로 나타낼 수 있다는 것이다. 이러한 수를 골드바흐 수라고 한다. 또, 짝수를 두 소수의 합으로 나타내는 표현을 그 수의 골드바흐 파티션이라고 한다. 예를 들면, 4 = 2 + 2, 6 = 3 + 3, 8 = 3 + 5, 10 = 5 + 5, 12 = 5 + 7, 14 = 3 + 11, 14 = 7 + 7이다. 10000보다 작거나 같은 모든 짝수 n에 대한 골드바흐 파티션은 존재한다.\n",
        "\n",
        "2보다 큰 짝수 n이 주어졌을 때, n의 골드바흐 파티션을 출력하는 프로그램을 작성하시오. 만약 가능한 n의 골드바흐 파티션이 여러 가지인 경우에는 두 소수의 차이가 가장 작은 것을 출력한다."
      ],
      "metadata": {
        "id": "afLJEFKPq7Xq"
      }
    },
    {
      "cell_type": "code",
      "source": [
        "prime_list = [False,False, True]\n",
        "for i in range(3,10000):\n",
        "  error = 0\n",
        "  for j in range(2,int(i**0.5)+1):\n",
        "    if i % j == 0:\n",
        "      error = 1\n",
        "      break\n",
        "  if error == 0:\n",
        "    prime_list.append(True)\n",
        "  else:\n",
        "    prime_list.append(False)\n",
        "n = int(input())\n",
        "for i in range(n):\n",
        "  even = int(input())\n",
        "  for i in range(even//2,0,-1):\n",
        "    if prime_list[i] & prime_list[even-i]:\n",
        "      print(i,even-i)\n",
        "      break"
      ],
      "metadata": {
        "colab": {
          "base_uri": "https://localhost:8080/"
        },
        "id": "qhJfJxljkQ1S",
        "outputId": "05cd325f-59eb-4128-f56e-45125ebf0830"
      },
      "execution_count": null,
      "outputs": [
        {
          "output_type": "stream",
          "name": "stdout",
          "text": [
            "3\n",
            "8\n",
            "3 5\n",
            "10\n",
            "5 5\n",
            "16\n",
            "5 11\n"
          ]
        }
      ]
    }
  ]
}