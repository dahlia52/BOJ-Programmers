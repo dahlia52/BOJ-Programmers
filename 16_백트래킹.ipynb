{
  "nbformat": 4,
  "nbformat_minor": 0,
  "metadata": {
    "colab": {
      "provenance": [],
      "authorship_tag": "ABX9TyMzGLyofqoRnA899lpIM/Qs",
      "include_colab_link": true
    },
    "kernelspec": {
      "name": "python3",
      "display_name": "Python 3"
    },
    "language_info": {
      "name": "python"
    }
  },
  "cells": [
    {
      "cell_type": "markdown",
      "metadata": {
        "id": "view-in-github",
        "colab_type": "text"
      },
      "source": [
        "<a href=\"https://colab.research.google.com/github/dahlia52/BAEKJOON/blob/main/16_%EB%B0%B1%ED%8A%B8%EB%9E%98%ED%82%B9.ipynb\" target=\"_parent\"><img src=\"https://colab.research.google.com/assets/colab-badge.svg\" alt=\"Open In Colab\"/></a>"
      ]
    },
    {
      "cell_type": "markdown",
      "source": [
        "https://www.acmicpc.net/step/34"
      ],
      "metadata": {
        "id": "PgswUWSSvFvX"
      }
    },
    {
      "cell_type": "markdown",
      "source": [
        "### 백트랙킹\n"
      ],
      "metadata": {
        "id": "QBDuAOOYXQci"
      }
    },
    {
      "cell_type": "markdown",
      "source": [
        "참고: https://velog.io/@mmindoong/%EC%95%8C%EA%B3%A0%EB%A6%AC%EC%A6%98-%EB%B0%B1%ED%8A%B8%EB%9E%98%ED%82%B9BackTracking, https://jiwon-coding.tistory.com/34"
      ],
      "metadata": {
        "id": "BelYyu5rXVAB"
      }
    },
    {
      "cell_type": "markdown",
      "source": [
        " **백트랙킹**\n",
        "\n",
        "- 가능한 모든 방법을 탐색하는 방법\n",
        "\n",
        "- 현재 상태에서 가능한 모든 후보군을 따라 들어가며 해결책에 대한 후보를 구축해 나아가다 가능성이 없다가 판단되면 즉시 후보를 포기하면서 정답을 찾아가는 범용적인 알고리즘\n",
        "\n",
        "- DFS의 비효율적인 경로를 차단하고 목표지점에 갈 수 있는 가능성이 있는 루트를 검사하는 방법\n",
        "\n",
        "- 가지치기(Pruning)을 통해 효율을 극대화시킴.\n",
        "\n",
        "- 길을 가다가 이 길이 아닌 것 같으면 왔던 길로 되돌아가 다른 경로로 진행\n",
        "\n",
        "- 보통 재귀로 구현하며 조건이 맞지 않으면 종료한다.\n",
        "\n",
        "- DFS(깊이 우선 탐색) 기반"
      ],
      "metadata": {
        "id": "oyeVGHtWXWcq"
      }
    },
    {
      "cell_type": "markdown",
      "source": [
        "### 15649\t N과 M (1)"
      ],
      "metadata": {
        "id": "0q1az1sxvIqP"
      }
    },
    {
      "cell_type": "markdown",
      "source": [
        "자연수 N과 M이 주어졌을 때, 아래 조건을 만족하는 길이가 M인 수열을 모두 구하는 프로그램을 작성하시오.\n",
        "\n",
        "1부터 N까지 자연수 중에서 중복 없이 M개를 고른 수열"
      ],
      "metadata": {
        "id": "1lvOInT8S1Z6"
      }
    },
    {
      "cell_type": "markdown",
      "source": [
        "- permutations() 이용하기"
      ],
      "metadata": {
        "id": "8UI2DZolbsp0"
      }
    },
    {
      "cell_type": "code",
      "execution_count": 11,
      "metadata": {
        "id": "axVY1qQkvAtu",
        "colab": {
          "base_uri": "https://localhost:8080/"
        },
        "outputId": "ea4e4190-1409-4c12-8305-ee416fcb903c"
      },
      "outputs": [
        {
          "output_type": "stream",
          "name": "stdout",
          "text": [
            "4 4\n",
            "1 2 3 4 \n",
            "1 2 4 3 \n",
            "1 3 2 4 \n",
            "1 3 4 2 \n",
            "1 4 2 3 \n",
            "1 4 3 2 \n",
            "2 1 3 4 \n",
            "2 1 4 3 \n",
            "2 3 1 4 \n",
            "2 3 4 1 \n",
            "2 4 1 3 \n",
            "2 4 3 1 \n",
            "3 1 2 4 \n",
            "3 1 4 2 \n",
            "3 2 1 4 \n",
            "3 2 4 1 \n",
            "3 4 1 2 \n",
            "3 4 2 1 \n",
            "4 1 2 3 \n",
            "4 1 3 2 \n",
            "4 2 1 3 \n",
            "4 2 3 1 \n",
            "4 3 1 2 \n",
            "4 3 2 1 \n"
          ]
        }
      ],
      "source": [
        "from itertools import permutations\n",
        "n,m = map(int, input().split())\n",
        "sequence = list(permutations(list(range(1,n+1)),m))\n",
        "for seq in sequence:\n",
        "  for i in range(m):\n",
        "    print(seq[i], end = \" \")\n",
        "  print(\"\")"
      ]
    },
    {
      "cell_type": "markdown",
      "source": [
        "- 백트랙킹 이용\n",
        "\n",
        "참고: https://jiwon-coding.tistory.com/21"
      ],
      "metadata": {
        "id": "f4LNlHNVXDEA"
      }
    },
    {
      "cell_type": "code",
      "source": [
        "n,m = map(int, input().split())\n",
        "s = []\n",
        "\n",
        "def dfs():\n",
        "  if len(s) == m:\n",
        "    print(' '.join(map(str, s)))\n",
        "    return\n",
        "  for i in range(1, n+1):\n",
        "    if i not in s: # 중복검사\n",
        "      s.append(i)\n",
        "      dfs()\n",
        "      s.pop()\n",
        "dfs()"
      ],
      "metadata": {
        "colab": {
          "base_uri": "https://localhost:8080/"
        },
        "id": "_M7QvbWkXFUh",
        "outputId": "ba0e7524-a999-42f1-a7d8-c7239cc96842"
      },
      "execution_count": 13,
      "outputs": [
        {
          "output_type": "stream",
          "name": "stdout",
          "text": [
            "4 2\n",
            "1 2\n",
            "1 3\n",
            "1 4\n",
            "2 1\n",
            "2 3\n",
            "2 4\n",
            "3 1\n",
            "3 2\n",
            "3 4\n",
            "4 1\n",
            "4 2\n",
            "4 3\n"
          ]
        }
      ]
    },
    {
      "cell_type": "markdown",
      "source": [
        "### 15650\t N과 M (2)"
      ],
      "metadata": {
        "id": "_atZOTEAvKaH"
      }
    },
    {
      "cell_type": "code",
      "source": [],
      "metadata": {
        "id": "sVDcwtE1vLDj"
      },
      "execution_count": null,
      "outputs": []
    },
    {
      "cell_type": "markdown",
      "source": [
        "### 15651\t N과 M (3)"
      ],
      "metadata": {
        "id": "Zq_4m5WMvMG6"
      }
    },
    {
      "cell_type": "code",
      "source": [],
      "metadata": {
        "id": "a42I2kF1vMtP"
      },
      "execution_count": null,
      "outputs": []
    },
    {
      "cell_type": "markdown",
      "source": [
        "### 15652\t N과 M (4)"
      ],
      "metadata": {
        "id": "804I7H2OvNyP"
      }
    },
    {
      "cell_type": "code",
      "source": [],
      "metadata": {
        "id": "vLsR8MPVvOba"
      },
      "execution_count": null,
      "outputs": []
    },
    {
      "cell_type": "markdown",
      "source": [
        "### 9663\t N-Queen"
      ],
      "metadata": {
        "id": "wh-cbN8BvPgA"
      }
    },
    {
      "cell_type": "code",
      "source": [],
      "metadata": {
        "id": "4rbEGeHwvQIY"
      },
      "execution_count": null,
      "outputs": []
    },
    {
      "cell_type": "markdown",
      "source": [
        "### 2580\t 스도쿠"
      ],
      "metadata": {
        "id": "JKqjGsdivRC0"
      }
    },
    {
      "cell_type": "code",
      "source": [],
      "metadata": {
        "id": "XfeH_8SWvTZY"
      },
      "execution_count": null,
      "outputs": []
    },
    {
      "cell_type": "markdown",
      "source": [
        "### 14888\t 연산자 끼워넣기"
      ],
      "metadata": {
        "id": "ydKn2W6BvSit"
      }
    },
    {
      "cell_type": "code",
      "source": [],
      "metadata": {
        "id": "tT9i09m5vUDB"
      },
      "execution_count": null,
      "outputs": []
    },
    {
      "cell_type": "markdown",
      "source": [
        "### 14889\t 스타트와 링크"
      ],
      "metadata": {
        "id": "061Hqj17vUXt"
      }
    },
    {
      "cell_type": "code",
      "source": [],
      "metadata": {
        "id": "0FvmtW3vvW8B"
      },
      "execution_count": null,
      "outputs": []
    }
  ]
}