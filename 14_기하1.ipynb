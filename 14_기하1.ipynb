{
  "nbformat": 4,
  "nbformat_minor": 0,
  "metadata": {
    "colab": {
      "provenance": [],
      "authorship_tag": "ABX9TyOTmw/zyqa0qtSCi/ZRS7Fh",
      "include_colab_link": true
    },
    "kernelspec": {
      "name": "python3",
      "display_name": "Python 3"
    },
    "language_info": {
      "name": "python"
    }
  },
  "cells": [
    {
      "cell_type": "markdown",
      "metadata": {
        "id": "view-in-github",
        "colab_type": "text"
      },
      "source": [
        "<a href=\"https://colab.research.google.com/github/dahlia52/BAEKJOON/blob/main/14_%EA%B8%B0%ED%95%981.ipynb\" target=\"_parent\"><img src=\"https://colab.research.google.com/assets/colab-badge.svg\" alt=\"Open In Colab\"/></a>"
      ]
    },
    {
      "cell_type": "markdown",
      "source": [
        "https://www.acmicpc.net/step/50"
      ],
      "metadata": {
        "id": "ZH5hK1wtftmk"
      }
    },
    {
      "cell_type": "markdown",
      "source": [
        "### 1085\t 직사각형에서 탈출"
      ],
      "metadata": {
        "id": "wNmnkNVIfwI1"
      }
    },
    {
      "cell_type": "markdown",
      "source": [
        "한수는 지금 (x, y)에 있다. 직사각형은 각 변이 좌표축에 평행하고, 왼쪽 아래 꼭짓점은 (0, 0), 오른쪽 위 꼭짓점은 (w, h)에 있다. 직사각형의 경계선까지 가는 거리의 최솟값을 구하는 프로그램을 작성하시오."
      ],
      "metadata": {
        "id": "FBVQaUoasyFC"
      }
    },
    {
      "cell_type": "code",
      "execution_count": null,
      "metadata": {
        "id": "Lxvqd7brfrAq",
        "colab": {
          "base_uri": "https://localhost:8080/"
        },
        "outputId": "3827d004-61d8-4561-c744-a0d6f1e0affe"
      },
      "outputs": [
        {
          "output_type": "stream",
          "name": "stdout",
          "text": [
            "653 375 1000 1000\n",
            "347\n"
          ]
        }
      ],
      "source": [
        "x,y,w,h = map(int, input().split())\n",
        "print(min([x, y, w-x, h-y]))"
      ]
    },
    {
      "cell_type": "markdown",
      "source": [
        "### \t3009\t 네 번째 점"
      ],
      "metadata": {
        "id": "VgrZrAHuf2f-"
      }
    },
    {
      "cell_type": "markdown",
      "source": [
        "세 점이 주어졌을 때, 축에 평행한 직사각형을 만들기 위해서 필요한 네 번째 점을 찾는 프로그램을 작성하시오."
      ],
      "metadata": {
        "id": "CJBJCImLt71D"
      }
    },
    {
      "cell_type": "code",
      "source": [
        "x = []; y = []\n",
        "for i in range(3):\n",
        "  a,b = map(int, input().split())\n",
        "  x.append(a); y.append(b)\n",
        "for j in set(x):\n",
        "  if x.count(j) == 1:\n",
        "    a = j\n",
        "    break\n",
        "for k in set(y):\n",
        "  if y.count(k) == 1:\n",
        "    b = k\n",
        "    break\n",
        "print(a,b)"
      ],
      "metadata": {
        "colab": {
          "base_uri": "https://localhost:8080/"
        },
        "id": "GuMj0z-5vA5E",
        "outputId": "9667875e-c96d-4bca-e118-335952ee9fa8"
      },
      "execution_count": null,
      "outputs": [
        {
          "output_type": "stream",
          "name": "stdout",
          "text": [
            "30 20\n",
            "10 10\n",
            "10 20\n",
            "30 10\n"
          ]
        }
      ]
    },
    {
      "cell_type": "markdown",
      "source": [
        "### 4153\t 직각삼각형"
      ],
      "metadata": {
        "id": "pwDYrw_5f4Ck"
      }
    },
    {
      "cell_type": "markdown",
      "source": [
        "과거 이집트인들은 각 변들의 길이가 3, 4, 5인 삼각형이 직각 삼각형인것을 알아냈다. 주어진 세변의 길이로 삼각형이 직각인지 아닌지 구분하시오."
      ],
      "metadata": {
        "id": "Hfvm2tQwxgZh"
      }
    },
    {
      "cell_type": "code",
      "source": [
        "while 1:\n",
        "  a,b,c = map(int, input().split())\n",
        "  if a==0 and b == 0 and c == 0:\n",
        "    break\n",
        "  elif a**2 + b**2 + c**2 == 2*(max(a,b,c)**2): # a^2 + b^2 + c^2 = 2*c^2\n",
        "    print(\"right\")\n",
        "  else:\n",
        "    print(\"wrong\")"
      ],
      "metadata": {
        "id": "RKwKRyZMf4q4",
        "colab": {
          "base_uri": "https://localhost:8080/"
        },
        "outputId": "c9145ab7-8e3e-49f6-9d0d-b5ca2f4cf9bf"
      },
      "execution_count": null,
      "outputs": [
        {
          "name": "stdout",
          "output_type": "stream",
          "text": [
            "6 8 10\n",
            "right\n",
            "25 52 60\n",
            "wrong\n",
            "5 12 13\n",
            "right\n",
            "0 0 0\n"
          ]
        }
      ]
    },
    {
      "cell_type": "markdown",
      "source": [
        "### 2477\t 참외밭"
      ],
      "metadata": {
        "id": "RYZiQN9mf6GF"
      }
    },
    {
      "cell_type": "markdown",
      "source": [
        "시골에 있는 태양이의 삼촌 댁에는 커다란 참외밭이 있다. 문득 태양이는 이 밭에서 자라는 참외가 도대체 몇 개나 되는지 궁금해졌다. 어떻게 알아낼 수 있는지 골똘히 생각하다가 드디어 좋은 아이디어가 떠올랐다. 유레카! 1m2의 넓이에 자라는 참외 개수를 헤아린 다음, 참외밭의 넓이를 구하면 비례식을 이용하여 참외의 총개수를 구할 수 있다.\n",
        "\n",
        "1m2의 넓이에 자라는 참외의 개수는 헤아렸고, 이제 참외밭의 넓이만 구하면 된다. 참외밭은 ㄱ-자 모양이거나 ㄱ-자를 90도, 180도, 270도 회전한 모양(┏, ┗, ┛ 모양)의 육각형이다. 다행히도 밭의 경계(육각형의 변)는 모두 동서 방향이거나 남북 방향이었다. 밭의 한 모퉁이에서 출발하여 밭의 둘레를 돌면서 밭경계 길이를 모두 측정하였다.\n",
        "\n",
        "\n",
        "\n",
        "예를 들어 참외밭이 위 그림과 같은 모양이라고 하자. 그림에서 오른쪽은 동쪽, 왼쪽은 서쪽, 아래쪽은 남쪽, 위쪽은 북쪽이다. 이 그림의 왼쪽위 꼭짓점에서 출발하여, 반시계방향으로 남쪽으로 30m, 동쪽으로 60m, 남쪽으로 20m, 동쪽으로 100m, 북쪽으로 50m, 서쪽으로 160m 이동하면 다시 출발점으로 되돌아가게 된다.\n",
        "\n",
        "위 그림의 참외밭  면적은 6800m2이다. 만약 1m2의 넓이에 자라는 참외의 개수가 7이라면, 이 밭에서 자라는 참외의 개수는 47600으로 계산된다.\n",
        "\n",
        "1m2의 넓이에 자라는 참외의 개수와, 참외밭을 이루는 육각형의 임의의 한 꼭짓점에서 출발하여 반시계방향으로 둘레를 돌면서 지나는 변의 방향과 길이가 순서대로 주어진다. 이 참외밭에서 자라는 참외의 수를 구하는 프로그램을 작성하시오."
      ],
      "metadata": {
        "id": "zkJKZQxtyLfN"
      }
    },
    {
      "cell_type": "code",
      "source": [
        "n = int(input())\n",
        "xy= {}\n",
        "for i in range(6):\n",
        "  a,b = map(int, input().split())\n",
        "  xy[a] = b"
      ],
      "metadata": {
        "id": "JsrsLYljf6yN"
      },
      "execution_count": null,
      "outputs": []
    },
    {
      "cell_type": "markdown",
      "source": [
        "### 3053\t 택시 기하학"
      ],
      "metadata": {
        "id": "5wGjXXcmf7mO"
      }
    },
    {
      "cell_type": "markdown",
      "source": [
        "19세기 독일 수학자 헤르만 민코프스키는 비유클리드 기하학 중 택시 기하학을 고안했다.\n",
        "\n",
        "택시 기하학에서 두 점 T1(x1,y1), T2(x2,y2) 사이의 거리는 다음과 같이 구할 수 있다.\n",
        "\n",
        "D(T1,T2) = |x1-x2| + |y1-y2|\n",
        "\n",
        "두 점 사이의 거리를 제외한 나머지 정의는 유클리드 기하학에서의 정의와 같다.\n",
        "\n",
        "따라서 택시 기하학에서 원의 정의는 유클리드 기하학에서 원의 정의와 같다.\n",
        "\n",
        "원: 평면 상의 어떤 점에서 거리가 일정한 점들의 집합\n",
        "\n",
        "반지름 R이 주어졌을 때, 유클리드 기하학에서 원의 넓이와, 택시 기하학에서 원의 넓이를 구하는 프로그램을 작성하시오."
      ],
      "metadata": {
        "id": "lPHKQdjHTEyJ"
      }
    },
    {
      "cell_type": "markdown",
      "source": [
        "- 원의 정의: 한 점(원의 중심)으로부터 같은 거리만큼 떨어져 있는 점들의 모임\n",
        "\n",
        "  => 택시 기하학에서 원은 마름모 모양의 정사각형"
      ],
      "metadata": {
        "id": "yCOpztJUlpGG"
      }
    },
    {
      "cell_type": "code",
      "source": [
        "from math import pi\n",
        "r = float(input())\n",
        "print(f\"{pi*r**2:.6f} {2*r**2:.6f}\")"
      ],
      "metadata": {
        "colab": {
          "base_uri": "https://localhost:8080/"
        },
        "id": "L8FyDWyAzsNM",
        "outputId": "b17b936a-366a-4b30-b3e6-ec3447a9cf96"
      },
      "execution_count": null,
      "outputs": [
        {
          "output_type": "stream",
          "name": "stdout",
          "text": [
            "21\n",
            "1385.442360 882.000000\n"
          ]
        }
      ]
    },
    {
      "cell_type": "markdown",
      "source": [
        "### \t1002\t 터렛"
      ],
      "metadata": {
        "id": "TPIdpZdCf9F-"
      }
    },
    {
      "cell_type": "markdown",
      "source": [
        "조규현과 백승환은 터렛에 근무하는 직원이다. 하지만 워낙 존재감이 없어서 인구수는 차지하지 않는다. 다음은 조규현과 백승환의 사진이다.\n",
        "\n",
        "\n",
        "\n",
        "이석원은 조규현과 백승환에게 상대편 마린(류재명)의 위치를 계산하라는 명령을 내렸다. 조규현과 백승환은 각각 자신의 터렛 위치에서 현재 적까지의 거리를 계산했다.\n",
        "\n",
        "조규현의 좌표 (x1, y1)와 백승환의 좌표 (x2, y2)가 주어지고, 조규현이 계산한 류재명과의 거리 r1과 백승환이 계산한 류재명과의 거리 r2가 주어졌을 때, 류재명이 있을 수 있는 좌표의 수를 출력하는 프로그램을 작성하시오."
      ],
      "metadata": {
        "id": "p2lAgnitktST"
      }
    },
    {
      "cell_type": "markdown",
      "source": [
        "(x-x1)^2 + (y-y1)^2 = r1^2\n",
        "\n",
        "(x-x2)^2 + (y-y2)^2 = r2^2\n",
        "\n",
        "  => 두 원의 방정식에서 교점의 개수\n",
        "\n",
        "  => 외접, 내접 모두 고려\n",
        "\n"
      ],
      "metadata": {
        "id": "TdMmfOoL5qUh"
      }
    },
    {
      "cell_type": "code",
      "source": [
        "n = int(input())\n",
        "for i in range(n):\n",
        "  x1, y1, r1, x2, y2, r2 = map(int, input().split())\n",
        "  d = ((x1-x2)**2 + (y1-y2)**2)**(1/2)\n",
        "  if d == 0 and r1 == r2: # 두 원이 같을 때는 무수히 많음\n",
        "    print(-1)\n",
        "  elif d < abs(r1-r2) or d > r1+r2:\n",
        "    print(0)\n",
        "  elif d == abs(r1-r2) or d == r1+r2:\n",
        "    print(1)\n",
        "  else:\n",
        "    print(2)"
      ],
      "metadata": {
        "id": "LiKuoP85YcNU",
        "colab": {
          "base_uri": "https://localhost:8080/"
        },
        "outputId": "d9a346e7-d1d5-43fb-b7d6-0155f2220d8d"
      },
      "execution_count": 1,
      "outputs": [
        {
          "output_type": "stream",
          "name": "stdout",
          "text": [
            "3\n",
            "0 0 13 40 0 37\n",
            "2\n",
            "0 0 3 0 7 4\n",
            "1\n",
            "1 1 1 1 1 5\n",
            "0\n"
          ]
        }
      ]
    },
    {
      "cell_type": "markdown",
      "source": [
        "### 1004\t 어린 왕자"
      ],
      "metadata": {
        "id": "TXk9k7zMf-6N"
      }
    },
    {
      "cell_type": "markdown",
      "source": [
        "어린 왕자는 소혹성 B-664에서 자신이 사랑하는 한 송이 장미를 위해 살아간다. 어느 날 장미가 위험에 빠지게 된 것을 알게 된 어린 왕자는, 장미를 구하기 위해 은하수를 따라 긴 여행을 하기 시작했다. 하지만 어린 왕자의 우주선은 그렇게 좋지 않아서 행성계 간의 이동을 최대한 피해서 여행해야 한다. 아래의 그림은 어린 왕자가 펼쳐본 은하수 지도의 일부이다.\n",
        "\n",
        "\n",
        "\n",
        "빨간 실선은 어린 왕자가 출발점에서 도착점까지 도달하는데 있어서 필요한 행성계 진입/이탈 횟수를 최소화하는 경로이며, 원은 행성계의 경계를 의미한다. 이러한 경로는 여러 개 존재할 수 있지만 적어도 3번의 행성계 진입/이탈이 필요하다는 것을 알 수 있다.\n",
        "\n",
        "위와 같은 은하수 지도, 출발점, 도착점이 주어졌을 때 어린 왕자에게 필요한 최소의 행성계 진입/이탈 횟수를 구하는 프로그램을 작성해 보자. 행성계의 경계가 맞닿거나 서로 교차하는 경우는 없다. 또한, 출발점이나 도착점이 행성계 경계에 걸쳐진 경우 역시 입력으로 주어지지 않는다."
      ],
      "metadata": {
        "id": "nPpMKrjIYpt_"
      }
    },
    {
      "cell_type": "code",
      "source": [
        "n = int(input())\n",
        "for i in range(n):\n"
      ],
      "metadata": {
        "id": "yA3FpcJxf_eY"
      },
      "execution_count": null,
      "outputs": []
    }
  ]
}