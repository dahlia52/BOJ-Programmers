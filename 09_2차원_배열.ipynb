{
  "nbformat": 4,
  "nbformat_minor": 0,
  "metadata": {
    "colab": {
      "provenance": [],
      "authorship_tag": "ABX9TyNU8UKvKJmeOLesXsIFmD9x",
      "include_colab_link": true
    },
    "kernelspec": {
      "name": "python3",
      "display_name": "Python 3"
    },
    "language_info": {
      "name": "python"
    }
  },
  "cells": [
    {
      "cell_type": "markdown",
      "metadata": {
        "id": "view-in-github",
        "colab_type": "text"
      },
      "source": [
        "<a href=\"https://colab.research.google.com/github/dahlia52/BAEKJOON/blob/main/09_2%EC%B0%A8%EC%9B%90_%EB%B0%B0%EC%97%B4.ipynb\" target=\"_parent\"><img src=\"https://colab.research.google.com/assets/colab-badge.svg\" alt=\"Open In Colab\"/></a>"
      ]
    },
    {
      "cell_type": "markdown",
      "source": [
        "https://www.acmicpc.net/step/2"
      ],
      "metadata": {
        "id": "2QRmfCnQvgPd"
      }
    },
    {
      "cell_type": "markdown",
      "source": [
        "- 2738번 행렬 덧셈"
      ],
      "metadata": {
        "id": "Q72Mg0mPvoRF"
      }
    },
    {
      "cell_type": "markdown",
      "source": [
        "N*M크기의 두 행렬 A와 B가 주어졌을 때, 두 행렬을 더하는 프로그램을 작성하시오."
      ],
      "metadata": {
        "id": "_IuliRjXv29c"
      }
    },
    {
      "cell_type": "code",
      "execution_count": null,
      "metadata": {
        "colab": {
          "base_uri": "https://localhost:8080/"
        },
        "id": "UkyshRFavfmt",
        "outputId": "a6b1aeb8-250f-47db-c462-d3d57cad2372"
      },
      "outputs": [
        {
          "output_type": "stream",
          "name": "stdout",
          "text": [
            "2 4\n",
            "1 2 3 4\n",
            "5 6 7 8\n",
            "3 2 1 5\n",
            "4 3 4 3\n",
            "4 4 4 9 \n",
            "9 9 11 11 \n"
          ]
        }
      ],
      "source": [
        "n,m = map(int, input().split())\n",
        "list1 = []\n",
        "for i in range(2*n):\n",
        "  val = list(map(int, input().split()))\n",
        "  list1.append(val)\n",
        "for i in range(n):\n",
        "  for j in range(m):\n",
        "    print(list1[i][j] + list1[i+n][j], end=\" \")\n",
        "  print()"
      ]
    },
    {
      "cell_type": "markdown",
      "source": [
        "- 2566번 최댓값"
      ],
      "metadata": {
        "id": "1prTQ9mSvrI7"
      }
    },
    {
      "cell_type": "markdown",
      "source": [
        "<그림 1>과 같이 9×9 격자판에 쓰여진 81개의 자연수 또는 0이 주어질 때, 이들 중 최댓값을 찾고 그 최댓값이 몇 행 몇 열에 위치한 수인지 구하는 프로그램을 작성하시오.\n",
        "\n",
        "예를 들어, 다음과 같이 81개의 수가 주어지면 이들 중 최댓값은 90이고, 이 값은 5행 7열에 위치한다."
      ],
      "metadata": {
        "id": "cTusUv9uyC8Q"
      }
    },
    {
      "cell_type": "code",
      "source": [
        "maxi, row, col = -1, 0, 0\n",
        "for i in range(9):\n",
        "  val = list(map(int, input().split()))\n",
        "  if max(val) > maxi:\n",
        "    maxi = max(val)\n",
        "    row = i+1\n",
        "    col = val.index(maxi)+1\n",
        "print(maxi)\n",
        "print(row, col)"
      ],
      "metadata": {
        "colab": {
          "base_uri": "https://localhost:8080/"
        },
        "id": "qk8Q-LHOvsfa",
        "outputId": "5cc647e6-6adf-44dd-e80f-625d740cc3d4"
      },
      "execution_count": null,
      "outputs": [
        {
          "output_type": "stream",
          "name": "stdout",
          "text": [
            "3 23 85 34 17 74 25 52 65\n",
            "10 7 39 42 88 52 14 72 63\n",
            "87 42 18 78 53 45 18 84 53\n",
            "34 28 64 85 12 16 75 36 55\n",
            "21 77 45 35 28 75 90 76 1\n",
            "25 87 65 15 28 11 37 28 74\n",
            "65 27 75 41 7 89 78 64 39\n",
            "47 47 70 45 23 65 3 41 44\n",
            "87 13 82 38 31 12 29 29 80\n",
            "90\n",
            "5 7\n"
          ]
        }
      ]
    },
    {
      "cell_type": "markdown",
      "source": [
        "- 오답 요인) 모든 입력값이 0일 것을 대비하여 maxi 초기값을 0이 아닌 -1로 설정!"
      ],
      "metadata": {
        "id": "HqZbpuP43IqU"
      }
    },
    {
      "cell_type": "code",
      "source": [
        "maxi, row, col = -1, 0, 0\n",
        "for i in range(9):\n",
        "  val = list(map(int, input().split()))\n",
        "  for j in range(9):\n",
        "    if val[j] > maxi:\n",
        "      maxi = val[j]\n",
        "      row = i+1\n",
        "      col = j+1\n",
        "print(maxi)\n",
        "print(row, col)"
      ],
      "metadata": {
        "colab": {
          "base_uri": "https://localhost:8080/"
        },
        "id": "fIH0RwF41mq0",
        "outputId": "a635637d-8dd5-4d58-884d-869742091fbb"
      },
      "execution_count": null,
      "outputs": [
        {
          "output_type": "stream",
          "name": "stdout",
          "text": [
            "3 23 85 34 17 74 25 52 65\n",
            "10 7 39 42 88 52 14 72 63\n",
            "87 42 18 78 53 45 18 84 53\n",
            "34 28 64 85 12 16 75 36 55\n",
            "21 77 45 35 28 75 90 76 1\n",
            "25 87 65 15 28 11 37 28 74\n",
            "65 27 75 41 7 89 78 64 39\n",
            "47 47 70 45 23 65 3 41 44\n",
            "87 13 82 38 31 12 29 29 80\n",
            "90\n",
            "5 7\n"
          ]
        }
      ]
    },
    {
      "cell_type": "markdown",
      "source": [
        "- 2563번 색종이"
      ],
      "metadata": {
        "id": "EwMSwaWsvtXs"
      }
    },
    {
      "cell_type": "markdown",
      "source": [
        "가로, 세로의 크기가 각각 100인 정사각형 모양의 흰색 도화지가 있다. 이 도화지 위에 가로, 세로의 크기가 각각 10인 정사각형 모양의 검은색 색종이를 색종이의 변과 도화지의 변이 평행하도록 붙인다. 이러한 방식으로 색종이를 한 장 또는 여러 장 붙인 후 색종이가 붙은 검은 영역의 넓이를 구하는 프로그램을 작성하시오.\n",
        "\n",
        "\n",
        "\n",
        "예를 들어 흰색 도화지 위에 세 장의 검은색 색종이를 그림과 같은 모양으로 붙였다면 검은색 영역의 넓이는 260이 된다."
      ],
      "metadata": {
        "id": "RrX77HQh09NM"
      }
    },
    {
      "cell_type": "code",
      "source": [
        "n = int(input())\n",
        "paper = []\n",
        "sum1 = 0\n",
        "for i in range(100):\n",
        "  paper.append(list(0 for j in range(100)))\n",
        "for i in range(n):\n",
        "  x, y = map(int, input().split())\n",
        "  for k in range(10):\n",
        "    for j in range(10):\n",
        "      paper[x+k][y+j] = 1\n",
        "for pap in paper:\n",
        "  sum1 += sum(pap)\n",
        "print(sum1)"
      ],
      "metadata": {
        "colab": {
          "base_uri": "https://localhost:8080/"
        },
        "id": "4N9k9s1Svvgk",
        "outputId": "9b57584a-3545-4125-c9d8-b3bf0f42e37a"
      },
      "execution_count": null,
      "outputs": [
        {
          "output_type": "stream",
          "name": "stdout",
          "text": [
            "2\n",
            "0 0\n",
            "0 0\n",
            "100\n"
          ]
        }
      ]
    }
  ]
}