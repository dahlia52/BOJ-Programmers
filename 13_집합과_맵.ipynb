{
  "nbformat": 4,
  "nbformat_minor": 0,
  "metadata": {
    "colab": {
      "provenance": [],
      "authorship_tag": "ABX9TyOyr8lLcqzi2Dbt5mFYSMEV",
      "include_colab_link": true
    },
    "kernelspec": {
      "name": "python3",
      "display_name": "Python 3"
    },
    "language_info": {
      "name": "python"
    }
  },
  "cells": [
    {
      "cell_type": "markdown",
      "metadata": {
        "id": "view-in-github",
        "colab_type": "text"
      },
      "source": [
        "<a href=\"https://colab.research.google.com/github/dahlia52/BAEKJOON/blob/main/13_%EC%A7%91%ED%95%A9%EA%B3%BC_%EB%A7%B5.ipynb\" target=\"_parent\"><img src=\"https://colab.research.google.com/assets/colab-badge.svg\" alt=\"Open In Colab\"/></a>"
      ]
    },
    {
      "cell_type": "markdown",
      "source": [
        "https://www.acmicpc.net/step/49"
      ],
      "metadata": {
        "id": "yeK_ANAkzfIZ"
      }
    },
    {
      "cell_type": "markdown",
      "source": [
        "### 10815 숫자 카드"
      ],
      "metadata": {
        "id": "wMxt-3zszhnS"
      }
    },
    {
      "cell_type": "markdown",
      "source": [
        "숫자 카드는 정수 하나가 적혀져 있는 카드이다. 상근이는 숫자 카드 N개를 가지고 있다. 정수 M개가 주어졌을 때, 이 수가 적혀있는 숫자 카드를 상근이가 가지고 있는지 아닌지를 구하는 프로그램을 작성하시오."
      ],
      "metadata": {
        "id": "gX769RQmz1qx"
      }
    },
    {
      "cell_type": "code",
      "source": [
        "n = int(input())\n",
        "list1 = list(map(int, input().split()))\n",
        "m = int(input())\n",
        "list2 = list(map(int, input().split()))\n",
        "list3 = [0 for _ in range(20000001)] # 입력받은 값에 대응되는 리스트 만들어놓기\n",
        "for i in list1:\n",
        "  list3[i+10000000] = 1\n",
        "for j in list2:\n",
        "  print(list3[j+10000000], end=\" \")"
      ],
      "metadata": {
        "colab": {
          "base_uri": "https://localhost:8080/"
        },
        "id": "BJcsKjC90d2y",
        "outputId": "a792ab64-dff0-41cc-ffe3-8f4032668dde"
      },
      "execution_count": null,
      "outputs": [
        {
          "output_type": "stream",
          "name": "stdout",
          "text": [
            "5\n",
            "6 3 2 10 -10\n",
            "8\n",
            "10 9 -5 2 3 4 5 -10\n",
            "1 0 0 1 1 0 0 1 "
          ]
        }
      ]
    },
    {
      "cell_type": "markdown",
      "source": [
        "- 이진탐색 풀이\n",
        "\n",
        " 참고: https://hongcoding.tistory.com/4"
      ],
      "metadata": {
        "id": "4ycMliVj1kkx"
      }
    },
    {
      "cell_type": "code",
      "source": [
        "n = int(input())\n",
        "list1 = list(map(int, input().split()))\n",
        "m = int(input())\n",
        "list2 = list(map(int, input().split()))\n",
        "list1.sort()\n",
        "\n",
        "def binary_search(array, target, start, end):\n",
        "  while start <= end:\n",
        "    mid = (start + end)//2\n",
        "    if array[mid] == target:\n",
        "      return mid\n",
        "    elif array[mid] > target:\n",
        "      end = mid - 1\n",
        "    else:\n",
        "      start = mid + 1\n",
        "  return None\n",
        "\n",
        "for i in range(m):\n",
        "  if binary_search(list1, list2[i], 0, n-1) is not None:\n",
        "    print(1, end = \" \")\n",
        "  else:\n",
        "    print(0, end = \" \")"
      ],
      "metadata": {
        "colab": {
          "base_uri": "https://localhost:8080/"
        },
        "id": "z50EwcqE1iuh",
        "outputId": "16342aaf-08a9-41ac-911b-fe7d1331f12c"
      },
      "execution_count": null,
      "outputs": [
        {
          "output_type": "stream",
          "name": "stdout",
          "text": [
            "5\n",
            "6 3 2 10 -10\n",
            "8\n",
            "10 9 -5 2 3 4 5 -10\n",
            "1 0 0 1 1 0 0 1 "
          ]
        }
      ]
    },
    {
      "cell_type": "markdown",
      "source": [
        "- dictionary 이용: set과 dictionary는 hash table을 이용하기 때문에 list보다 빠름.\n",
        "\n",
        "참고: https://wlstyql.tistory.com/154"
      ],
      "metadata": {
        "id": "OaXQ2j4R4H3p"
      }
    },
    {
      "cell_type": "code",
      "source": [
        "import sys\n",
        "n = int(input())\n",
        "list1 = list(map(int, input().split()))\n",
        "m = int(input())\n",
        "list2 = list(map(int, input().split()))\n",
        "\n",
        "dict1 = {} # 속도는 dictionary!\n",
        "for i in range(len(list1)):\n",
        "  dict1[list1[i]] = 0 # 딕셔너리에 등록\n",
        "for j in range(m):\n",
        "  if list2[j] in dict1:\n",
        "    print(1, end = \" \")\n",
        "  else:\n",
        "    print(0, end = \" \")"
      ],
      "metadata": {
        "colab": {
          "base_uri": "https://localhost:8080/"
        },
        "id": "oeSlVlp94A04",
        "outputId": "09735825-b699-44ed-def0-5604302bc186"
      },
      "execution_count": null,
      "outputs": [
        {
          "output_type": "stream",
          "name": "stdout",
          "text": [
            "5\n",
            "6 3 2 10 -10\n",
            "8\n",
            "10 9 -5 2 3 4 5 -10\n",
            "1 0 0 1 1 0 0 1 "
          ]
        }
      ]
    },
    {
      "cell_type": "markdown",
      "source": [
        "### 14425 문자열 집합"
      ],
      "metadata": {
        "id": "ma_gWyHQzlSS"
      }
    },
    {
      "cell_type": "markdown",
      "source": [
        "총 N개의 문자열로 이루어진 집합 S가 주어진다.\n",
        "\n",
        "입력으로 주어지는 M개의 문자열 중에서 집합 S에 포함되어 있는 것이 총 몇 개인지 구하는 프로그램을 작성하시오."
      ],
      "metadata": {
        "id": "ETGafadV4wzE"
      }
    },
    {
      "cell_type": "code",
      "source": [
        "n, m = map(int, input().split())\n",
        "cnt = 0\n",
        "dict1 = {}\n",
        "for i in range(n):\n",
        "  dict1[input()] = 0\n",
        "for j in range(m):\n",
        "  if input() in dict1:\n",
        "    cnt += 1\n",
        "print(cnt)"
      ],
      "metadata": {
        "colab": {
          "base_uri": "https://localhost:8080/"
        },
        "id": "lsKtkzQEznUd",
        "outputId": "848d8151-80d2-47f3-d047-feb10b0db3dd"
      },
      "execution_count": null,
      "outputs": [
        {
          "output_type": "stream",
          "name": "stdout",
          "text": [
            "5 11\n",
            "baekjoononlinejudge\n",
            "startlink\n",
            "codeplus\n",
            "sundaycoding\n",
            "codingsh\n",
            "baekjoon\n",
            "codeplus\n",
            "codeminus\n",
            "startlink\n",
            "starlink\n",
            "sundaycoding\n",
            "codingsh\n",
            "codinghs\n",
            "sondaycoding\n",
            "startrink\n",
            "icerink\n",
            "4\n"
          ]
        }
      ]
    },
    {
      "cell_type": "code",
      "source": [
        "import sys\n",
        "n, m = map(int, input().split())\n",
        "cnt = 0\n",
        "dict1 = {}\n",
        "for i in range(n):\n",
        "  dict1[sys.stdin.readline()] = 0\n",
        "for j in range(m):\n",
        "  if sys.stdin.readline() in dict1:\n",
        "    cnt += 1\n",
        "print(cnt)"
      ],
      "metadata": {
        "id": "EnwgHEib6sM4"
      },
      "execution_count": null,
      "outputs": []
    },
    {
      "cell_type": "markdown",
      "source": [
        "### 1620 나는야 포켓몬 마스터 이다솜"
      ],
      "metadata": {
        "id": "Icy4eyWlzneH"
      }
    },
    {
      "cell_type": "markdown",
      "source": [
        "첫째 줄에는 도감에 수록되어 있는 포켓몬의 개수 N이랑 내가 맞춰야 하는 문제의 개수 M이 주어져. N과 M은 1보다 크거나 같고, 100,000보다 작거나 같은 자연수인데, 자연수가 뭔지는 알지? 모르면 물어봐도 괜찮아. 나는 언제든지 질문에 답해줄 준비가 되어있어.\n",
        "\n",
        "둘째 줄부터 N개의 줄에 포켓몬의 번호가 1번인 포켓몬부터 N번에 해당하는 포켓몬까지 한 줄에 하나씩 입력으로 들어와. 포켓몬의 이름은 모두 영어로만 이루어져있고, 또, 음... 첫 글자만 대문자이고, 나머지 문자는 소문자로만 이루어져 있어. 아참! 일부 포켓몬은 마지막 문자만 대문자일 수도 있어. 포켓몬 이름의 최대 길이는 20, 최소 길이는 2야. 그 다음 줄부터 총 M개의 줄에 내가 맞춰야하는 문제가 입력으로 들어와. 문제가 알파벳으로만 들어오면 포켓몬 번호를 말해야 하고, 숫자로만 들어오면, 포켓몬 번호에 해당하는 문자를 출력해야해. 입력으로 들어오는 숫자는 반드시 1보다 크거나 같고, N보다 작거나 같고, 입력으로 들어오는 문자는 반드시 도감에 있는 포켓몬의 이름만 주어져. 그럼 화이팅!!!"
      ],
      "metadata": {
        "id": "3sU5-TJmNA8m"
      }
    },
    {
      "cell_type": "code",
      "source": [
        "n, m = map(int, input().split())\n",
        "dict1 = {}\n",
        "list1 = [0] # 인덱싱을 위한 리스트 생성\n",
        "for i in range(n):\n",
        "  inp = input()\n",
        "  dict1[inp] = i+1\n",
        "  list1.append(inp)\n",
        "for j in range(m):\n",
        "  inp = input()\n",
        "  try: # 예외 처리 - 딕셔너리에 없으면 리스트에서 인덱스를 이용하여 찾기\n",
        "    print(dict1[inp])\n",
        "  except:\n",
        "    print(list1[int(inp)])"
      ],
      "metadata": {
        "colab": {
          "base_uri": "https://localhost:8080/"
        },
        "id": "OntOAyRqzqhw",
        "outputId": "edfc25f7-59bb-400a-95fe-213688d35f87"
      },
      "execution_count": null,
      "outputs": [
        {
          "output_type": "stream",
          "name": "stdout",
          "text": [
            "26 5\n",
            "Bulbasaur\n",
            "Ivysaur\n",
            "Venusaur\n",
            "Charmander\n",
            "Charmeleon\n",
            "Charizard\n",
            "Squirtle\n",
            "Wartortle\n",
            "Blastoise\n",
            "Caterpie\n",
            "Metapod\n",
            "Butterfree\n",
            "Weedle\n",
            "Kakuna\n",
            "Beedrill\n",
            "Pidgey\n",
            "Pidgeotto\n",
            "Pidgeot\n",
            "Rattata\n",
            "Raticate\n",
            "Spearow\n",
            "Fearow\n",
            "Ekans\n",
            "Arbok\n",
            "Pikachu\n",
            "Raichu\n",
            "25\n",
            "Pikachu\n",
            "Raichu\n",
            "26\n",
            "3\n",
            "Venusaur\n",
            "Pidgey\n",
            "16\n",
            "Kakuna\n",
            "14\n"
          ]
        }
      ]
    },
    {
      "cell_type": "code",
      "source": [
        "# 출력형식이 잘못되었습니다 오류 -> 입력받은 값에서 strip()으로 공백을 없애주어야 함.\n",
        "import sys\n",
        "n, m = map(int, input().split())\n",
        "dict1 = {}\n",
        "list1 = [0] # 인덱싱을 위한 리스트 생성\n",
        "for i in range(n):\n",
        "  inp =  str(sys.stdin.readline()).strip()\n",
        "  dict1[inp] = i+1\n",
        "  list1.append(inp)\n",
        "for j in range(m):\n",
        "  inp =  str(sys.stdin.readline()).strip()\n",
        "  try:\n",
        "    print(dict1[inp])\n",
        "  except:\n",
        "    print(list1[int(inp)])"
      ],
      "metadata": {
        "id": "-VQHutZdCP_V"
      },
      "execution_count": null,
      "outputs": []
    },
    {
      "cell_type": "markdown",
      "source": [
        "- 입력값의 인덱스를 딕셔너리에 함께 저장 & 입력값 형식을 확인한 풀이 : isdigit()\n",
        "\n",
        "참고: https://gudwns1243.tistory.com/63"
      ],
      "metadata": {
        "id": "ITOlVTLEFVH0"
      }
    },
    {
      "cell_type": "code",
      "source": [
        "n, m = map(int, input().split())\n",
        "dict1 = {}\n",
        "for i in range(1,n+1):\n",
        "  inp = input()\n",
        "  dict1[i] = inp\n",
        "  dict1[inp] = i\n",
        "for j in range(m):\n",
        "  inp = input()\n",
        "  if inp.isdigit():\n",
        "    print(dict1[int(inp)])\n",
        "  else:\n",
        "    print(dict1[inp])"
      ],
      "metadata": {
        "id": "KPLYY9uDFc3I"
      },
      "execution_count": null,
      "outputs": []
    },
    {
      "cell_type": "code",
      "source": [
        "import sys\n",
        "n, m = map(int, input().split())\n",
        "dict1 = {}\n",
        "for i in range(1,n+1):\n",
        "  inp = sys.stdin.readline().strip()\n",
        "  dict1[i] = inp\n",
        "  dict1[inp] = i\n",
        "for j in range(m):\n",
        "  inp = sys.stdin.readline().strip()\n",
        "  if inp.isdigit():\n",
        "    print(dict1[int(inp)])\n",
        "  else:\n",
        "    print(dict1[inp])"
      ],
      "metadata": {
        "id": "b9Uk7f01GvqW"
      },
      "execution_count": null,
      "outputs": []
    },
    {
      "cell_type": "markdown",
      "source": [
        "*이탤릭체 텍스트*### 10816\t 숫자 카드 2"
      ],
      "metadata": {
        "id": "SzmbGx0xzr4R"
      }
    },
    {
      "cell_type": "markdown",
      "source": [
        "숫자 카드는 정수 하나가 적혀져 있는 카드이다. 상근이는 숫자 카드 N개를 가지고 있다. 정수 M개가 주어졌을 때, 이 수가 적혀있는 숫자 카드를 상근이가 몇 개 가지고 있는지 구하는 프로그램을 작성하시오."
      ],
      "metadata": {
        "id": "_5haLX9WNHGz"
      }
    },
    {
      "cell_type": "code",
      "source": [
        "n = int(input())\n",
        "list1 = list(map(int, input().split()))\n",
        "m = int(input())\n",
        "list2 = list(map(int, input().split()))\n",
        "list3 = [0 for _ in range(20000001)] # 입력받은 값에 대응되는 리스트 만들어놓기\n",
        "for i in list1:\n",
        "  list3[i+10000000] += 1\n",
        "for j in list2:\n",
        "  print(list3[j+10000000], end=\" \")"
      ],
      "metadata": {
        "colab": {
          "base_uri": "https://localhost:8080/"
        },
        "id": "kFuxqi6Dzst4",
        "outputId": "63ee8470-8180-4499-e9f5-002662c6d3e1"
      },
      "execution_count": null,
      "outputs": [
        {
          "output_type": "stream",
          "name": "stdout",
          "text": [
            "10\n",
            "6 3 2 10 10 10 -10 -10 7 3\n",
            "8\n",
            "10 9 -5 2 3 4 5 -10\n",
            "3 0 0 1 2 0 0 2 "
          ]
        }
      ]
    },
    {
      "cell_type": "code",
      "source": [
        "n = int(input())\n",
        "list1 = list(map(int, input().split()))\n",
        "m = int(input())\n",
        "list2 = list(map(int, input().split()))\n",
        "dict1 = {}\n",
        "for i in list1:\n",
        "  try:\n",
        "    dict1[i] += 1\n",
        "  except:\n",
        "    dict1[i] = 1\n",
        "for j in list2:\n",
        "  try:\n",
        "    print(dict1[j], end=\" \")\n",
        "  except:\n",
        "    print(0, end=\" \")"
      ],
      "metadata": {
        "colab": {
          "base_uri": "https://localhost:8080/"
        },
        "id": "awwa0G18NsTS",
        "outputId": "ab040aef-c910-4718-c880-4210e0cacf47"
      },
      "execution_count": null,
      "outputs": [
        {
          "output_type": "stream",
          "name": "stdout",
          "text": [
            "10\n",
            "6 3 2 10 10 10 -10 -10 7 3\n",
            "8\n",
            "10 9 -5 2 3 4 5 -10\n",
            "3 0 0 1 2 0 0 2 "
          ]
        }
      ]
    },
    {
      "cell_type": "markdown",
      "source": [
        "- 이분 탐색 이용\n",
        "\n",
        "참고: https://chancoding.tistory.com/45"
      ],
      "metadata": {
        "id": "2-nRNNy8dMDs"
      }
    },
    {
      "cell_type": "code",
      "source": [
        "n = int(input())\n",
        "list1 = sorted(map(int, input().split()))\n",
        "m = int(input())\n",
        "list2 = map(int, input().split())\n",
        "\n",
        "def binary(n, list1, start, end):\n",
        "  if start > end:\n",
        "    return 0\n",
        "  mid = (start + end)//2 \n",
        "  if n == list1[mid]:\n",
        "    return list1[start:end+1].count(n)\n",
        "  elif n < list1[mid]:\n",
        "    return binary(n,list1,start,mid-1)\n",
        "  else:\n",
        "    return binary(n,list1,mid+1,end)\n",
        "n_dict = {}\n",
        "for i in list1:\n",
        "  if i not in n_dict: # 같은 원소는 한 번만 검사\n",
        "    n_dict[i] = binary(i,list1,0,len(list1)-1)\n",
        "print(\" \".join(str(n_dict[x]) if x in n_dict else '0' for x in list2))"
      ],
      "metadata": {
        "id": "brHwGoEAdPFC",
        "colab": {
          "base_uri": "https://localhost:8080/"
        },
        "outputId": "83305844-227c-4e09-face-f0b79ef7d025"
      },
      "execution_count": 10,
      "outputs": [
        {
          "output_type": "stream",
          "name": "stdout",
          "text": [
            "10\n",
            "6 3 2 10 10 10 -10 -10 7 3\n",
            "8\n",
            "10 9 -5 2 3 4 5 -10\n",
            "3 0 0 1 2 0 0 2\n"
          ]
        }
      ]
    },
    {
      "cell_type": "markdown",
      "source": [
        "### 1764\t 듣보잡"
      ],
      "metadata": {
        "id": "RODXCwMYztxg"
      }
    },
    {
      "cell_type": "markdown",
      "source": [
        "김진영이 듣도 못한 사람의 명단과, 보도 못한 사람의 명단이 주어질 때, 듣도 보도 못한 사람의 명단을 구하는 프로그램을 작성하시오."
      ],
      "metadata": {
        "id": "iw7XzN9VnGV7"
      }
    },
    {
      "cell_type": "code",
      "source": [
        "# 겹치는 명단이 없으므로 set 자료형 이용\n",
        "n, m = map(int, input().split())\n",
        "listens = []\n",
        "sees = []\n",
        "for _ in range(n):\n",
        "  listens.append(input())\n",
        "for _ in range(m):\n",
        "  sees.append(input())\n",
        "listenNsee = list(set(listens) & set(sees)) # 교집합\n",
        "listenNsee.sort()\n",
        "print(len(listenNsee))\n",
        "for li in listenNsee:\n",
        "  print(li)"
      ],
      "metadata": {
        "colab": {
          "base_uri": "https://localhost:8080/"
        },
        "id": "M9nrK4Zka4Lb",
        "outputId": "17e0ddb0-86d0-49ac-f82b-b59157f90f30"
      },
      "execution_count": null,
      "outputs": [
        {
          "output_type": "stream",
          "name": "stdout",
          "text": [
            "3 4\n",
            "ohhenrie\n",
            "charlie\n",
            "baesangwook\n",
            "obama\n",
            "baesangwook\n",
            "ohhenrie\n",
            "clinton\n",
            "2\n",
            "baesangwook\n",
            "ohhenrie\n"
          ]
        }
      ]
    },
    {
      "cell_type": "markdown",
      "source": [
        "### 1269\t 대칭 차집합"
      ],
      "metadata": {
        "id": "cQTLePtdzwsa"
      }
    },
    {
      "cell_type": "markdown",
      "source": [
        "자연수를 원소로 갖는 공집합이 아닌 두 집합 A와 B가 있다. 이때, 두 집합의 대칭 차집합의 원소의 개수를 출력하는 프로그램을 작성하시오. 두 집합 A와 B가 있을 때, (A-B)와 (B-A)의 합집합을 A와 B의 대칭 차집합이라고 한다.\n",
        "\n",
        "예를 들어, A = { 1, 2, 4 } 이고, B = { 2, 3, 4, 5, 6 } 라고 할 때,  A-B = { 1 } 이고, B-A = { 3, 5, 6 } 이므로, 대칭 차집합의 원소의 개수는 1 + 3 = 4개이다."
      ],
      "metadata": {
        "id": "NgbbL8U2qhkY"
      }
    },
    {
      "cell_type": "code",
      "source": [
        "n, m = map(int, input().split())\n",
        "A = set(map(int, input().split()))\n",
        "B = set(map(int, input().split()))\n",
        "print(len(A-B) + len(B-A))"
      ],
      "metadata": {
        "id": "8qaD3WJqzxj4",
        "colab": {
          "base_uri": "https://localhost:8080/"
        },
        "outputId": "31a4a5cf-5bc3-4a0d-e09e-6e795e39ff0b"
      },
      "execution_count": null,
      "outputs": [
        {
          "output_type": "stream",
          "name": "stdout",
          "text": [
            "3 5\n",
            "1 2 4\n",
            "2 3 4 5 6\n",
            "4\n"
          ]
        }
      ]
    },
    {
      "cell_type": "markdown",
      "source": [
        "### \t11478\t 서로 다른 부분 문자열의 개수"
      ],
      "metadata": {
        "id": "iQoJ7Z2Mzyrl"
      }
    },
    {
      "cell_type": "markdown",
      "source": [
        "문자열 S가 주어졌을 때, S의 서로 다른 부분 문자열의 개수를 구하는 프로그램을 작성하시오.\n",
        "\n",
        "부분 문자열은 S에서 연속된 일부분을 말하며, 길이가 1보다 크거나 같아야 한다.\n",
        "\n",
        "예를 들어, ababc의 부분 문자열은 a, b, a, b, c, ab, ba, ab, bc, aba, bab, abc, abab, babc, ababc가 있고, 서로 다른것의 개수는 12개이다."
      ],
      "metadata": {
        "id": "OarpWGN_rnHf"
      }
    },
    {
      "cell_type": "code",
      "source": [
        "A = input()\n",
        "parts = []\n",
        "for i in range(1, len(A)+1): # 추출할 문자 길이\n",
        "  for j in range(len(A)+1-i): # 시작점\n",
        "    parts.append(A[j:(j+i)])\n",
        "print(len(set(parts)))"
      ],
      "metadata": {
        "id": "8bsD_lUOzzYq",
        "colab": {
          "base_uri": "https://localhost:8080/"
        },
        "outputId": "8ccfd35a-41ae-4dee-b34e-42c8fd5747ec"
      },
      "execution_count": 8,
      "outputs": [
        {
          "output_type": "stream",
          "name": "stdout",
          "text": [
            "ababc\n",
            "12\n"
          ]
        }
      ]
    }
  ]
}