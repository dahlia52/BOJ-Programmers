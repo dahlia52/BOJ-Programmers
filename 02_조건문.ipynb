{
  "nbformat": 4,
  "nbformat_minor": 0,
  "metadata": {
    "colab": {
      "provenance": [],
      "collapsed_sections": []
    },
    "kernelspec": {
      "name": "python3",
      "display_name": "Python 3"
    },
    "language_info": {
      "name": "python"
    }
  },
  "cells": [
    {
      "cell_type": "markdown",
      "source": [
        "백준 2단계 - 조건문\n",
        "\n",
        "https://www.acmicpc.net/step/4"
      ],
      "metadata": {
        "id": "H7aYlwFV001x"
      }
    },
    {
      "cell_type": "code",
      "execution_count": 2,
      "metadata": {
        "colab": {
          "base_uri": "https://localhost:8080/"
        },
        "id": "ys4FD8lO0xfa",
        "outputId": "352372e0-c276-43e7-e814-e649fe49f98b"
      },
      "outputs": [
        {
          "output_type": "stream",
          "name": "stdout",
          "text": [
            "5 5\n",
            "==\n"
          ]
        }
      ],
      "source": [
        "# 1\n",
        "a,b = map(int, input().split())\n",
        "print('>' if a>b else '<' if a<b else '==')"
      ]
    },
    {
      "cell_type": "code",
      "source": [
        "a,b = map(int, input().split())\n",
        "if a>b:\n",
        "  print('>')\n",
        "elif a<b:\n",
        "  print('<')\n",
        "else:\n",
        "  print('==')"
      ],
      "metadata": {
        "colab": {
          "base_uri": "https://localhost:8080/"
        },
        "id": "6JEz-WNZ1m2y",
        "outputId": "9f4ee793-dce4-43fa-9680-1622e31958e3"
      },
      "execution_count": 3,
      "outputs": [
        {
          "output_type": "stream",
          "name": "stdout",
          "text": [
            "5 5\n",
            "==\n"
          ]
        }
      ]
    },
    {
      "cell_type": "markdown",
      "source": [
        "- 파이썬에는 swich/case문 존재X"
      ],
      "metadata": {
        "id": "uQJ6JQg32fuh"
      }
    },
    {
      "cell_type": "code",
      "source": [
        "# 2\n",
        "score = int(input())\n",
        "if score>=90:\n",
        "  print('A')\n",
        "elif score>=80:\n",
        "  print('B')\n",
        "elif score>=70:\n",
        "  print('C')\n",
        "elif score>=60:\n",
        "  print('D')\n",
        "else: \n",
        "  print('F')"
      ],
      "metadata": {
        "colab": {
          "base_uri": "https://localhost:8080/"
        },
        "id": "DTiF7YP21LXs",
        "outputId": "92ddfa8a-7b4d-415d-ec99-a7e6c010eb8c"
      },
      "execution_count": 5,
      "outputs": [
        {
          "output_type": "stream",
          "name": "stdout",
          "text": [
            "100\n",
            "A\n"
          ]
        }
      ]
    },
    {
      "cell_type": "code",
      "source": [
        "# 3\n",
        "year = int(input())\n",
        "if ((year%4==0)&(year%100!=0))|(year%400==0):\n",
        "  print(1)\n",
        "else:\n",
        "  print(0)"
      ],
      "metadata": {
        "colab": {
          "base_uri": "https://localhost:8080/"
        },
        "id": "AvRUUjNn15oD",
        "outputId": "4689f129-904b-48c0-92b3-5503232040ea"
      },
      "execution_count": 6,
      "outputs": [
        {
          "output_type": "stream",
          "name": "stdout",
          "text": [
            "2012\n",
            "1\n"
          ]
        }
      ]
    },
    {
      "cell_type": "code",
      "source": [
        "# 4\n",
        "a = int(input())\n",
        "b = int(input())\n",
        "if a>0:\n",
        "  if b>0:\n",
        "    print(1)\n",
        "  else:\n",
        "    print(4)\n",
        "else:\n",
        "  if b>0:\n",
        "    print(2)\n",
        "  else:\n",
        "    print(3)"
      ],
      "metadata": {
        "colab": {
          "base_uri": "https://localhost:8080/"
        },
        "id": "wgJu5C8G3mGT",
        "outputId": "db697a78-871e-4f2b-f62c-2662f0249f05"
      },
      "execution_count": 7,
      "outputs": [
        {
          "output_type": "stream",
          "name": "stdout",
          "text": [
            "9\n",
            "-13\n",
            "4\n"
          ]
        }
      ]
    },
    {
      "cell_type": "code",
      "source": [
        "# 5\n",
        "h, m = map(int, input().split())\n",
        "m -= 45\n",
        "if (m<0):\n",
        "  h -=1\n",
        "  m +=60\n",
        "if (h<0):\n",
        "  h +=24\n",
        "print(h, m)"
      ],
      "metadata": {
        "colab": {
          "base_uri": "https://localhost:8080/"
        },
        "id": "8ns98vvT4EM5",
        "outputId": "a05518b2-3778-4c38-cedb-aa9ffb39e612"
      },
      "execution_count": 12,
      "outputs": [
        {
          "output_type": "stream",
          "name": "stdout",
          "text": [
            "23 40\n",
            "22 55\n"
          ]
        }
      ]
    },
    {
      "cell_type": "code",
      "source": [
        "# 6\n",
        "h, m = map(int, input().split())\n",
        "t = int(input())\n",
        "m += t\n",
        "if m>=60:\n",
        "  h +=(m//60)\n",
        "  m%=60\n",
        "if h>=24:\n",
        "  h%=24\n",
        "print(h, m)"
      ],
      "metadata": {
        "colab": {
          "base_uri": "https://localhost:8080/"
        },
        "id": "H1XLXSQu40dZ",
        "outputId": "8b1e657e-e560-4514-80ef-f94d23b1119d"
      },
      "execution_count": 18,
      "outputs": [
        {
          "output_type": "stream",
          "name": "stdout",
          "text": [
            "23 48\n",
            "25\n",
            "0 13\n"
          ]
        }
      ]
    },
    {
      "cell_type": "code",
      "source": [
        "# 7\n",
        "a, b, c = map(int, input().split())\n",
        "if (a==b)&(b==c):\n",
        "  print(10000 + a*1000)\n",
        "elif a==b:\n",
        "  print(1000 + a*100)\n",
        "elif b==c:\n",
        "  print(1000 + b*100)\n",
        "elif c==a:\n",
        "  print(1000 + c*100)\n",
        "else:\n",
        "  if (a>b)&(a>c):\n",
        "    print(100*a)\n",
        "  elif (b>a)&(b>c):\n",
        "    print(100*b)\n",
        "  else:\n",
        "    print(100*c)"
      ],
      "metadata": {
        "colab": {
          "base_uri": "https://localhost:8080/"
        },
        "id": "vaSfULfk51CD",
        "outputId": "b01cb8b1-a9ad-481a-d157-8c44d4a2d6a3"
      },
      "execution_count": 23,
      "outputs": [
        {
          "output_type": "stream",
          "name": "stdout",
          "text": [
            "6 2 5\n",
            "600\n"
          ]
        }
      ]
    },
    {
      "cell_type": "code",
      "source": [
        "a, b, c = map(int, input().split())\n",
        "\n",
        "if a == b == c:\n",
        "    print(10000+a*1000)\n",
        "elif a == b:\n",
        "    print(1000+a*100)\n",
        "elif a == c:\n",
        "    print(1000+a*100)\n",
        "elif b == c:\n",
        "    print(1000+b*100)\n",
        "else:\n",
        "    print(100 * max(a,b,c))"
      ],
      "metadata": {
        "colab": {
          "base_uri": "https://localhost:8080/"
        },
        "id": "PtoC8Zqm90s5",
        "outputId": "ebaafefa-00a0-421f-dabf-beede6fed6f0"
      },
      "execution_count": 24,
      "outputs": [
        {
          "output_type": "stream",
          "name": "stdout",
          "text": [
            "2 2 2\n",
            "12000\n"
          ]
        }
      ]
    }
  ]
}
