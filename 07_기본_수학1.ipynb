{
  "nbformat": 4,
  "nbformat_minor": 0,
  "metadata": {
    "colab": {
      "provenance": [],
      "authorship_tag": "ABX9TyNbbznBNwwPirvJrwwK11dP",
      "include_colab_link": true
    },
    "kernelspec": {
      "name": "python3",
      "display_name": "Python 3"
    },
    "language_info": {
      "name": "python"
    }
  },
  "cells": [
    {
      "cell_type": "markdown",
      "metadata": {
        "id": "view-in-github",
        "colab_type": "text"
      },
      "source": [
        "<a href=\"https://colab.research.google.com/github/dahlia52/BAEKJOON/blob/main/07_%EA%B8%B0%EB%B3%B8_%EC%88%98%ED%95%991.ipynb\" target=\"_parent\"><img src=\"https://colab.research.google.com/assets/colab-badge.svg\" alt=\"Open In Colab\"/></a>"
      ]
    },
    {
      "cell_type": "markdown",
      "source": [
        "https://www.acmicpc.net/step/8"
      ],
      "metadata": {
        "id": "QO7eYhWcMsIa"
      }
    },
    {
      "cell_type": "markdown",
      "source": [
        "- 1712번 손익분기점"
      ],
      "metadata": {
        "id": "zZuZdEnZM3nP"
      }
    },
    {
      "cell_type": "markdown",
      "source": [
        "월드전자는 노트북을 제조하고 판매하는 회사이다. 노트북 판매 대수에 상관없이 매년 임대료, 재산세, 보험료, 급여 등 A만원의 고정 비용이 들며, 한 대의 노트북을 생산하는 데에는 재료비와 인건비 등 총 B만원의 가변 비용이 든다고 한다.\n",
        "\n",
        "예를 들어 A=1,000, B=70이라고 하자. 이 경우 노트북을 한 대 생산하는 데는 총 1,070만원이 들며, 열 대 생산하는 데는 총 1,700만원이 든다.\n",
        "\n",
        "노트북 가격이 C만원으로 책정되었다고 한다. 일반적으로 생산 대수를 늘려 가다 보면 어느 순간 총 수입(판매비용)이 총 비용(=고정비용+가변비용)보다 많아지게 된다. 최초로 총 수입이 총 비용보다 많아져 이익이 발생하는 지점을 손익분기점(BREAK-EVEN POINT)이라고 한다.\n",
        "\n",
        "A, B, C가 주어졌을 때, 손익분기점을 구하는 프로그램을 작성하시오."
      ],
      "metadata": {
        "id": "-mFwV-hBNv3A"
      }
    },
    {
      "cell_type": "code",
      "execution_count": null,
      "metadata": {
        "colab": {
          "base_uri": "https://localhost:8080/"
        },
        "id": "_REbRbgAMohx",
        "outputId": "3e5f91ae-c447-4114-bddb-946808dfa5c0"
      },
      "outputs": [
        {
          "output_type": "stream",
          "name": "stdout",
          "text": [
            "2100000000 9 10\n",
            "2100000001\n"
          ]
        }
      ],
      "source": [
        "a, b, c = map(int, input().split())\n",
        "if c<=b:\n",
        "  print(-1)\n",
        "else:\n",
        "  print(int(a/(c-b))+1)"
      ]
    },
    {
      "cell_type": "markdown",
      "source": [
        "- 2292번 벌집"
      ],
      "metadata": {
        "id": "QGQfx9wVM7FN"
      }
    },
    {
      "cell_type": "markdown",
      "source": [
        "위의 그림과 같이 육각형으로 이루어진 벌집이 있다. 그림에서 보는 바와 같이 중앙의 방 1부터 시작해서 이웃하는 방에 돌아가면서 1씩 증가하는 번호를 주소로 매길 수 있다. 숫자 N이 주어졌을 때, 벌집의 중앙 1에서 N번 방까지 최소 개수의 방을 지나서 갈 때 몇 개의 방을 지나가는지(시작과 끝을 포함하여)를 계산하는 프로그램을 작성하시오. 예를 들면, 13까지는 3개, 58까지는 5개를 지난다."
      ],
      "metadata": {
        "id": "nL0PESQaOaNS"
      }
    },
    {
      "cell_type": "markdown",
      "source": [
        "1\n",
        "\n",
        "2~7 (6개)\n",
        "\n",
        "8~19 (12개)\n",
        "\n",
        "20~37 (18개)\n",
        "\n",
        "38~61 (24개)\n",
        "\n",
        "1 + 6 + 12 + 18 + ... + 6(n-1) = 1 + 3n(n-1)"
      ],
      "metadata": {
        "id": "SOGhEamWO9ww"
      }
    },
    {
      "cell_type": "code",
      "source": [
        "n = int(input())\n",
        "if n==1:\n",
        "  print(1)\n",
        "elif n==2:\n",
        "  print(2)\n",
        "else:\n",
        "  for i in range(1,n):\n",
        "    if n <= 1+3*i*(i-1):\n",
        "      print(i)\n",
        "      break"
      ],
      "metadata": {
        "colab": {
          "base_uri": "https://localhost:8080/"
        },
        "id": "O4cmBKFmM8P8",
        "outputId": "2d319995-a9c1-4ad5-df9d-04e15f84e751"
      },
      "execution_count": null,
      "outputs": [
        {
          "output_type": "stream",
          "name": "stdout",
          "text": [
            "2\n",
            "2\n"
          ]
        }
      ]
    },
    {
      "cell_type": "markdown",
      "source": [
        "- 참고: https://ooyoung.tistory.com/82"
      ],
      "metadata": {
        "id": "CcP4GzRb1bwf"
      }
    },
    {
      "cell_type": "code",
      "source": [
        "n = int(input())\n",
        "address = 1\n",
        "count = 1\n",
        "while n>address:\n",
        "  address += 6*count\n",
        "  count +=1\n",
        "print(count)"
      ],
      "metadata": {
        "colab": {
          "base_uri": "https://localhost:8080/"
        },
        "id": "k--zAZIjcgfj",
        "outputId": "912e12da-e0f7-446b-f0ba-c8b134f8f163"
      },
      "execution_count": null,
      "outputs": [
        {
          "output_type": "stream",
          "name": "stdout",
          "text": [
            "2\n",
            "2\n"
          ]
        }
      ]
    },
    {
      "cell_type": "markdown",
      "source": [
        "- 1193번 분수찾기"
      ],
      "metadata": {
        "id": "DFdInF46M9Tv"
      }
    },
    {
      "cell_type": "markdown",
      "source": [
        "무한히 큰 배열에 다음과 같이 분수들이 적혀있다.\n",
        "\n",
        "1/1\t1/2\t1/3\t1/4\t1/5\t…\n",
        "2/1\t2/2\t2/3\t2/4\t…\t…\n",
        "3/1\t3/2\t3/3\t…\t…\t…\n",
        "4/1\t4/2\t…\t…\t…\t…\n",
        "5/1\t…\t…\t…\t…\t…\n",
        "…\t…\t…\t…\t…\t…\n",
        "이와 같이 나열된 분수들을 1/1 → 1/2 → 2/1 → 3/1 → 2/2 → … 과 같은 지그재그 순서로 차례대로 1번, 2번, 3번, 4번, 5번, … 분수라고 하자.\n",
        "\n",
        "X가 주어졌을 때, X번째 분수를 구하는 프로그램을 작성하시오."
      ],
      "metadata": {
        "id": "2ooVGMMae49W"
      }
    },
    {
      "cell_type": "code",
      "source": [
        "n = int(input())\n",
        "col = 0\n",
        "for i in range(1, n+1):\n",
        "  if n <= i*(i+1)/2:\n",
        "    col = i\n",
        "    break\n",
        "r = int(n - (i-1)*i/2)\n",
        "if col%2 == 0:\n",
        "  print(f'{r}/{col+1-r}')\n",
        "else:\n",
        "  print(f'{col+1-r}/{r}')"
      ],
      "metadata": {
        "colab": {
          "base_uri": "https://localhost:8080/"
        },
        "id": "VEmCZ2pNSZac",
        "outputId": "0e8414bc-9f91-4cf8-d24e-83771f605e93"
      },
      "execution_count": null,
      "outputs": [
        {
          "output_type": "stream",
          "name": "stdout",
          "text": [
            "3\n",
            "2/1\n"
          ]
        }
      ]
    },
    {
      "cell_type": "markdown",
      "source": [
        "- 2869번 달팽이는 올라가고 싶다"
      ],
      "metadata": {
        "id": "Z2srX5SuNA-B"
      }
    },
    {
      "cell_type": "markdown",
      "source": [
        "땅 위에 달팽이가 있다. 이 달팽이는 높이가 V미터인 나무 막대를 올라갈 것이다.\n",
        "\n",
        "달팽이는 낮에 A미터 올라갈 수 있다. 하지만, 밤에 잠을 자는 동안 B미터 미끄러진다. 또, 정상에 올라간 후에는 미끄러지지 않는다.\n",
        "\n",
        "달팽이가 나무 막대를 모두 올라가려면, 며칠이 걸리는지 구하는 프로그램을 작성하시오."
      ],
      "metadata": {
        "id": "GOk_TrcijpTf"
      }
    },
    {
      "cell_type": "markdown",
      "source": [
        "a + (a-b)*(day-1) >= v"
      ],
      "metadata": {
        "id": "ofA4pIQslBt7"
      }
    },
    {
      "cell_type": "code",
      "source": [
        "a,b,v = map(int, input().split())\n",
        "#for i in range(1, int(v/(a-b))):\n",
        "days = ((v-a)/(a-b))\n",
        "if (days == int(days)):\n",
        "  print(int(days + 1))\n",
        "else:\n",
        "  print(int(days + 2))"
      ],
      "metadata": {
        "colab": {
          "base_uri": "https://localhost:8080/"
        },
        "id": "tYQ024NQNCSs",
        "outputId": "d77c80aa-53b8-4828-8b32-2427054df707"
      },
      "execution_count": null,
      "outputs": [
        {
          "output_type": "stream",
          "name": "stdout",
          "text": [
            "100 99 1000000000\n",
            "999999901\n"
          ]
        }
      ]
    },
    {
      "cell_type": "markdown",
      "source": [
        "- 10250번 ACM 호텔"
      ],
      "metadata": {
        "id": "e9jvEwWtNDqh"
      }
    },
    {
      "cell_type": "markdown",
      "source": [
        "ACM 호텔 매니저 지우는 손님이 도착하는 대로 빈 방을 배정하고 있다. 고객 설문조사에 따르면 손님들은 호텔 정문으로부터 걸어서 가장 짧은 거리에 있는 방을 선호한다고 한다. 여러분은 지우를 도와 줄 프로그램을 작성하고자 한다. 즉 설문조사 결과 대로 호텔 정문으로부터 걷는 거리가 가장 짧도록 방을 배정하는 프로그램을 작성하고자 한다.\n",
        "\n",
        "문제를 단순화하기 위해서 호텔은 직사각형 모양이라고 가정하자. 각 층에 W 개의 방이 있는 H 층 건물이라고 가정하자 (1 ≤ H, W ≤ 99). 그리고 엘리베이터는 가장 왼쪽에 있다고 가정하자(그림 1 참고). 이런 형태의 호텔을 H × W 형태 호텔이라고 부른다. 호텔 정문은 일층 엘리베이터 바로 앞에 있는데, 정문에서 엘리베이터까지의 거리는 무시한다. 또 모든 인접한 두 방 사이의 거리는 같은 거리(거리 1)라고 가정하고 호텔의 정면 쪽에만 방이 있다고 가정한다."
      ],
      "metadata": {
        "id": "nLnb-0GvmXkC"
      }
    },
    {
      "cell_type": "code",
      "source": [
        "rep = int(input())\n",
        "for i in range(rep):\n",
        "  h, w, n = map(int, input().split())\n",
        "  q = n//h + 1\n",
        "  r = n%h\n",
        "  if r == 0: \n",
        "    r = str(h)\n",
        "    q -=1\n",
        "  else:\n",
        "    r = str(r)\n",
        "  if q<=9: \n",
        "    q = '0' + str(q)\n",
        "  else:\n",
        "    q = str(q)\n",
        "  room =int(r+q)\n",
        "  print(room)"
      ],
      "metadata": {
        "colab": {
          "base_uri": "https://localhost:8080/"
        },
        "id": "2EvWTG5iNF4-",
        "outputId": "e3ef2012-943a-4de4-af66-98f37ae0dff1"
      },
      "execution_count": null,
      "outputs": [
        {
          "output_type": "stream",
          "name": "stdout",
          "text": [
            "1\n",
            "11 12 11\n",
            "1101\n"
          ]
        }
      ]
    },
    {
      "cell_type": "markdown",
      "source": [
        "방 번호 프린트 더 간단하게\n",
        "\n",
        "참고: https://ooyoung.tistory.com/88"
      ],
      "metadata": {
        "id": "9ViC3lPs2WMW"
      }
    },
    {
      "cell_type": "code",
      "source": [
        "rep = int(input())\n",
        "for i in range(rep):\n",
        "  h, w, n = map(int, input().split())\n",
        "  q = n//h + 1\n",
        "  r = n%h\n",
        "  if r == 0:\n",
        "    r = h\n",
        "    q-=1\n",
        "  print(f'{r*100+q}')"
      ],
      "metadata": {
        "colab": {
          "base_uri": "https://localhost:8080/"
        },
        "id": "VoDoF9Z7wYcJ",
        "outputId": "572aee46-5c4a-480a-ab61-62114087ce2f"
      },
      "execution_count": null,
      "outputs": [
        {
          "output_type": "stream",
          "name": "stdout",
          "text": [
            "1\n",
            "11 12 11\n",
            "1101\n"
          ]
        }
      ]
    },
    {
      "cell_type": "markdown",
      "source": [
        "-\t2775번 부녀회장이 될테야"
      ],
      "metadata": {
        "id": "JZGok-P8NHAB"
      }
    },
    {
      "cell_type": "markdown",
      "source": [
        "평소 반상회에 참석하는 것을 좋아하는 주희는 이번 기회에 부녀회장이 되고 싶어 각 층의 사람들을 불러 모아 반상회를 주최하려고 한다.\n",
        "\n",
        "이 아파트에 거주를 하려면 조건이 있는데, “a층의 b호에 살려면 자신의 아래(a-1)층의 1호부터 b호까지 사람들의 수의 합만큼 사람들을 데려와 살아야 한다” 는 계약 조항을 꼭 지키고 들어와야 한다.\n",
        "\n",
        "아파트에 비어있는 집은 없고 모든 거주민들이 이 계약 조건을 지키고 왔다고 가정했을 때, 주어지는 양의 정수 k와 n에 대해 k층에 n호에는 몇 명이 살고 있는지 출력하라. 단, 아파트에는 0층부터 있고 각층에는 1호부터 있으며, 0층의 i호에는 i명이 산다."
      ],
      "metadata": {
        "id": "6bCwLV_yznwg"
      }
    },
    {
      "cell_type": "markdown",
      "source": [
        "- 재귀함수 이용 -> 시간초과\n",
        "\n",
        "\n",
        "    a층의 1호:1명\n",
        "\n",
        "    a층의 2호: 1 + (a-1)층의 2호"
      ],
      "metadata": {
        "id": "XFIWXPxZ1aKs"
      }
    },
    {
      "cell_type": "code",
      "source": [
        "def resident(floor, num):\n",
        "  if floor == 0:\n",
        "    return num\n",
        "  else:\n",
        "    sum = 0\n",
        "    for i in range(1, num+1):\n",
        "      sum+= resident(floor-1, i)\n",
        "    return sum\n",
        "\n",
        "rep = int(input())\n",
        "for i in range(rep):\n",
        "  k = int(input())\n",
        "  n = int(input())\n",
        "  print(resident(k,n))"
      ],
      "metadata": {
        "colab": {
          "base_uri": "https://localhost:8080/"
        },
        "id": "VMzapV4sNIMA",
        "outputId": "a7ec14ed-227c-4f66-d863-950c3076f098"
      },
      "execution_count": null,
      "outputs": [
        {
          "output_type": "stream",
          "name": "stdout",
          "text": [
            "2\n",
            "1\n",
            "3\n",
            "6\n",
            "2\n",
            "3\n",
            "10\n"
          ]
        }
      ]
    },
    {
      "cell_type": "markdown",
      "source": [
        "- 아래 층, 위층에 사는 사람들의 인원수를 두 리스트로 만들어 조사"
      ],
      "metadata": {
        "id": "__Bd8I_zgR6e"
      }
    },
    {
      "cell_type": "code",
      "source": [
        "down_floor = []\n",
        "up_floor = []\n",
        "rep = int(input())\n",
        "for i in range(rep):\n",
        "  k = int(input())\n",
        "  n = int(input())\n",
        "  resident = 0\n",
        "  for floor in range(k+1):\n",
        "    for room in range(1,n+1):\n",
        "      if floor == 0:\n",
        "        resident += room\n",
        "        up_floor.append(room)\n",
        "      else:\n",
        "        up_floor.append(sum(down_floor[:room]))\n",
        "    down_floor = up_floor.copy()\n",
        "    up_floor.clear()\n",
        "  print(down_floor[-1])"
      ],
      "metadata": {
        "id": "h9dy6spJ1QKU",
        "colab": {
          "base_uri": "https://localhost:8080/"
        },
        "outputId": "0eabc917-d7fd-42cf-8c64-6dedf2659625"
      },
      "execution_count": null,
      "outputs": [
        {
          "output_type": "stream",
          "name": "stdout",
          "text": [
            "3\n",
            "1\n",
            "3\n",
            "6\n",
            "2\n",
            "3\n",
            "10\n",
            "3\n",
            "3\n",
            "15\n"
          ]
        }
      ]
    },
    {
      "cell_type": "markdown",
      "source": [
        "-\t2839번 설탕 배달"
      ],
      "metadata": {
        "id": "IDHw942hNJi4"
      }
    },
    {
      "cell_type": "markdown",
      "source": [
        "상근이는 요즘 설탕공장에서 설탕을 배달하고 있다. 상근이는 지금 사탕가게에 설탕을 정확하게 N킬로그램을 배달해야 한다. 설탕공장에서 만드는 설탕은 봉지에 담겨져 있다. 봉지는 3킬로그램 봉지와 5킬로그램 봉지가 있다.\n",
        "\n",
        "상근이는 귀찮기 때문에, 최대한 적은 봉지를 들고 가려고 한다. 예를 들어, 18킬로그램 설탕을 배달해야 할 때, 3킬로그램 봉지 6개를 가져가도 되지만, 5킬로그램 3개와 3킬로그램 1개를 배달하면, 더 적은 개수의 봉지를 배달할 수 있다.\n",
        "\n",
        "상근이가 설탕을 정확하게 N킬로그램 배달해야 할 때, 봉지 몇 개를 가져가면 되는지 그 수를 구하는 프로그램을 작성하시오."
      ],
      "metadata": {
        "id": "OSURa1YvggYn"
      }
    },
    {
      "cell_type": "code",
      "source": [
        "n = int(input())\n",
        "q = n // 5\n",
        "for i in range(q+1):\n",
        "  sugar = n\n",
        "  sugar-= 5*(q-i)\n",
        "  if sugar % 3 == 0:\n",
        "    print(q-i + sugar//3)\n",
        "    break\n",
        "  if i == q: # 방법이 없다면 (for문을 중단하지 못한다면)\n",
        "    print(-1)"
      ],
      "metadata": {
        "id": "CNtBnFxANKuq",
        "colab": {
          "base_uri": "https://localhost:8080/"
        },
        "outputId": "c7acbed6-a0da-4f27-83c0-2500bffa18cf"
      },
      "execution_count": null,
      "outputs": [
        {
          "output_type": "stream",
          "name": "stdout",
          "text": [
            "11\n",
            "3\n"
          ]
        }
      ]
    },
    {
      "cell_type": "markdown",
      "source": [
        "- 10757번\t큰 수 A+B"
      ],
      "metadata": {
        "id": "3M5oXjfPNMTV"
      }
    },
    {
      "cell_type": "markdown",
      "source": [
        "두 정수 A와 B를 입력받은 다음, A+B를 출력하는 프로그램을 작성하시오."
      ],
      "metadata": {
        "id": "_mReBnb-jS-g"
      }
    },
    {
      "cell_type": "code",
      "source": [
        "a,b = map(int,input().split())\n",
        "print(a+b)"
      ],
      "metadata": {
        "colab": {
          "base_uri": "https://localhost:8080/"
        },
        "id": "TNeWKU8rjUV2",
        "outputId": "afb3ce46-55ca-4df5-a43c-bb2a299495d9"
      },
      "execution_count": null,
      "outputs": [
        {
          "output_type": "stream",
          "name": "stdout",
          "text": [
            "9223372036854775807 9223372036854775808\n",
            "18446744073709551615\n"
          ]
        }
      ]
    }
  ]
}